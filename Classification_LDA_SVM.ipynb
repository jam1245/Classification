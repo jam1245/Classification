{
 "cells": [
  {
   "cell_type": "markdown",
   "metadata": {},
   "source": [
    "## Classification \n",
    "\n",
    "Here I'm applying some common classification algorithms on the songs and glass datasets. The songs dataset captures details about a song year when it is released, title, artist name, loudness pitch, tempo, timbre values etc. All this independent values are used to predict if the song has made it to the top 10 list. I'll apply a logistic regression model to the songs dataset."
   ]
  },
  {
   "cell_type": "markdown",
   "metadata": {},
   "source": [
    "Reading the data from dataset"
   ]
  },
  {
   "cell_type": "code",
   "execution_count": 1,
   "metadata": {},
   "outputs": [
    {
     "data": {
      "text/html": [
       "<table>\n",
       "<thead><tr><th scope=col>year</th><th scope=col>songtitle</th><th scope=col>artistname</th><th scope=col>songID</th><th scope=col>artistID</th><th scope=col>timesignature</th><th scope=col>timesignature_confidence</th><th scope=col>loudness</th><th scope=col>tempo</th><th scope=col>tempo_confidence</th><th scope=col>⋯</th><th scope=col>timbre_7_max</th><th scope=col>timbre_8_min</th><th scope=col>timbre_8_max</th><th scope=col>timbre_9_min</th><th scope=col>timbre_9_max</th><th scope=col>timbre_10_min</th><th scope=col>timbre_10_max</th><th scope=col>timbre_11_min</th><th scope=col>timbre_11_max</th><th scope=col>Top10</th></tr></thead>\n",
       "<tbody>\n",
       "\t<tr><td>2010                              </td><td>This Is the House That Doubt Built</td><td>A Day to Remember                 </td><td>SOBGGAB12C5664F054                </td><td>AROBSHL1187B9AFB01                </td><td>3                                 </td><td>0.853                             </td><td>-4.262                            </td><td> 91.525                           </td><td>0.953                             </td><td>⋯                                 </td><td> 82.475                           </td><td>-52.025                           </td><td>39.116                            </td><td>-35.368                           </td><td>71.642                            </td><td>-126.440                          </td><td> 18.658                           </td><td>-44.770                           </td><td>25.989                            </td><td>0                                 </td></tr>\n",
       "\t<tr><td>2010                                                                          </td><td><span style=white-space:pre-wrap>Sticks &amp; Bricks                   </span></td><td>A Day to Remember                                                             </td><td>SOPAQHU1315CD47F31                                                            </td><td>AROBSHL1187B9AFB01                                                            </td><td>4                                                                             </td><td>1.000                                                                         </td><td>-4.051                                                                        </td><td>140.048                                                                       </td><td>0.921                                                                         </td><td>⋯                                                                             </td><td>106.918                                                                       </td><td>-61.320                                                                       </td><td>35.378                                                                        </td><td>-81.928                                                                       </td><td>74.574                                                                        </td><td>-103.808                                                                      </td><td>121.935                                                                       </td><td>-38.892                                                                       </td><td>22.513                                                                        </td><td>0                                                                             </td></tr>\n",
       "\t<tr><td>2010                              </td><td>All I Want                        </td><td>A Day to Remember                 </td><td>SOOIZOU1376E7C6386                </td><td>AROBSHL1187B9AFB01                </td><td>4                                 </td><td>1.000                             </td><td>-3.571                            </td><td>160.512                           </td><td>0.489                             </td><td>⋯                                 </td><td> 80.621                           </td><td>-59.773                           </td><td>45.979                            </td><td>-46.293                           </td><td>59.904                            </td><td>-108.313                          </td><td> 33.300                           </td><td>-43.733                           </td><td>25.744                            </td><td>0                                 </td></tr>\n",
       "\t<tr><td>2010                              </td><td>It's Complicated                  </td><td>A Day to Remember                 </td><td>SODRYWD1315CD49DBE                </td><td>AROBSHL1187B9AFB01                </td><td>4                                 </td><td>1.000                             </td><td>-3.815                            </td><td> 97.525                           </td><td>0.794                             </td><td>⋯                                 </td><td> 96.675                           </td><td>-78.660                           </td><td>41.088                            </td><td>-49.194                           </td><td>95.440                            </td><td>-102.676                          </td><td> 46.422                           </td><td>-59.439                           </td><td>37.082                            </td><td>0                                 </td></tr>\n",
       "\t<tr><td>2010                              </td><td>2nd Sucks                         </td><td>A Day to Remember                 </td><td>SOICMQB1315CD46EE3                </td><td>AROBSHL1187B9AFB01                </td><td>4                                 </td><td>0.788                             </td><td>-4.707                            </td><td>140.053                           </td><td>0.286                             </td><td>⋯                                 </td><td>110.332                           </td><td>-56.450                           </td><td>37.555                            </td><td>-48.588                           </td><td>67.570                            </td><td> -52.796                          </td><td> 22.888                           </td><td>-50.414                           </td><td>32.758                            </td><td>0                                 </td></tr>\n",
       "\t<tr><td>2010                              </td><td>Better Off This Way               </td><td>A Day to Remember                 </td><td>SOCEYON1315CD4A23E                </td><td>AROBSHL1187B9AFB01                </td><td>4                                 </td><td>1.000                             </td><td>-3.807                            </td><td>160.366                           </td><td>0.347                             </td><td>⋯                                 </td><td> 91.117                           </td><td>-54.378                           </td><td>53.808                            </td><td>-33.183                           </td><td>54.657                            </td><td> -64.478                          </td><td> 34.522                           </td><td>-40.922                           </td><td>36.453                            </td><td>0                                 </td></tr>\n",
       "</tbody>\n",
       "</table>\n"
      ],
      "text/latex": [
       "\\begin{tabular}{r|lllllllllllllllllllllllllllllllllllllll}\n",
       " year & songtitle & artistname & songID & artistID & timesignature & timesignature\\_confidence & loudness & tempo & tempo\\_confidence & ⋯ & timbre\\_7\\_max & timbre\\_8\\_min & timbre\\_8\\_max & timbre\\_9\\_min & timbre\\_9\\_max & timbre\\_10\\_min & timbre\\_10\\_max & timbre\\_11\\_min & timbre\\_11\\_max & Top10\\\\\n",
       "\\hline\n",
       "\t 2010                               & This Is the House That Doubt Built & A Day to Remember                  & SOBGGAB12C5664F054                 & AROBSHL1187B9AFB01                 & 3                                  & 0.853                              & -4.262                             &  91.525                            & 0.953                              & ⋯                                  &  82.475                            & -52.025                            & 39.116                             & -35.368                            & 71.642                             & -126.440                           &  18.658                            & -44.770                            & 25.989                             & 0                                 \\\\\n",
       "\t 2010                                 & Sticks \\& Bricks                    & A Day to Remember                    & SOPAQHU1315CD47F31                   & AROBSHL1187B9AFB01                   & 4                                    & 1.000                                & -4.051                               & 140.048                              & 0.921                                & ⋯                                    & 106.918                              & -61.320                              & 35.378                               & -81.928                              & 74.574                               & -103.808                             & 121.935                              & -38.892                              & 22.513                               & 0                                   \\\\\n",
       "\t 2010                               & All I Want                         & A Day to Remember                  & SOOIZOU1376E7C6386                 & AROBSHL1187B9AFB01                 & 4                                  & 1.000                              & -3.571                             & 160.512                            & 0.489                              & ⋯                                  &  80.621                            & -59.773                            & 45.979                             & -46.293                            & 59.904                             & -108.313                           &  33.300                            & -43.733                            & 25.744                             & 0                                 \\\\\n",
       "\t 2010                               & It's Complicated                   & A Day to Remember                  & SODRYWD1315CD49DBE                 & AROBSHL1187B9AFB01                 & 4                                  & 1.000                              & -3.815                             &  97.525                            & 0.794                              & ⋯                                  &  96.675                            & -78.660                            & 41.088                             & -49.194                            & 95.440                             & -102.676                           &  46.422                            & -59.439                            & 37.082                             & 0                                 \\\\\n",
       "\t 2010                               & 2nd Sucks                          & A Day to Remember                  & SOICMQB1315CD46EE3                 & AROBSHL1187B9AFB01                 & 4                                  & 0.788                              & -4.707                             & 140.053                            & 0.286                              & ⋯                                  & 110.332                            & -56.450                            & 37.555                             & -48.588                            & 67.570                             &  -52.796                           &  22.888                            & -50.414                            & 32.758                             & 0                                 \\\\\n",
       "\t 2010                               & Better Off This Way                & A Day to Remember                  & SOCEYON1315CD4A23E                 & AROBSHL1187B9AFB01                 & 4                                  & 1.000                              & -3.807                             & 160.366                            & 0.347                              & ⋯                                  &  91.117                            & -54.378                            & 53.808                             & -33.183                            & 54.657                             &  -64.478                           &  34.522                            & -40.922                            & 36.453                             & 0                                 \\\\\n",
       "\\end{tabular}\n"
      ],
      "text/markdown": [
       "\n",
       "year | songtitle | artistname | songID | artistID | timesignature | timesignature_confidence | loudness | tempo | tempo_confidence | ⋯ | timbre_7_max | timbre_8_min | timbre_8_max | timbre_9_min | timbre_9_max | timbre_10_min | timbre_10_max | timbre_11_min | timbre_11_max | Top10 | \n",
       "|---|---|---|---|---|---|\n",
       "| 2010                               | This Is the House That Doubt Built | A Day to Remember                  | SOBGGAB12C5664F054                 | AROBSHL1187B9AFB01                 | 3                                  | 0.853                              | -4.262                             |  91.525                            | 0.953                              | ⋯                                  |  82.475                            | -52.025                            | 39.116                             | -35.368                            | 71.642                             | -126.440                           |  18.658                            | -44.770                            | 25.989                             | 0                                  | \n",
       "| 2010                               | Sticks & Bricks                    | A Day to Remember                  | SOPAQHU1315CD47F31                 | AROBSHL1187B9AFB01                 | 4                                  | 1.000                              | -4.051                             | 140.048                            | 0.921                              | ⋯                                  | 106.918                            | -61.320                            | 35.378                             | -81.928                            | 74.574                             | -103.808                           | 121.935                            | -38.892                            | 22.513                             | 0                                  | \n",
       "| 2010                               | All I Want                         | A Day to Remember                  | SOOIZOU1376E7C6386                 | AROBSHL1187B9AFB01                 | 4                                  | 1.000                              | -3.571                             | 160.512                            | 0.489                              | ⋯                                  |  80.621                            | -59.773                            | 45.979                             | -46.293                            | 59.904                             | -108.313                           |  33.300                            | -43.733                            | 25.744                             | 0                                  | \n",
       "| 2010                               | It's Complicated                   | A Day to Remember                  | SODRYWD1315CD49DBE                 | AROBSHL1187B9AFB01                 | 4                                  | 1.000                              | -3.815                             |  97.525                            | 0.794                              | ⋯                                  |  96.675                            | -78.660                            | 41.088                             | -49.194                            | 95.440                             | -102.676                           |  46.422                            | -59.439                            | 37.082                             | 0                                  | \n",
       "| 2010                               | 2nd Sucks                          | A Day to Remember                  | SOICMQB1315CD46EE3                 | AROBSHL1187B9AFB01                 | 4                                  | 0.788                              | -4.707                             | 140.053                            | 0.286                              | ⋯                                  | 110.332                            | -56.450                            | 37.555                             | -48.588                            | 67.570                             |  -52.796                           |  22.888                            | -50.414                            | 32.758                             | 0                                  | \n",
       "| 2010                               | Better Off This Way                | A Day to Remember                  | SOCEYON1315CD4A23E                 | AROBSHL1187B9AFB01                 | 4                                  | 1.000                              | -3.807                             | 160.366                            | 0.347                              | ⋯                                  |  91.117                            | -54.378                            | 53.808                             | -33.183                            | 54.657                             |  -64.478                           |  34.522                            | -40.922                            | 36.453                             | 0                                  | \n",
       "\n",
       "\n"
      ],
      "text/plain": [
       "  year songtitle                          artistname        songID            \n",
       "1 2010 This Is the House That Doubt Built A Day to Remember SOBGGAB12C5664F054\n",
       "2 2010 Sticks & Bricks                    A Day to Remember SOPAQHU1315CD47F31\n",
       "3 2010 All I Want                         A Day to Remember SOOIZOU1376E7C6386\n",
       "4 2010 It's Complicated                   A Day to Remember SODRYWD1315CD49DBE\n",
       "5 2010 2nd Sucks                          A Day to Remember SOICMQB1315CD46EE3\n",
       "6 2010 Better Off This Way                A Day to Remember SOCEYON1315CD4A23E\n",
       "  artistID           timesignature timesignature_confidence loudness tempo  \n",
       "1 AROBSHL1187B9AFB01 3             0.853                    -4.262    91.525\n",
       "2 AROBSHL1187B9AFB01 4             1.000                    -4.051   140.048\n",
       "3 AROBSHL1187B9AFB01 4             1.000                    -3.571   160.512\n",
       "4 AROBSHL1187B9AFB01 4             1.000                    -3.815    97.525\n",
       "5 AROBSHL1187B9AFB01 4             0.788                    -4.707   140.053\n",
       "6 AROBSHL1187B9AFB01 4             1.000                    -3.807   160.366\n",
       "  tempo_confidence ⋯ timbre_7_max timbre_8_min timbre_8_max timbre_9_min\n",
       "1 0.953            ⋯  82.475      -52.025      39.116       -35.368     \n",
       "2 0.921            ⋯ 106.918      -61.320      35.378       -81.928     \n",
       "3 0.489            ⋯  80.621      -59.773      45.979       -46.293     \n",
       "4 0.794            ⋯  96.675      -78.660      41.088       -49.194     \n",
       "5 0.286            ⋯ 110.332      -56.450      37.555       -48.588     \n",
       "6 0.347            ⋯  91.117      -54.378      53.808       -33.183     \n",
       "  timbre_9_max timbre_10_min timbre_10_max timbre_11_min timbre_11_max Top10\n",
       "1 71.642       -126.440       18.658       -44.770       25.989        0    \n",
       "2 74.574       -103.808      121.935       -38.892       22.513        0    \n",
       "3 59.904       -108.313       33.300       -43.733       25.744        0    \n",
       "4 95.440       -102.676       46.422       -59.439       37.082        0    \n",
       "5 67.570        -52.796       22.888       -50.414       32.758        0    \n",
       "6 54.657        -64.478       34.522       -40.922       36.453        0    "
      ]
     },
     "metadata": {},
     "output_type": "display_data"
    }
   ],
   "source": [
    "songs_data <- read.csv(\"../../datasets/songs/songs.csv\", fileEncoding=\"latin1\")\n",
    "head(songs_data)"
   ]
  },
  {
   "cell_type": "code",
   "execution_count": 2,
   "metadata": {},
   "outputs": [
    {
     "name": "stdout",
     "output_type": "stream",
     "text": [
      "'data.frame':\t7574 obs. of  39 variables:\n",
      " $ year                    : int  2010 2010 2010 2010 2010 2010 2010 2010 2010 2010 ...\n",
      " $ songtitle               : Factor w/ 7141 levels \"_\\u0084\\u008d\",..: 6203 5521 238 3113 45 605 252 4417 2884 6756 ...\n",
      " $ artistname              : Factor w/ 1032 levels \"50 Cent\",\"98 Degrees\",..: 3 3 3 3 3 3 3 3 3 12 ...\n",
      " $ songID                  : Factor w/ 7549 levels \"SOAACNI1315CD4AC42\",..: 595 5439 5252 1716 3431 1020 1831 3964 6904 2473 ...\n",
      " $ artistID                : Factor w/ 1047 levels \"AR00B1I1187FB433EB\",..: 671 671 671 671 671 671 671 671 671 507 ...\n",
      " $ timesignature           : int  3 4 4 4 4 4 4 4 4 4 ...\n",
      " $ timesignature_confidence: num  0.853 1 1 1 0.788 1 0.968 0.861 0.622 0.938 ...\n",
      " $ loudness                : num  -4.26 -4.05 -3.57 -3.81 -4.71 ...\n",
      " $ tempo                   : num  91.5 140 160.5 97.5 140.1 ...\n",
      " $ tempo_confidence        : num  0.953 0.921 0.489 0.794 0.286 0.347 0.273 0.83 0.018 0.929 ...\n",
      " $ key                     : int  11 10 2 1 6 4 10 5 9 11 ...\n",
      " $ key_confidence          : num  0.453 0.469 0.209 0.632 0.483 0.627 0.715 0.423 0.751 0.602 ...\n",
      " $ energy                  : num  0.967 0.985 0.99 0.939 0.988 ...\n",
      " $ pitch                   : num  0.024 0.025 0.026 0.013 0.063 0.038 0.026 0.033 0.027 0.004 ...\n",
      " $ timbre_0_min            : num  0.002 0 0.003 0 0 ...\n",
      " $ timbre_0_max            : num  57.3 57.4 57.4 57.8 56.9 ...\n",
      " $ timbre_1_min            : num  -6.5 -37.4 -17.2 -32.1 -223.9 ...\n",
      " $ timbre_1_max            : num  171 171 171 221 171 ...\n",
      " $ timbre_2_min            : num  -81.7 -149.6 -72.9 -138.6 -147.2 ...\n",
      " $ timbre_2_max            : num  95.1 180.3 157.9 173.4 166 ...\n",
      " $ timbre_3_min            : num  -285 -380.1 -204 -73.5 -128.1 ...\n",
      " $ timbre_3_max            : num  259 384 251 373 389 ...\n",
      " $ timbre_4_min            : num  -40.4 -48.7 -66 -55.6 -43.9 ...\n",
      " $ timbre_4_max            : num  73.6 100.4 152.1 119.2 99.3 ...\n",
      " $ timbre_5_min            : num  -104.7 -87.3 -98.7 -77.5 -96.1 ...\n",
      " $ timbre_5_max            : num  183.1 42.8 141.4 141.2 38.3 ...\n",
      " $ timbre_6_min            : num  -88.8 -86.9 -88.9 -70.8 -110.8 ...\n",
      " $ timbre_6_max            : num  73.5 75.5 66.5 64.5 72.4 ...\n",
      " $ timbre_7_min            : num  -71.1 -65.8 -67.4 -63.7 -55.9 ...\n",
      " $ timbre_7_max            : num  82.5 106.9 80.6 96.7 110.3 ...\n",
      " $ timbre_8_min            : num  -52 -61.3 -59.8 -78.7 -56.5 ...\n",
      " $ timbre_8_max            : num  39.1 35.4 46 41.1 37.6 ...\n",
      " $ timbre_9_min            : num  -35.4 -81.9 -46.3 -49.2 -48.6 ...\n",
      " $ timbre_9_max            : num  71.6 74.6 59.9 95.4 67.6 ...\n",
      " $ timbre_10_min           : num  -126.4 -103.8 -108.3 -102.7 -52.8 ...\n",
      " $ timbre_10_max           : num  18.7 121.9 33.3 46.4 22.9 ...\n",
      " $ timbre_11_min           : num  -44.8 -38.9 -43.7 -59.4 -50.4 ...\n",
      " $ timbre_11_max           : num  26 22.5 25.7 37.1 32.8 ...\n",
      " $ Top10                   : int  0 0 0 0 0 0 0 0 0 1 ...\n"
     ]
    },
    {
     "data": {
      "text/plain": [
       "\n",
       "1990 1991 1992 1993 1994 1995 1996 1997 1998 1999 2000 2001 2002 2003 2004 2005 \n",
       " 328  196  186  324  198  258  178  329  380  357  363  282  518  434  479  392 \n",
       "2006 2007 2008 2009 2010 \n",
       " 479  622  415  483  373 "
      ]
     },
     "metadata": {},
     "output_type": "display_data"
    }
   ],
   "source": [
    "str(songs_data)\n",
    "table(songs_data$year)"
   ]
  },
  {
   "cell_type": "markdown",
   "metadata": {},
   "source": [
    "Let's start by splitting the songs_data dataframe into train and test sets.  We will put songs prior to the year 2009 in the train data and songs in 2010 in the test data. "
   ]
  },
  {
   "cell_type": "code",
   "execution_count": 3,
   "metadata": {},
   "outputs": [
    {
     "data": {
      "text/html": [
       "<table>\n",
       "<thead><tr><th scope=col>year</th><th scope=col>songtitle</th><th scope=col>artistname</th><th scope=col>songID</th><th scope=col>artistID</th><th scope=col>timesignature</th><th scope=col>timesignature_confidence</th><th scope=col>loudness</th><th scope=col>tempo</th><th scope=col>tempo_confidence</th><th scope=col>⋯</th><th scope=col>timbre_7_max</th><th scope=col>timbre_8_min</th><th scope=col>timbre_8_max</th><th scope=col>timbre_9_min</th><th scope=col>timbre_9_max</th><th scope=col>timbre_10_min</th><th scope=col>timbre_10_max</th><th scope=col>timbre_11_min</th><th scope=col>timbre_11_max</th><th scope=col>Top10</th></tr></thead>\n",
       "<tbody>\n",
       "\t<tr><td>2010                              </td><td>This Is the House That Doubt Built</td><td>A Day to Remember                 </td><td>SOBGGAB12C5664F054                </td><td>AROBSHL1187B9AFB01                </td><td>3                                 </td><td>0.853                             </td><td>-4.262                            </td><td> 91.525                           </td><td>0.953                             </td><td>⋯                                 </td><td> 82.475                           </td><td>-52.025                           </td><td>39.116                            </td><td>-35.368                           </td><td>71.642                            </td><td>-126.440                          </td><td> 18.658                           </td><td>-44.770                           </td><td>25.989                            </td><td>0                                 </td></tr>\n",
       "\t<tr><td>2010                                                                          </td><td><span style=white-space:pre-wrap>Sticks &amp; Bricks                   </span></td><td>A Day to Remember                                                             </td><td>SOPAQHU1315CD47F31                                                            </td><td>AROBSHL1187B9AFB01                                                            </td><td>4                                                                             </td><td>1.000                                                                         </td><td>-4.051                                                                        </td><td>140.048                                                                       </td><td>0.921                                                                         </td><td>⋯                                                                             </td><td>106.918                                                                       </td><td>-61.320                                                                       </td><td>35.378                                                                        </td><td>-81.928                                                                       </td><td>74.574                                                                        </td><td>-103.808                                                                      </td><td>121.935                                                                       </td><td>-38.892                                                                       </td><td>22.513                                                                        </td><td>0                                                                             </td></tr>\n",
       "</tbody>\n",
       "</table>\n"
      ],
      "text/latex": [
       "\\begin{tabular}{r|lllllllllllllllllllllllllllllllllllllll}\n",
       " year & songtitle & artistname & songID & artistID & timesignature & timesignature\\_confidence & loudness & tempo & tempo\\_confidence & ⋯ & timbre\\_7\\_max & timbre\\_8\\_min & timbre\\_8\\_max & timbre\\_9\\_min & timbre\\_9\\_max & timbre\\_10\\_min & timbre\\_10\\_max & timbre\\_11\\_min & timbre\\_11\\_max & Top10\\\\\n",
       "\\hline\n",
       "\t 2010                               & This Is the House That Doubt Built & A Day to Remember                  & SOBGGAB12C5664F054                 & AROBSHL1187B9AFB01                 & 3                                  & 0.853                              & -4.262                             &  91.525                            & 0.953                              & ⋯                                  &  82.475                            & -52.025                            & 39.116                             & -35.368                            & 71.642                             & -126.440                           &  18.658                            & -44.770                            & 25.989                             & 0                                 \\\\\n",
       "\t 2010                                 & Sticks \\& Bricks                    & A Day to Remember                    & SOPAQHU1315CD47F31                   & AROBSHL1187B9AFB01                   & 4                                    & 1.000                                & -4.051                               & 140.048                              & 0.921                                & ⋯                                    & 106.918                              & -61.320                              & 35.378                               & -81.928                              & 74.574                               & -103.808                             & 121.935                              & -38.892                              & 22.513                               & 0                                   \\\\\n",
       "\\end{tabular}\n"
      ],
      "text/markdown": [
       "\n",
       "year | songtitle | artistname | songID | artistID | timesignature | timesignature_confidence | loudness | tempo | tempo_confidence | ⋯ | timbre_7_max | timbre_8_min | timbre_8_max | timbre_9_min | timbre_9_max | timbre_10_min | timbre_10_max | timbre_11_min | timbre_11_max | Top10 | \n",
       "|---|---|\n",
       "| 2010                               | This Is the House That Doubt Built | A Day to Remember                  | SOBGGAB12C5664F054                 | AROBSHL1187B9AFB01                 | 3                                  | 0.853                              | -4.262                             |  91.525                            | 0.953                              | ⋯                                  |  82.475                            | -52.025                            | 39.116                             | -35.368                            | 71.642                             | -126.440                           |  18.658                            | -44.770                            | 25.989                             | 0                                  | \n",
       "| 2010                               | Sticks & Bricks                    | A Day to Remember                  | SOPAQHU1315CD47F31                 | AROBSHL1187B9AFB01                 | 4                                  | 1.000                              | -4.051                             | 140.048                            | 0.921                              | ⋯                                  | 106.918                            | -61.320                            | 35.378                             | -81.928                            | 74.574                             | -103.808                           | 121.935                            | -38.892                            | 22.513                             | 0                                  | \n",
       "\n",
       "\n"
      ],
      "text/plain": [
       "  year songtitle                          artistname        songID            \n",
       "1 2010 This Is the House That Doubt Built A Day to Remember SOBGGAB12C5664F054\n",
       "2 2010 Sticks & Bricks                    A Day to Remember SOPAQHU1315CD47F31\n",
       "  artistID           timesignature timesignature_confidence loudness tempo  \n",
       "1 AROBSHL1187B9AFB01 3             0.853                    -4.262    91.525\n",
       "2 AROBSHL1187B9AFB01 4             1.000                    -4.051   140.048\n",
       "  tempo_confidence ⋯ timbre_7_max timbre_8_min timbre_8_max timbre_9_min\n",
       "1 0.953            ⋯  82.475      -52.025      39.116       -35.368     \n",
       "2 0.921            ⋯ 106.918      -61.320      35.378       -81.928     \n",
       "  timbre_9_max timbre_10_min timbre_10_max timbre_11_min timbre_11_max Top10\n",
       "1 71.642       -126.440       18.658       -44.770       25.989        0    \n",
       "2 74.574       -103.808      121.935       -38.892       22.513        0    "
      ]
     },
     "metadata": {},
     "output_type": "display_data"
    },
    {
     "data": {
      "text/html": [
       "<table>\n",
       "<thead><tr><th></th><th scope=col>year</th><th scope=col>songtitle</th><th scope=col>artistname</th><th scope=col>songID</th><th scope=col>artistID</th><th scope=col>timesignature</th><th scope=col>timesignature_confidence</th><th scope=col>loudness</th><th scope=col>tempo</th><th scope=col>tempo_confidence</th><th scope=col>⋯</th><th scope=col>timbre_7_max</th><th scope=col>timbre_8_min</th><th scope=col>timbre_8_max</th><th scope=col>timbre_9_min</th><th scope=col>timbre_9_max</th><th scope=col>timbre_10_min</th><th scope=col>timbre_10_max</th><th scope=col>timbre_11_min</th><th scope=col>timbre_11_max</th><th scope=col>Top10</th></tr></thead>\n",
       "<tbody>\n",
       "\t<tr><th scope=row>374</th><td>2009               </td><td>The Awkward Goodbye</td><td>Athlete            </td><td>SOUALGK12AB017FC37 </td><td>ARDW3YJ1187FB4CCE5 </td><td>3                  </td><td>0.732              </td><td>-6.320             </td><td> 89.614            </td><td>0.652              </td><td>⋯                  </td><td> 70.975            </td><td>-71.776            </td><td>58.432             </td><td>-53.816            </td><td>88.571             </td><td>-89.816            </td><td>38.026             </td><td>-52.075            </td><td>52.827             </td><td>0                  </td></tr>\n",
       "\t<tr><th scope=row>375</th><td>2009               </td><td>Rubik's Cube       </td><td>Athlete            </td><td>SOGPIQC12AB0182B15 </td><td>ARDW3YJ1187FB4CCE5 </td><td>3                  </td><td>0.906              </td><td>-9.541             </td><td>117.742            </td><td>0.542              </td><td>⋯                  </td><td>112.879            </td><td>-64.470            </td><td>58.086             </td><td>-76.937            </td><td>74.441             </td><td>-88.244            </td><td>42.209             </td><td>-66.812            </td><td>40.749             </td><td>0                  </td></tr>\n",
       "</tbody>\n",
       "</table>\n"
      ],
      "text/latex": [
       "\\begin{tabular}{r|lllllllllllllllllllllllllllllllllllllll}\n",
       "  & year & songtitle & artistname & songID & artistID & timesignature & timesignature\\_confidence & loudness & tempo & tempo\\_confidence & ⋯ & timbre\\_7\\_max & timbre\\_8\\_min & timbre\\_8\\_max & timbre\\_9\\_min & timbre\\_9\\_max & timbre\\_10\\_min & timbre\\_10\\_max & timbre\\_11\\_min & timbre\\_11\\_max & Top10\\\\\n",
       "\\hline\n",
       "\t374 & 2009                & The Awkward Goodbye & Athlete             & SOUALGK12AB017FC37  & ARDW3YJ1187FB4CCE5  & 3                   & 0.732               & -6.320              &  89.614             & 0.652               & ⋯                   &  70.975             & -71.776             & 58.432              & -53.816             & 88.571              & -89.816             & 38.026              & -52.075             & 52.827              & 0                  \\\\\n",
       "\t375 & 2009                & Rubik's Cube        & Athlete             & SOGPIQC12AB0182B15  & ARDW3YJ1187FB4CCE5  & 3                   & 0.906               & -9.541              & 117.742             & 0.542               & ⋯                   & 112.879             & -64.470             & 58.086              & -76.937             & 74.441              & -88.244             & 42.209              & -66.812             & 40.749              & 0                  \\\\\n",
       "\\end{tabular}\n"
      ],
      "text/markdown": [
       "\n",
       "| <!--/--> | year | songtitle | artistname | songID | artistID | timesignature | timesignature_confidence | loudness | tempo | tempo_confidence | ⋯ | timbre_7_max | timbre_8_min | timbre_8_max | timbre_9_min | timbre_9_max | timbre_10_min | timbre_10_max | timbre_11_min | timbre_11_max | Top10 | \n",
       "|---|---|\n",
       "| 374 | 2009                | The Awkward Goodbye | Athlete             | SOUALGK12AB017FC37  | ARDW3YJ1187FB4CCE5  | 3                   | 0.732               | -6.320              |  89.614             | 0.652               | ⋯                   |  70.975             | -71.776             | 58.432              | -53.816             | 88.571              | -89.816             | 38.026              | -52.075             | 52.827              | 0                   | \n",
       "| 375 | 2009                | Rubik's Cube        | Athlete             | SOGPIQC12AB0182B15  | ARDW3YJ1187FB4CCE5  | 3                   | 0.906               | -9.541              | 117.742             | 0.542               | ⋯                   | 112.879             | -64.470             | 58.086              | -76.937             | 74.441              | -88.244             | 42.209              | -66.812             | 40.749              | 0                   | \n",
       "\n",
       "\n"
      ],
      "text/plain": [
       "    year songtitle           artistname songID             artistID          \n",
       "374 2009 The Awkward Goodbye Athlete    SOUALGK12AB017FC37 ARDW3YJ1187FB4CCE5\n",
       "375 2009 Rubik's Cube        Athlete    SOGPIQC12AB0182B15 ARDW3YJ1187FB4CCE5\n",
       "    timesignature timesignature_confidence loudness tempo   tempo_confidence ⋯\n",
       "374 3             0.732                    -6.320    89.614 0.652            ⋯\n",
       "375 3             0.906                    -9.541   117.742 0.542            ⋯\n",
       "    timbre_7_max timbre_8_min timbre_8_max timbre_9_min timbre_9_max\n",
       "374  70.975      -71.776      58.432       -53.816      88.571      \n",
       "375 112.879      -64.470      58.086       -76.937      74.441      \n",
       "    timbre_10_min timbre_10_max timbre_11_min timbre_11_max Top10\n",
       "374 -89.816       38.026        -52.075       52.827        0    \n",
       "375 -88.244       42.209        -66.812       40.749        0    "
      ]
     },
     "metadata": {},
     "output_type": "display_data"
    }
   ],
   "source": [
    "#split the data into train and test sets\n",
    "songs_traindata <- subset(songs_data, year <=2009) \n",
    "songs_testdata <- subset(songs_data, year=2010)\n",
    "head(songs_testdata,2)\n",
    "head(songs_traindata,2)\n"
   ]
  },
  {
   "cell_type": "markdown",
   "metadata": {},
   "source": [
    "Now we need to clean the data a bit. Let's remove the following independent variables (\"year\", \"songtitle\", \"artistname\", \"songID\", and \"artistID\") from songs_traindata and songs_testdata."
   ]
  },
  {
   "cell_type": "code",
   "execution_count": 4,
   "metadata": {},
   "outputs": [
    {
     "data": {
      "text/html": [
       "<ol class=list-inline>\n",
       "\t<li>'timesignature'</li>\n",
       "\t<li>'timesignature_confidence'</li>\n",
       "\t<li>'loudness'</li>\n",
       "\t<li>'tempo'</li>\n",
       "\t<li>'tempo_confidence'</li>\n",
       "\t<li>'key'</li>\n",
       "\t<li>'key_confidence'</li>\n",
       "\t<li>'energy'</li>\n",
       "\t<li>'pitch'</li>\n",
       "\t<li>'timbre_0_min'</li>\n",
       "\t<li>'timbre_0_max'</li>\n",
       "\t<li>'timbre_1_min'</li>\n",
       "\t<li>'timbre_1_max'</li>\n",
       "\t<li>'timbre_2_min'</li>\n",
       "\t<li>'timbre_2_max'</li>\n",
       "\t<li>'timbre_3_min'</li>\n",
       "\t<li>'timbre_3_max'</li>\n",
       "\t<li>'timbre_4_min'</li>\n",
       "\t<li>'timbre_4_max'</li>\n",
       "\t<li>'timbre_5_min'</li>\n",
       "\t<li>'timbre_5_max'</li>\n",
       "\t<li>'timbre_6_min'</li>\n",
       "\t<li>'timbre_6_max'</li>\n",
       "\t<li>'timbre_7_min'</li>\n",
       "\t<li>'timbre_7_max'</li>\n",
       "\t<li>'timbre_8_min'</li>\n",
       "\t<li>'timbre_8_max'</li>\n",
       "\t<li>'timbre_9_min'</li>\n",
       "\t<li>'timbre_9_max'</li>\n",
       "\t<li>'timbre_10_min'</li>\n",
       "\t<li>'timbre_10_max'</li>\n",
       "\t<li>'timbre_11_min'</li>\n",
       "\t<li>'timbre_11_max'</li>\n",
       "\t<li>'Top10'</li>\n",
       "</ol>\n"
      ],
      "text/latex": [
       "\\begin{enumerate*}\n",
       "\\item 'timesignature'\n",
       "\\item 'timesignature\\_confidence'\n",
       "\\item 'loudness'\n",
       "\\item 'tempo'\n",
       "\\item 'tempo\\_confidence'\n",
       "\\item 'key'\n",
       "\\item 'key\\_confidence'\n",
       "\\item 'energy'\n",
       "\\item 'pitch'\n",
       "\\item 'timbre\\_0\\_min'\n",
       "\\item 'timbre\\_0\\_max'\n",
       "\\item 'timbre\\_1\\_min'\n",
       "\\item 'timbre\\_1\\_max'\n",
       "\\item 'timbre\\_2\\_min'\n",
       "\\item 'timbre\\_2\\_max'\n",
       "\\item 'timbre\\_3\\_min'\n",
       "\\item 'timbre\\_3\\_max'\n",
       "\\item 'timbre\\_4\\_min'\n",
       "\\item 'timbre\\_4\\_max'\n",
       "\\item 'timbre\\_5\\_min'\n",
       "\\item 'timbre\\_5\\_max'\n",
       "\\item 'timbre\\_6\\_min'\n",
       "\\item 'timbre\\_6\\_max'\n",
       "\\item 'timbre\\_7\\_min'\n",
       "\\item 'timbre\\_7\\_max'\n",
       "\\item 'timbre\\_8\\_min'\n",
       "\\item 'timbre\\_8\\_max'\n",
       "\\item 'timbre\\_9\\_min'\n",
       "\\item 'timbre\\_9\\_max'\n",
       "\\item 'timbre\\_10\\_min'\n",
       "\\item 'timbre\\_10\\_max'\n",
       "\\item 'timbre\\_11\\_min'\n",
       "\\item 'timbre\\_11\\_max'\n",
       "\\item 'Top10'\n",
       "\\end{enumerate*}\n"
      ],
      "text/markdown": [
       "1. 'timesignature'\n",
       "2. 'timesignature_confidence'\n",
       "3. 'loudness'\n",
       "4. 'tempo'\n",
       "5. 'tempo_confidence'\n",
       "6. 'key'\n",
       "7. 'key_confidence'\n",
       "8. 'energy'\n",
       "9. 'pitch'\n",
       "10. 'timbre_0_min'\n",
       "11. 'timbre_0_max'\n",
       "12. 'timbre_1_min'\n",
       "13. 'timbre_1_max'\n",
       "14. 'timbre_2_min'\n",
       "15. 'timbre_2_max'\n",
       "16. 'timbre_3_min'\n",
       "17. 'timbre_3_max'\n",
       "18. 'timbre_4_min'\n",
       "19. 'timbre_4_max'\n",
       "20. 'timbre_5_min'\n",
       "21. 'timbre_5_max'\n",
       "22. 'timbre_6_min'\n",
       "23. 'timbre_6_max'\n",
       "24. 'timbre_7_min'\n",
       "25. 'timbre_7_max'\n",
       "26. 'timbre_8_min'\n",
       "27. 'timbre_8_max'\n",
       "28. 'timbre_9_min'\n",
       "29. 'timbre_9_max'\n",
       "30. 'timbre_10_min'\n",
       "31. 'timbre_10_max'\n",
       "32. 'timbre_11_min'\n",
       "33. 'timbre_11_max'\n",
       "34. 'Top10'\n",
       "\n",
       "\n"
      ],
      "text/plain": [
       " [1] \"timesignature\"            \"timesignature_confidence\"\n",
       " [3] \"loudness\"                 \"tempo\"                   \n",
       " [5] \"tempo_confidence\"         \"key\"                     \n",
       " [7] \"key_confidence\"           \"energy\"                  \n",
       " [9] \"pitch\"                    \"timbre_0_min\"            \n",
       "[11] \"timbre_0_max\"             \"timbre_1_min\"            \n",
       "[13] \"timbre_1_max\"             \"timbre_2_min\"            \n",
       "[15] \"timbre_2_max\"             \"timbre_3_min\"            \n",
       "[17] \"timbre_3_max\"             \"timbre_4_min\"            \n",
       "[19] \"timbre_4_max\"             \"timbre_5_min\"            \n",
       "[21] \"timbre_5_max\"             \"timbre_6_min\"            \n",
       "[23] \"timbre_6_max\"             \"timbre_7_min\"            \n",
       "[25] \"timbre_7_max\"             \"timbre_8_min\"            \n",
       "[27] \"timbre_8_max\"             \"timbre_9_min\"            \n",
       "[29] \"timbre_9_max\"             \"timbre_10_min\"           \n",
       "[31] \"timbre_10_max\"            \"timbre_11_min\"           \n",
       "[33] \"timbre_11_max\"            \"Top10\"                   "
      ]
     },
     "metadata": {},
     "output_type": "display_data"
    },
    {
     "data": {
      "text/html": [
       "<ol class=list-inline>\n",
       "\t<li>'timesignature'</li>\n",
       "\t<li>'timesignature_confidence'</li>\n",
       "\t<li>'loudness'</li>\n",
       "\t<li>'tempo'</li>\n",
       "\t<li>'tempo_confidence'</li>\n",
       "\t<li>'key'</li>\n",
       "\t<li>'key_confidence'</li>\n",
       "\t<li>'energy'</li>\n",
       "\t<li>'pitch'</li>\n",
       "\t<li>'timbre_0_min'</li>\n",
       "\t<li>'timbre_0_max'</li>\n",
       "\t<li>'timbre_1_min'</li>\n",
       "\t<li>'timbre_1_max'</li>\n",
       "\t<li>'timbre_2_min'</li>\n",
       "\t<li>'timbre_2_max'</li>\n",
       "\t<li>'timbre_3_min'</li>\n",
       "\t<li>'timbre_3_max'</li>\n",
       "\t<li>'timbre_4_min'</li>\n",
       "\t<li>'timbre_4_max'</li>\n",
       "\t<li>'timbre_5_min'</li>\n",
       "\t<li>'timbre_5_max'</li>\n",
       "\t<li>'timbre_6_min'</li>\n",
       "\t<li>'timbre_6_max'</li>\n",
       "\t<li>'timbre_7_min'</li>\n",
       "\t<li>'timbre_7_max'</li>\n",
       "\t<li>'timbre_8_min'</li>\n",
       "\t<li>'timbre_8_max'</li>\n",
       "\t<li>'timbre_9_min'</li>\n",
       "\t<li>'timbre_9_max'</li>\n",
       "\t<li>'timbre_10_min'</li>\n",
       "\t<li>'timbre_10_max'</li>\n",
       "\t<li>'timbre_11_min'</li>\n",
       "\t<li>'timbre_11_max'</li>\n",
       "\t<li>'Top10'</li>\n",
       "</ol>\n"
      ],
      "text/latex": [
       "\\begin{enumerate*}\n",
       "\\item 'timesignature'\n",
       "\\item 'timesignature\\_confidence'\n",
       "\\item 'loudness'\n",
       "\\item 'tempo'\n",
       "\\item 'tempo\\_confidence'\n",
       "\\item 'key'\n",
       "\\item 'key\\_confidence'\n",
       "\\item 'energy'\n",
       "\\item 'pitch'\n",
       "\\item 'timbre\\_0\\_min'\n",
       "\\item 'timbre\\_0\\_max'\n",
       "\\item 'timbre\\_1\\_min'\n",
       "\\item 'timbre\\_1\\_max'\n",
       "\\item 'timbre\\_2\\_min'\n",
       "\\item 'timbre\\_2\\_max'\n",
       "\\item 'timbre\\_3\\_min'\n",
       "\\item 'timbre\\_3\\_max'\n",
       "\\item 'timbre\\_4\\_min'\n",
       "\\item 'timbre\\_4\\_max'\n",
       "\\item 'timbre\\_5\\_min'\n",
       "\\item 'timbre\\_5\\_max'\n",
       "\\item 'timbre\\_6\\_min'\n",
       "\\item 'timbre\\_6\\_max'\n",
       "\\item 'timbre\\_7\\_min'\n",
       "\\item 'timbre\\_7\\_max'\n",
       "\\item 'timbre\\_8\\_min'\n",
       "\\item 'timbre\\_8\\_max'\n",
       "\\item 'timbre\\_9\\_min'\n",
       "\\item 'timbre\\_9\\_max'\n",
       "\\item 'timbre\\_10\\_min'\n",
       "\\item 'timbre\\_10\\_max'\n",
       "\\item 'timbre\\_11\\_min'\n",
       "\\item 'timbre\\_11\\_max'\n",
       "\\item 'Top10'\n",
       "\\end{enumerate*}\n"
      ],
      "text/markdown": [
       "1. 'timesignature'\n",
       "2. 'timesignature_confidence'\n",
       "3. 'loudness'\n",
       "4. 'tempo'\n",
       "5. 'tempo_confidence'\n",
       "6. 'key'\n",
       "7. 'key_confidence'\n",
       "8. 'energy'\n",
       "9. 'pitch'\n",
       "10. 'timbre_0_min'\n",
       "11. 'timbre_0_max'\n",
       "12. 'timbre_1_min'\n",
       "13. 'timbre_1_max'\n",
       "14. 'timbre_2_min'\n",
       "15. 'timbre_2_max'\n",
       "16. 'timbre_3_min'\n",
       "17. 'timbre_3_max'\n",
       "18. 'timbre_4_min'\n",
       "19. 'timbre_4_max'\n",
       "20. 'timbre_5_min'\n",
       "21. 'timbre_5_max'\n",
       "22. 'timbre_6_min'\n",
       "23. 'timbre_6_max'\n",
       "24. 'timbre_7_min'\n",
       "25. 'timbre_7_max'\n",
       "26. 'timbre_8_min'\n",
       "27. 'timbre_8_max'\n",
       "28. 'timbre_9_min'\n",
       "29. 'timbre_9_max'\n",
       "30. 'timbre_10_min'\n",
       "31. 'timbre_10_max'\n",
       "32. 'timbre_11_min'\n",
       "33. 'timbre_11_max'\n",
       "34. 'Top10'\n",
       "\n",
       "\n"
      ],
      "text/plain": [
       " [1] \"timesignature\"            \"timesignature_confidence\"\n",
       " [3] \"loudness\"                 \"tempo\"                   \n",
       " [5] \"tempo_confidence\"         \"key\"                     \n",
       " [7] \"key_confidence\"           \"energy\"                  \n",
       " [9] \"pitch\"                    \"timbre_0_min\"            \n",
       "[11] \"timbre_0_max\"             \"timbre_1_min\"            \n",
       "[13] \"timbre_1_max\"             \"timbre_2_min\"            \n",
       "[15] \"timbre_2_max\"             \"timbre_3_min\"            \n",
       "[17] \"timbre_3_max\"             \"timbre_4_min\"            \n",
       "[19] \"timbre_4_max\"             \"timbre_5_min\"            \n",
       "[21] \"timbre_5_max\"             \"timbre_6_min\"            \n",
       "[23] \"timbre_6_max\"             \"timbre_7_min\"            \n",
       "[25] \"timbre_7_max\"             \"timbre_8_min\"            \n",
       "[27] \"timbre_8_max\"             \"timbre_9_min\"            \n",
       "[29] \"timbre_9_max\"             \"timbre_10_min\"           \n",
       "[31] \"timbre_10_max\"            \"timbre_11_min\"           \n",
       "[33] \"timbre_11_max\"            \"Top10\"                   "
      ]
     },
     "metadata": {},
     "output_type": "display_data"
    },
    {
     "data": {
      "text/plain": [
       " timesignature   timesignature_confidence    loudness           tempo       \n",
       " Min.   :0.000   Min.   :0.0000           Min.   :-42.451   Min.   :  0.00  \n",
       " 1st Qu.:4.000   1st Qu.:0.8193           1st Qu.:-10.847   1st Qu.: 88.86  \n",
       " Median :4.000   Median :0.9790           Median : -7.649   Median :103.27  \n",
       " Mean   :3.894   Mean   :0.8533           Mean   : -8.817   Mean   :107.35  \n",
       " 3rd Qu.:4.000   3rd Qu.:1.0000           3rd Qu.: -5.640   3rd Qu.:124.80  \n",
       " Max.   :7.000   Max.   :1.0000           Max.   :  1.305   Max.   :244.31  \n",
       " tempo_confidence      key         key_confidence       energy       \n",
       " Min.   :0.0000   Min.   : 0.000   Min.   :0.0000   Min.   :0.00002  \n",
       " 1st Qu.:0.3720   1st Qu.: 2.000   1st Qu.:0.2040   1st Qu.:0.50014  \n",
       " Median :0.7015   Median : 6.000   Median :0.4515   Median :0.71816  \n",
       " Mean   :0.6229   Mean   : 5.385   Mean   :0.4338   Mean   :0.67547  \n",
       " 3rd Qu.:0.8920   3rd Qu.: 9.000   3rd Qu.:0.6460   3rd Qu.:0.88740  \n",
       " Max.   :1.0000   Max.   :11.000   Max.   :1.0000   Max.   :0.99849  \n",
       "     pitch          timbre_0_min     timbre_0_max    timbre_1_min    \n",
       " Min.   :0.00000   Min.   : 0.000   Min.   :12.58   Min.   :-333.72  \n",
       " 1st Qu.:0.00300   1st Qu.: 0.000   1st Qu.:53.12   1st Qu.:-160.12  \n",
       " Median :0.00700   Median : 0.027   Median :55.53   Median :-107.75  \n",
       " Mean   :0.01082   Mean   : 4.123   Mean   :54.46   Mean   :-110.79  \n",
       " 3rd Qu.:0.01400   3rd Qu.: 2.772   3rd Qu.:57.08   3rd Qu.: -59.71  \n",
       " Max.   :0.54100   Max.   :48.353   Max.   :64.01   Max.   : 123.73  \n",
       "  timbre_1_max     timbre_2_min      timbre_2_max      timbre_3_min    \n",
       " Min.   :-74.37   Min.   :-324.86   Min.   : -0.832   Min.   :-495.36  \n",
       " 1st Qu.:171.13   1st Qu.:-167.64   1st Qu.:100.519   1st Qu.:-226.87  \n",
       " Median :194.40   Median :-136.60   Median :129.908   Median :-170.61  \n",
       " Mean   :212.34   Mean   :-136.89   Mean   :136.673   Mean   :-186.11  \n",
       " 3rd Qu.:239.24   3rd Qu.:-106.51   3rd Qu.:166.121   3rd Qu.:-131.56  \n",
       " Max.   :549.97   Max.   :  34.57   Max.   :397.095   Max.   : -21.55  \n",
       "  timbre_3_max     timbre_4_min      timbre_4_max      timbre_5_min    \n",
       " Min.   : 12.85   Min.   :-207.07   Min.   : -0.651   Min.   :-262.48  \n",
       " 1st Qu.:127.14   1st Qu.: -77.69   1st Qu.: 83.966   1st Qu.:-113.58  \n",
       " Median :189.50   Median : -63.83   Median :107.422   Median : -95.47  \n",
       " Mean   :211.81   Mean   : -65.28   Mean   :108.227   Mean   :-104.00  \n",
       " 3rd Qu.:290.72   3rd Qu.: -51.34   3rd Qu.:130.286   3rd Qu.: -81.02  \n",
       " Max.   :499.62   Max.   :  51.43   Max.   :257.801   Max.   : -42.17  \n",
       "  timbre_5_max     timbre_6_min       timbre_6_max     timbre_7_min     \n",
       " Min.   :-22.41   Min.   :-152.170   Min.   : 12.70   Min.   :-214.791  \n",
       " 1st Qu.: 84.64   1st Qu.: -94.792   1st Qu.: 59.04   1st Qu.:-101.171  \n",
       " Median :119.90   Median : -80.418   Median : 70.47   Median : -81.797  \n",
       " Mean   :127.04   Mean   : -80.944   Mean   : 72.17   Mean   : -84.313  \n",
       " 3rd Qu.:162.34   3rd Qu.: -66.521   3rd Qu.: 83.19   3rd Qu.: -64.301  \n",
       " Max.   :350.94   Max.   :   4.503   Max.   :208.39   Max.   :   5.153  \n",
       "  timbre_7_max     timbre_8_min       timbre_8_max     timbre_9_min    \n",
       " Min.   : 15.70   Min.   :-158.756   Min.   :-25.95   Min.   :-149.51  \n",
       " 1st Qu.: 76.50   1st Qu.: -73.051   1st Qu.: 40.58   1st Qu.: -70.28  \n",
       " Median : 94.63   Median : -62.661   Median : 49.22   Median : -58.65  \n",
       " Mean   : 95.65   Mean   : -63.704   Mean   : 50.06   Mean   : -59.52  \n",
       " 3rd Qu.:112.71   3rd Qu.: -52.983   3rd Qu.: 58.46   3rd Qu.: -47.70  \n",
       " Max.   :214.82   Max.   :  -2.382   Max.   :144.99   Max.   :   1.14  \n",
       "  timbre_9_max     timbre_10_min     timbre_10_max     timbre_11_min     \n",
       " Min.   :  8.415   Min.   :-208.82   Min.   : -6.359   Min.   :-145.599  \n",
       " 1st Qu.: 53.037   1st Qu.:-105.13   1st Qu.: 39.196   1st Qu.: -58.058  \n",
       " Median : 65.935   Median : -83.07   Median : 50.895   Median : -50.892  \n",
       " Mean   : 68.028   Mean   : -87.34   Mean   : 55.521   Mean   : -50.868  \n",
       " 3rd Qu.: 81.267   3rd Qu.: -64.52   3rd Qu.: 66.593   3rd Qu.: -43.292  \n",
       " Max.   :161.518   Max.   : -10.64   Max.   :192.417   Max.   :  -6.497  \n",
       " timbre_11_max        Top10       \n",
       " Min.   :  7.20   Min.   :0.0000  \n",
       " 1st Qu.: 38.98   1st Qu.:0.0000  \n",
       " Median : 46.44   Median :0.0000  \n",
       " Mean   : 47.49   Mean   :0.1477  \n",
       " 3rd Qu.: 55.03   3rd Qu.:0.0000  \n",
       " Max.   :110.27   Max.   :1.0000  "
      ]
     },
     "metadata": {},
     "output_type": "display_data"
    }
   ],
   "source": [
    "songs_traindata$year <- NULL \n",
    "songs_traindata$songtitle <- NULL \n",
    "songs_traindata$artistname <- NULL \n",
    "songs_traindata$songID <- NULL \n",
    "songs_traindata$artistID <- NULL \n",
    "\n",
    "songs_testdata$year <- NULL \n",
    "songs_testdata$songtitle <- NULL \n",
    "songs_testdata$artistname <- NULL \n",
    "songs_testdata$songID <- NULL \n",
    "songs_testdata$artistID <- NULL \n",
    "\n",
    "names(songs_testdata) #check to see if the variables were removed \n",
    "names(songs_traindata)\n",
    "summary(songs_testdata) #now review the summary data with variables removed "
   ]
  },
  {
   "cell_type": "code",
   "execution_count": 5,
   "metadata": {},
   "outputs": [
    {
     "data": {},
     "metadata": {},
     "output_type": "display_data"
    },
    {
     "data": {
      "image/png": "[encoded data removed]",
      "text/plain": [
       "plot without title"
      ]
     },
     "metadata": {},
     "output_type": "display_data"
    }
   ],
   "source": [
    "# Now I'll pLot the the variables loudness and energy of songs_traindata with \n",
    "# Top10 supplied to color and shape parameters.\n",
    "library(ggplot2)\n",
    "songs_plot <- ggplot(songs_traindata, aes(loudness, energy)) + geom_point(aes(colour=factor(Top10),shape=factor(Top10))) \n",
    "songs_plot"
   ]
  },
  {
   "cell_type": "markdown",
   "metadata": {},
   "source": [
    "We can see in the above graph, there is not a clear linear boundary to separate the songs that made it to Top10 and those not."
   ]
  },
  {
   "cell_type": "markdown",
   "metadata": {},
   "source": [
    "Let's try to fit a logistic regression model to predict Top10 using all the independent variables. I'll name this model songsLog1."
   ]
  },
  {
   "cell_type": "code",
   "execution_count": 6,
   "metadata": {},
   "outputs": [
    {
     "data": {
      "text/plain": [
       "\n",
       "Call:\n",
       "glm(formula = Top10 ~ ., family = binomial, data = songs_traindata)\n",
       "\n",
       "Deviance Residuals: \n",
       "    Min       1Q   Median       3Q      Max  \n",
       "-1.9220  -0.5399  -0.3459  -0.1845   3.0770  \n",
       "\n",
       "Coefficients:\n",
       "                           Estimate Std. Error z value Pr(>|z|)    \n",
       "(Intercept)               1.470e+01  1.806e+00   8.138 4.03e-16 ***\n",
       "timesignature             1.264e-01  8.674e-02   1.457 0.145050    \n",
       "timesignature_confidence  7.450e-01  1.953e-01   3.815 0.000136 ***\n",
       "loudness                  2.999e-01  2.917e-02  10.282  < 2e-16 ***\n",
       "tempo                     3.634e-04  1.691e-03   0.215 0.829889    \n",
       "tempo_confidence          4.732e-01  1.422e-01   3.329 0.000873 ***\n",
       "key                       1.588e-02  1.039e-02   1.529 0.126349    \n",
       "key_confidence            3.087e-01  1.412e-01   2.187 0.028760 *  \n",
       "energy                   -1.502e+00  3.099e-01  -4.847 1.25e-06 ***\n",
       "pitch                    -4.491e+01  6.835e+00  -6.570 5.02e-11 ***\n",
       "timbre_0_min              2.316e-02  4.256e-03   5.441 5.29e-08 ***\n",
       "timbre_0_max             -3.310e-01  2.569e-02 -12.882  < 2e-16 ***\n",
       "timbre_1_min              5.881e-03  7.798e-04   7.542 4.64e-14 ***\n",
       "timbre_1_max             -2.449e-04  7.152e-04  -0.342 0.732087    \n",
       "timbre_2_min             -2.127e-03  1.126e-03  -1.889 0.058843 .  \n",
       "timbre_2_max              6.586e-04  9.066e-04   0.726 0.467571    \n",
       "timbre_3_min              6.920e-04  5.985e-04   1.156 0.247583    \n",
       "timbre_3_max             -2.967e-03  5.815e-04  -5.103 3.34e-07 ***\n",
       "timbre_4_min              1.040e-02  1.985e-03   5.237 1.63e-07 ***\n",
       "timbre_4_max              6.110e-03  1.550e-03   3.942 8.10e-05 ***\n",
       "timbre_5_min             -5.598e-03  1.277e-03  -4.385 1.16e-05 ***\n",
       "timbre_5_max              7.736e-05  7.935e-04   0.097 0.922337    \n",
       "timbre_6_min             -1.686e-02  2.264e-03  -7.445 9.66e-14 ***\n",
       "timbre_6_max              3.668e-03  2.190e-03   1.675 0.093875 .  \n",
       "timbre_7_min             -4.549e-03  1.781e-03  -2.554 0.010661 *  \n",
       "timbre_7_max             -3.774e-03  1.832e-03  -2.060 0.039408 *  \n",
       "timbre_8_min              3.911e-03  2.851e-03   1.372 0.170123    \n",
       "timbre_8_max              4.011e-03  3.003e-03   1.336 0.181620    \n",
       "timbre_9_min              1.367e-03  2.998e-03   0.456 0.648356    \n",
       "timbre_9_max              1.603e-03  2.434e-03   0.659 0.510188    \n",
       "timbre_10_min             4.126e-03  1.839e-03   2.244 0.024852 *  \n",
       "timbre_10_max             5.825e-03  1.769e-03   3.292 0.000995 ***\n",
       "timbre_11_min            -2.625e-02  3.693e-03  -7.108 1.18e-12 ***\n",
       "timbre_11_max             1.967e-02  3.385e-03   5.811 6.21e-09 ***\n",
       "---\n",
       "Signif. codes:  0 ‘***’ 0.001 ‘**’ 0.01 ‘*’ 0.05 ‘.’ 0.1 ‘ ’ 1\n",
       "\n",
       "(Dispersion parameter for binomial family taken to be 1)\n",
       "\n",
       "    Null deviance: 6017.5  on 7200  degrees of freedom\n",
       "Residual deviance: 4759.2  on 7167  degrees of freedom\n",
       "AIC: 4827.2\n",
       "\n",
       "Number of Fisher Scoring iterations: 6\n"
      ]
     },
     "metadata": {},
     "output_type": "display_data"
    },
    {
     "data": {},
     "metadata": {},
     "output_type": "display_data"
    },
    {
     "data": {
      "image/png": "[encoded data removed]",
      "text/plain": [
       "plot without title"
      ]
     },
     "metadata": {},
     "output_type": "display_data"
    }
   ],
   "source": [
    "songsLog1 <- glm(Top10 ~., data=songs_traindata, family=binomial)\n",
    "summary(songsLog1)\n",
    "\n",
    "\n",
    "songsLog1_slope3 <- coef(songsLog1)[2]/(-coef(songsLog1)[3])\n",
    "songsLog1_intercept3 <- coef(songsLog1)[1]/(-coef(songsLog1)[3]) \n",
    "songs_plot + geom_abline(slope=songsLog1_slope3, intercept=songsLog1_intercept3) # An attempt at some of the other codes shown in the lab"
   ]
  },
  {
   "cell_type": "code",
   "execution_count": 7,
   "metadata": {},
   "outputs": [
    {
     "data": {
      "text/plain": [
       "\n",
       "Call:\n",
       "glm(formula = Top10 ~ ., family = binomial, data = songs_traindata)\n",
       "\n",
       "Deviance Residuals: \n",
       "    Min       1Q   Median       3Q      Max  \n",
       "-1.9220  -0.5399  -0.3459  -0.1845   3.0770  \n",
       "\n",
       "Coefficients:\n",
       "                           Estimate Std. Error z value Pr(>|z|)    \n",
       "(Intercept)               1.470e+01  1.806e+00   8.138 4.03e-16 ***\n",
       "timesignature             1.264e-01  8.674e-02   1.457 0.145050    \n",
       "timesignature_confidence  7.450e-01  1.953e-01   3.815 0.000136 ***\n",
       "loudness                  2.999e-01  2.917e-02  10.282  < 2e-16 ***\n",
       "tempo                     3.634e-04  1.691e-03   0.215 0.829889    \n",
       "tempo_confidence          4.732e-01  1.422e-01   3.329 0.000873 ***\n",
       "key                       1.588e-02  1.039e-02   1.529 0.126349    \n",
       "key_confidence            3.087e-01  1.412e-01   2.187 0.028760 *  \n",
       "energy                   -1.502e+00  3.099e-01  -4.847 1.25e-06 ***\n",
       "pitch                    -4.491e+01  6.835e+00  -6.570 5.02e-11 ***\n",
       "timbre_0_min              2.316e-02  4.256e-03   5.441 5.29e-08 ***\n",
       "timbre_0_max             -3.310e-01  2.569e-02 -12.882  < 2e-16 ***\n",
       "timbre_1_min              5.881e-03  7.798e-04   7.542 4.64e-14 ***\n",
       "timbre_1_max             -2.449e-04  7.152e-04  -0.342 0.732087    \n",
       "timbre_2_min             -2.127e-03  1.126e-03  -1.889 0.058843 .  \n",
       "timbre_2_max              6.586e-04  9.066e-04   0.726 0.467571    \n",
       "timbre_3_min              6.920e-04  5.985e-04   1.156 0.247583    \n",
       "timbre_3_max             -2.967e-03  5.815e-04  -5.103 3.34e-07 ***\n",
       "timbre_4_min              1.040e-02  1.985e-03   5.237 1.63e-07 ***\n",
       "timbre_4_max              6.110e-03  1.550e-03   3.942 8.10e-05 ***\n",
       "timbre_5_min             -5.598e-03  1.277e-03  -4.385 1.16e-05 ***\n",
       "timbre_5_max              7.736e-05  7.935e-04   0.097 0.922337    \n",
       "timbre_6_min             -1.686e-02  2.264e-03  -7.445 9.66e-14 ***\n",
       "timbre_6_max              3.668e-03  2.190e-03   1.675 0.093875 .  \n",
       "timbre_7_min             -4.549e-03  1.781e-03  -2.554 0.010661 *  \n",
       "timbre_7_max             -3.774e-03  1.832e-03  -2.060 0.039408 *  \n",
       "timbre_8_min              3.911e-03  2.851e-03   1.372 0.170123    \n",
       "timbre_8_max              4.011e-03  3.003e-03   1.336 0.181620    \n",
       "timbre_9_min              1.367e-03  2.998e-03   0.456 0.648356    \n",
       "timbre_9_max              1.603e-03  2.434e-03   0.659 0.510188    \n",
       "timbre_10_min             4.126e-03  1.839e-03   2.244 0.024852 *  \n",
       "timbre_10_max             5.825e-03  1.769e-03   3.292 0.000995 ***\n",
       "timbre_11_min            -2.625e-02  3.693e-03  -7.108 1.18e-12 ***\n",
       "timbre_11_max             1.967e-02  3.385e-03   5.811 6.21e-09 ***\n",
       "---\n",
       "Signif. codes:  0 ‘***’ 0.001 ‘**’ 0.01 ‘*’ 0.05 ‘.’ 0.1 ‘ ’ 1\n",
       "\n",
       "(Dispersion parameter for binomial family taken to be 1)\n",
       "\n",
       "    Null deviance: 6017.5  on 7200  degrees of freedom\n",
       "Residual deviance: 4759.2  on 7167  degrees of freedom\n",
       "AIC: 4827.2\n",
       "\n",
       "Number of Fisher Scoring iterations: 6\n"
      ]
     },
     "metadata": {},
     "output_type": "display_data"
    }
   ],
   "source": [
    "summary(songsLog1)"
   ]
  },
  {
   "cell_type": "markdown",
   "metadata": {},
   "source": [
    "Now let's try making predictions on the test set using songsLog1 model."
   ]
  },
  {
   "cell_type": "code",
   "execution_count": 8,
   "metadata": {
    "collapsed": true
   },
   "outputs": [],
   "source": [
    "# Run the model on the same data that it was trained with and get the probabilities for each sample. \n",
    "glm.probs <- predict(songsLog1, type=\"response\")\n",
    "# create an array to hold predictions and assign all zeros initially.\n",
    "glm.pred = rep(0,length(glm.probs))"
   ]
  },
  {
   "cell_type": "markdown",
   "metadata": {},
   "source": [
    "We'll calculate the accuracy of the model 'songsLog1' on the test set, using a threshold of 0.5 "
   ]
  },
  {
   "cell_type": "code",
   "execution_count": 9,
   "metadata": {},
   "outputs": [
    {
     "data": {
      "text/plain": [
       "        \n",
       "glm.pred    0    1\n",
       "       0 6007  858\n",
       "       1  134  202"
      ]
     },
     "metadata": {},
     "output_type": "display_data"
    },
    {
     "data": {
      "text/html": [
       "0.875018208302986"
      ],
      "text/latex": [
       "0.875018208302986"
      ],
      "text/markdown": [
       "0.875018208302986"
      ],
      "text/plain": [
       "[1] 0.8750182"
      ]
     },
     "metadata": {},
     "output_type": "display_data"
    }
   ],
   "source": [
    "# based on model's probablities for each sample, assign the class label.\n",
    "glm.pred[glm.probs>0.5] <- 1\n",
    "# now we should create a confusion table to see our true positive and false positive\n",
    "conftable <- table(glm.pred, songs_traindata$Top10)\n",
    "conftable\n",
    "\n",
    "# you can always check the math more manually like so...\n",
    "(6007)/(6007+858) "
   ]
  },
  {
   "cell_type": "markdown",
   "metadata": {},
   "source": [
    "Calculate baseline model accuracy."
   ]
  },
  {
   "cell_type": "code",
   "execution_count": 10,
   "metadata": {},
   "outputs": [
    {
     "name": "stdout",
     "output_type": "stream",
     "text": [
      "[1] \"accuracy =  0.86224135536731\"\n"
     ]
    }
   ],
   "source": [
    "# note this should look close to our manual calculations above \n",
    "# Compute accuracy\n",
    "print (paste(\"accuracy = \",sum(diag(conftable))/length(glm.pred)))\n"
   ]
  },
  {
   "cell_type": "markdown",
   "metadata": {},
   "source": [
    "### Using LDA and SVM\n",
    "\n",
    "Now we'll apply LDA and SVM algorithms on the glass dataset. \n",
    "The dependent variable in the dataset Type has 6 different classes. \n",
    "Here we can apply LDA on the dataset to determine the type of glass."
   ]
  },
  {
   "cell_type": "code",
   "execution_count": 11,
   "metadata": {},
   "outputs": [
    {
     "data": {
      "text/html": [
       "<table>\n",
       "<thead><tr><th scope=col>V1</th><th scope=col>V2</th><th scope=col>V3</th><th scope=col>V4</th><th scope=col>V5</th><th scope=col>V6</th><th scope=col>V7</th><th scope=col>V8</th><th scope=col>V9</th><th scope=col>V10</th><th scope=col>V11</th></tr></thead>\n",
       "<tbody>\n",
       "\t<tr><td>1      </td><td>1.52101</td><td>13.64  </td><td>4.49   </td><td>1.10   </td><td>71.78  </td><td>0.06   </td><td>8.75   </td><td>0      </td><td>0.00   </td><td>1      </td></tr>\n",
       "\t<tr><td>2      </td><td>1.51761</td><td>13.89  </td><td>3.60   </td><td>1.36   </td><td>72.73  </td><td>0.48   </td><td>7.83   </td><td>0      </td><td>0.00   </td><td>1      </td></tr>\n",
       "\t<tr><td>3      </td><td>1.51618</td><td>13.53  </td><td>3.55   </td><td>1.54   </td><td>72.99  </td><td>0.39   </td><td>7.78   </td><td>0      </td><td>0.00   </td><td>1      </td></tr>\n",
       "\t<tr><td>4      </td><td>1.51766</td><td>13.21  </td><td>3.69   </td><td>1.29   </td><td>72.61  </td><td>0.57   </td><td>8.22   </td><td>0      </td><td>0.00   </td><td>1      </td></tr>\n",
       "\t<tr><td>5      </td><td>1.51742</td><td>13.27  </td><td>3.62   </td><td>1.24   </td><td>73.08  </td><td>0.55   </td><td>8.07   </td><td>0      </td><td>0.00   </td><td>1      </td></tr>\n",
       "\t<tr><td>6      </td><td>1.51596</td><td>12.79  </td><td>3.61   </td><td>1.62   </td><td>72.97  </td><td>0.64   </td><td>8.07   </td><td>0      </td><td>0.26   </td><td>1      </td></tr>\n",
       "</tbody>\n",
       "</table>\n"
      ],
      "text/latex": [
       "\\begin{tabular}{r|lllllllllll}\n",
       " V1 & V2 & V3 & V4 & V5 & V6 & V7 & V8 & V9 & V10 & V11\\\\\n",
       "\\hline\n",
       "\t 1       & 1.52101 & 13.64   & 4.49    & 1.10    & 71.78   & 0.06    & 8.75    & 0       & 0.00    & 1      \\\\\n",
       "\t 2       & 1.51761 & 13.89   & 3.60    & 1.36    & 72.73   & 0.48    & 7.83    & 0       & 0.00    & 1      \\\\\n",
       "\t 3       & 1.51618 & 13.53   & 3.55    & 1.54    & 72.99   & 0.39    & 7.78    & 0       & 0.00    & 1      \\\\\n",
       "\t 4       & 1.51766 & 13.21   & 3.69    & 1.29    & 72.61   & 0.57    & 8.22    & 0       & 0.00    & 1      \\\\\n",
       "\t 5       & 1.51742 & 13.27   & 3.62    & 1.24    & 73.08   & 0.55    & 8.07    & 0       & 0.00    & 1      \\\\\n",
       "\t 6       & 1.51596 & 12.79   & 3.61    & 1.62    & 72.97   & 0.64    & 8.07    & 0       & 0.26    & 1      \\\\\n",
       "\\end{tabular}\n"
      ],
      "text/markdown": [
       "\n",
       "V1 | V2 | V3 | V4 | V5 | V6 | V7 | V8 | V9 | V10 | V11 | \n",
       "|---|---|---|---|---|---|\n",
       "| 1       | 1.52101 | 13.64   | 4.49    | 1.10    | 71.78   | 0.06    | 8.75    | 0       | 0.00    | 1       | \n",
       "| 2       | 1.51761 | 13.89   | 3.60    | 1.36    | 72.73   | 0.48    | 7.83    | 0       | 0.00    | 1       | \n",
       "| 3       | 1.51618 | 13.53   | 3.55    | 1.54    | 72.99   | 0.39    | 7.78    | 0       | 0.00    | 1       | \n",
       "| 4       | 1.51766 | 13.21   | 3.69    | 1.29    | 72.61   | 0.57    | 8.22    | 0       | 0.00    | 1       | \n",
       "| 5       | 1.51742 | 13.27   | 3.62    | 1.24    | 73.08   | 0.55    | 8.07    | 0       | 0.00    | 1       | \n",
       "| 6       | 1.51596 | 12.79   | 3.61    | 1.62    | 72.97   | 0.64    | 8.07    | 0       | 0.26    | 1       | \n",
       "\n",
       "\n"
      ],
      "text/plain": [
       "  V1 V2      V3    V4   V5   V6    V7   V8   V9 V10  V11\n",
       "1 1  1.52101 13.64 4.49 1.10 71.78 0.06 8.75 0  0.00 1  \n",
       "2 2  1.51761 13.89 3.60 1.36 72.73 0.48 7.83 0  0.00 1  \n",
       "3 3  1.51618 13.53 3.55 1.54 72.99 0.39 7.78 0  0.00 1  \n",
       "4 4  1.51766 13.21 3.69 1.29 72.61 0.57 8.22 0  0.00 1  \n",
       "5 5  1.51742 13.27 3.62 1.24 73.08 0.55 8.07 0  0.00 1  \n",
       "6 6  1.51596 12.79 3.61 1.62 72.97 0.64 8.07 0  0.26 1  "
      ]
     },
     "metadata": {},
     "output_type": "display_data"
    }
   ],
   "source": [
    "glass_data = read.csv(\"../../datasets/glass/glass.txt\",header=FALSE,sep=',')\n",
    "head(glass_data)"
   ]
  },
  {
   "cell_type": "code",
   "execution_count": 12,
   "metadata": {
    "collapsed": true
   },
   "outputs": [],
   "source": [
    "# The data file doesn't have headers. So read the column names into a vector and add column names to the glass dataset.\n",
    "header = c(\"Id\", \"Refractive_Index\",\"Sodium\",\"Magnesium\",\"Aluminium\",\"Silicon\",\"Potassium\",\"Calcium\",\"Barium\",\"Iron\",\"Type\")\n",
    "names(glass_data)=header"
   ]
  },
  {
   "cell_type": "code",
   "execution_count": 13,
   "metadata": {},
   "outputs": [
    {
     "data": {
      "text/html": [
       "<table>\n",
       "<thead><tr><th scope=col>Id</th><th scope=col>Refractive_Index</th><th scope=col>Sodium</th><th scope=col>Magnesium</th><th scope=col>Aluminium</th><th scope=col>Silicon</th><th scope=col>Potassium</th><th scope=col>Calcium</th><th scope=col>Barium</th><th scope=col>Iron</th><th scope=col>Type</th></tr></thead>\n",
       "<tbody>\n",
       "\t<tr><td>1      </td><td>1.52101</td><td>13.64  </td><td>4.49   </td><td>1.10   </td><td>71.78  </td><td>0.06   </td><td>8.75   </td><td>0      </td><td>0.00   </td><td>1      </td></tr>\n",
       "\t<tr><td>2      </td><td>1.51761</td><td>13.89  </td><td>3.60   </td><td>1.36   </td><td>72.73  </td><td>0.48   </td><td>7.83   </td><td>0      </td><td>0.00   </td><td>1      </td></tr>\n",
       "\t<tr><td>3      </td><td>1.51618</td><td>13.53  </td><td>3.55   </td><td>1.54   </td><td>72.99  </td><td>0.39   </td><td>7.78   </td><td>0      </td><td>0.00   </td><td>1      </td></tr>\n",
       "\t<tr><td>4      </td><td>1.51766</td><td>13.21  </td><td>3.69   </td><td>1.29   </td><td>72.61  </td><td>0.57   </td><td>8.22   </td><td>0      </td><td>0.00   </td><td>1      </td></tr>\n",
       "\t<tr><td>5      </td><td>1.51742</td><td>13.27  </td><td>3.62   </td><td>1.24   </td><td>73.08  </td><td>0.55   </td><td>8.07   </td><td>0      </td><td>0.00   </td><td>1      </td></tr>\n",
       "\t<tr><td>6      </td><td>1.51596</td><td>12.79  </td><td>3.61   </td><td>1.62   </td><td>72.97  </td><td>0.64   </td><td>8.07   </td><td>0      </td><td>0.26   </td><td>1      </td></tr>\n",
       "</tbody>\n",
       "</table>\n"
      ],
      "text/latex": [
       "\\begin{tabular}{r|lllllllllll}\n",
       " Id & Refractive\\_Index & Sodium & Magnesium & Aluminium & Silicon & Potassium & Calcium & Barium & Iron & Type\\\\\n",
       "\\hline\n",
       "\t 1       & 1.52101 & 13.64   & 4.49    & 1.10    & 71.78   & 0.06    & 8.75    & 0       & 0.00    & 1      \\\\\n",
       "\t 2       & 1.51761 & 13.89   & 3.60    & 1.36    & 72.73   & 0.48    & 7.83    & 0       & 0.00    & 1      \\\\\n",
       "\t 3       & 1.51618 & 13.53   & 3.55    & 1.54    & 72.99   & 0.39    & 7.78    & 0       & 0.00    & 1      \\\\\n",
       "\t 4       & 1.51766 & 13.21   & 3.69    & 1.29    & 72.61   & 0.57    & 8.22    & 0       & 0.00    & 1      \\\\\n",
       "\t 5       & 1.51742 & 13.27   & 3.62    & 1.24    & 73.08   & 0.55    & 8.07    & 0       & 0.00    & 1      \\\\\n",
       "\t 6       & 1.51596 & 12.79   & 3.61    & 1.62    & 72.97   & 0.64    & 8.07    & 0       & 0.26    & 1      \\\\\n",
       "\\end{tabular}\n"
      ],
      "text/markdown": [
       "\n",
       "Id | Refractive_Index | Sodium | Magnesium | Aluminium | Silicon | Potassium | Calcium | Barium | Iron | Type | \n",
       "|---|---|---|---|---|---|\n",
       "| 1       | 1.52101 | 13.64   | 4.49    | 1.10    | 71.78   | 0.06    | 8.75    | 0       | 0.00    | 1       | \n",
       "| 2       | 1.51761 | 13.89   | 3.60    | 1.36    | 72.73   | 0.48    | 7.83    | 0       | 0.00    | 1       | \n",
       "| 3       | 1.51618 | 13.53   | 3.55    | 1.54    | 72.99   | 0.39    | 7.78    | 0       | 0.00    | 1       | \n",
       "| 4       | 1.51766 | 13.21   | 3.69    | 1.29    | 72.61   | 0.57    | 8.22    | 0       | 0.00    | 1       | \n",
       "| 5       | 1.51742 | 13.27   | 3.62    | 1.24    | 73.08   | 0.55    | 8.07    | 0       | 0.00    | 1       | \n",
       "| 6       | 1.51596 | 12.79   | 3.61    | 1.62    | 72.97   | 0.64    | 8.07    | 0       | 0.26    | 1       | \n",
       "\n",
       "\n"
      ],
      "text/plain": [
       "  Id Refractive_Index Sodium Magnesium Aluminium Silicon Potassium Calcium\n",
       "1 1  1.52101          13.64  4.49      1.10      71.78   0.06      8.75   \n",
       "2 2  1.51761          13.89  3.60      1.36      72.73   0.48      7.83   \n",
       "3 3  1.51618          13.53  3.55      1.54      72.99   0.39      7.78   \n",
       "4 4  1.51766          13.21  3.69      1.29      72.61   0.57      8.22   \n",
       "5 5  1.51742          13.27  3.62      1.24      73.08   0.55      8.07   \n",
       "6 6  1.51596          12.79  3.61      1.62      72.97   0.64      8.07   \n",
       "  Barium Iron Type\n",
       "1 0      0.00 1   \n",
       "2 0      0.00 1   \n",
       "3 0      0.00 1   \n",
       "4 0      0.00 1   \n",
       "5 0      0.00 1   \n",
       "6 0      0.26 1   "
      ]
     },
     "metadata": {},
     "output_type": "display_data"
    }
   ],
   "source": [
    "head(glass_data)"
   ]
  },
  {
   "cell_type": "code",
   "execution_count": 14,
   "metadata": {},
   "outputs": [
    {
     "name": "stdout",
     "output_type": "stream",
     "text": [
      "'data.frame':\t214 obs. of  11 variables:\n",
      " $ Id              : int  1 2 3 4 5 6 7 8 9 10 ...\n",
      " $ Refractive_Index: num  1.52 1.52 1.52 1.52 1.52 ...\n",
      " $ Sodium          : num  13.6 13.9 13.5 13.2 13.3 ...\n",
      " $ Magnesium       : num  4.49 3.6 3.55 3.69 3.62 3.61 3.6 3.61 3.58 3.6 ...\n",
      " $ Aluminium       : num  1.1 1.36 1.54 1.29 1.24 1.62 1.14 1.05 1.37 1.36 ...\n",
      " $ Silicon         : num  71.8 72.7 73 72.6 73.1 ...\n",
      " $ Potassium       : num  0.06 0.48 0.39 0.57 0.55 0.64 0.58 0.57 0.56 0.57 ...\n",
      " $ Calcium         : num  8.75 7.83 7.78 8.22 8.07 8.07 8.17 8.24 8.3 8.4 ...\n",
      " $ Barium          : num  0 0 0 0 0 0 0 0 0 0 ...\n",
      " $ Iron            : num  0 0 0 0 0 0.26 0 0 0 0.11 ...\n",
      " $ Type            : Factor w/ 6 levels \"1\",\"2\",\"3\",\"5\",..: 1 1 1 1 1 1 1 1 1 1 ...\n"
     ]
    }
   ],
   "source": [
    "# Convert Type variable to factor type. \n",
    "glass_data$Type=as.factor(glass_data$Type)\n",
    "str(glass_data)"
   ]
  },
  {
   "cell_type": "markdown",
   "metadata": {},
   "source": [
    "We should plot the variables Refrective_Index and Sodium of glass_data with Type variable supplied to color and shape parameters."
   ]
  },
  {
   "cell_type": "code",
   "execution_count": 15,
   "metadata": {},
   "outputs": [
    {
     "data": {},
     "metadata": {},
     "output_type": "display_data"
    },
    {
     "data": {
      "image/png": "[encoded data removed]",
      "text/plain": [
       "plot without title"
      ]
     },
     "metadata": {},
     "output_type": "display_data"
    }
   ],
   "source": [
    "library(ggplot2)\n",
    "ggplot(glass_data, aes(Sodium, Refractive_Index)) + geom_point(aes(colour=factor(Type),shape=factor(Type)))"
   ]
  },
  {
   "cell_type": "markdown",
   "metadata": {},
   "source": [
    "Now it's time to split the glass_data into train and test subsets. glass_train_data will have 70% data and glass_test_data will have rest 30% of data. "
   ]
  },
  {
   "cell_type": "code",
   "execution_count": 16,
   "metadata": {},
   "outputs": [
    {
     "name": "stderr",
     "output_type": "stream",
     "text": [
      "Loading required package: lattice\n"
     ]
    },
    {
     "data": {
      "text/html": [
       "<ol class=list-inline>\n",
       "\t<li>'Id'</li>\n",
       "\t<li>'Refractive_Index'</li>\n",
       "\t<li>'Sodium'</li>\n",
       "\t<li>'Magnesium'</li>\n",
       "\t<li>'Aluminium'</li>\n",
       "\t<li>'Silicon'</li>\n",
       "\t<li>'Potassium'</li>\n",
       "\t<li>'Calcium'</li>\n",
       "\t<li>'Barium'</li>\n",
       "\t<li>'Iron'</li>\n",
       "\t<li>'Type'</li>\n",
       "</ol>\n"
      ],
      "text/latex": [
       "\\begin{enumerate*}\n",
       "\\item 'Id'\n",
       "\\item 'Refractive\\_Index'\n",
       "\\item 'Sodium'\n",
       "\\item 'Magnesium'\n",
       "\\item 'Aluminium'\n",
       "\\item 'Silicon'\n",
       "\\item 'Potassium'\n",
       "\\item 'Calcium'\n",
       "\\item 'Barium'\n",
       "\\item 'Iron'\n",
       "\\item 'Type'\n",
       "\\end{enumerate*}\n"
      ],
      "text/markdown": [
       "1. 'Id'\n",
       "2. 'Refractive_Index'\n",
       "3. 'Sodium'\n",
       "4. 'Magnesium'\n",
       "5. 'Aluminium'\n",
       "6. 'Silicon'\n",
       "7. 'Potassium'\n",
       "8. 'Calcium'\n",
       "9. 'Barium'\n",
       "10. 'Iron'\n",
       "11. 'Type'\n",
       "\n",
       "\n"
      ],
      "text/plain": [
       " [1] \"Id\"               \"Refractive_Index\" \"Sodium\"           \"Magnesium\"       \n",
       " [5] \"Aluminium\"        \"Silicon\"          \"Potassium\"        \"Calcium\"         \n",
       " [9] \"Barium\"           \"Iron\"             \"Type\"            "
      ]
     },
     "metadata": {},
     "output_type": "display_data"
    }
   ],
   "source": [
    "library(e1071)\n",
    "library(caret)\n",
    "library(caTools)\n",
    "set.seed(123) \n",
    "split=0.70\n",
    "trainIndex <- createDataPartition(glass_data$Type, p=split, list=FALSE)\n",
    "\n",
    "# Train data will have the rest 70% of data\n",
    "glass_train_data <- glass_data[trainIndex,] \n",
    "\n",
    "# Test data will have the rest 30% of data\n",
    "glass_test_data <- glass_data[-trainIndex,] \n",
    "\n",
    "names(glass_data) #view the headings "
   ]
  },
  {
   "cell_type": "markdown",
   "metadata": {},
   "source": [
    "Fit a Linear Discriminant Analysis model on glass_train_data using all independent variables except Id to predict Type variable. Name this model glass_lda_fit."
   ]
  },
  {
   "cell_type": "code",
   "execution_count": 17,
   "metadata": {},
   "outputs": [
    {
     "data": {
      "text/plain": [
       "        Length Class  Mode     \n",
       "prior    6     -none- numeric  \n",
       "counts   6     -none- numeric  \n",
       "means   54     -none- numeric  \n",
       "scaling 45     -none- numeric  \n",
       "lev      6     -none- character\n",
       "svd      5     -none- numeric  \n",
       "N        1     -none- numeric  \n",
       "call     3     -none- call     \n",
       "terms    3     terms  call     \n",
       "xlevels  0     -none- list     "
      ]
     },
     "metadata": {},
     "output_type": "display_data"
    },
    {
     "data": {
      "image/png": "[encoded data removed]",
      "text/plain": [
       "plot without title"
      ]
     },
     "metadata": {},
     "output_type": "display_data"
    }
   ],
   "source": [
    "library(MASS)\n",
    "glass_lda_fit <- lda(Type ~ Refractive_Index + Sodium + Magnesium + Aluminium + Silicon + Potassium + Calcium + Barium + Iron, data=glass_train_data)\n",
    "plot(glass_lda_fit) # get a quick visual, the visuals help. \n",
    "summary(glass_lda_fit) #look at the summary "
   ]
  },
  {
   "cell_type": "code",
   "execution_count": 18,
   "metadata": {},
   "outputs": [
    {
     "data": {
      "text/html": [
       "<dl class=dl-horizontal>\n",
       "\t<dt>1</dt>\n",
       "\t\t<dd>49</dd>\n",
       "\t<dt>2</dt>\n",
       "\t\t<dd>54</dd>\n",
       "\t<dt>3</dt>\n",
       "\t\t<dd>12</dd>\n",
       "\t<dt>5</dt>\n",
       "\t\t<dd>10</dd>\n",
       "\t<dt>6</dt>\n",
       "\t\t<dd>7</dd>\n",
       "\t<dt>7</dt>\n",
       "\t\t<dd>21</dd>\n",
       "</dl>\n"
      ],
      "text/latex": [
       "\\begin{description*}\n",
       "\\item[1] 49\n",
       "\\item[2] 54\n",
       "\\item[3] 12\n",
       "\\item[5] 10\n",
       "\\item[6] 7\n",
       "\\item[7] 21\n",
       "\\end{description*}\n"
      ],
      "text/markdown": [
       "1\n",
       ":   492\n",
       ":   543\n",
       ":   125\n",
       ":   106\n",
       ":   77\n",
       ":   21\n",
       "\n"
      ],
      "text/plain": [
       " 1  2  3  5  6  7 \n",
       "49 54 12 10  7 21 "
      ]
     },
     "metadata": {},
     "output_type": "display_data"
    }
   ],
   "source": [
    "# <lda_model>$count will give the counts for each class in the data\n",
    "glass_lda_fit$count"
   ]
  },
  {
   "cell_type": "code",
   "execution_count": 19,
   "metadata": {},
   "outputs": [
    {
     "data": {
      "text/html": [
       "<ol class=list-inline>\n",
       "\t<li>12.408869520436</li>\n",
       "\t<li>4.91921818304532</li>\n",
       "\t<li>2.47176314851475</li>\n",
       "\t<li>1.55507914183174</li>\n",
       "\t<li>1.30735539988276</li>\n",
       "</ol>\n"
      ],
      "text/latex": [
       "\\begin{enumerate*}\n",
       "\\item 12.408869520436\n",
       "\\item 4.91921818304532\n",
       "\\item 2.47176314851475\n",
       "\\item 1.55507914183174\n",
       "\\item 1.30735539988276\n",
       "\\end{enumerate*}\n"
      ],
      "text/markdown": [
       "1. 12.408869520436\n",
       "2. 4.91921818304532\n",
       "3. 2.47176314851475\n",
       "4. 1.55507914183174\n",
       "5. 1.30735539988276\n",
       "\n",
       "\n"
      ],
      "text/plain": [
       "[1] 12.408870  4.919218  2.471763  1.555079  1.307355"
      ]
     },
     "metadata": {},
     "output_type": "display_data"
    }
   ],
   "source": [
    "# the singular values (svd) gives the ratio of the between and within-group standard deviations of the linear \n",
    "# discriminant variables.\n",
    "glass_lda_fit$svd"
   ]
  },
  {
   "cell_type": "code",
   "execution_count": 20,
   "metadata": {},
   "outputs": [
    {
     "data": {
      "text/html": [
       "<ol class=list-inline>\n",
       "\t<li>0.817235244804608</li>\n",
       "\t<li>0.128432466427289</li>\n",
       "\t<li>0.0324262224940723</li>\n",
       "\t<li>0.0128347568251401</li>\n",
       "\t<li>0.00907130944889052</li>\n",
       "</ol>\n"
      ],
      "text/latex": [
       "\\begin{enumerate*}\n",
       "\\item 0.817235244804608\n",
       "\\item 0.128432466427289\n",
       "\\item 0.0324262224940723\n",
       "\\item 0.0128347568251401\n",
       "\\item 0.00907130944889052\n",
       "\\end{enumerate*}\n"
      ],
      "text/markdown": [
       "1. 0.817235244804608\n",
       "2. 0.128432466427289\n",
       "3. 0.0324262224940723\n",
       "4. 0.0128347568251401\n",
       "5. 0.00907130944889052\n",
       "\n",
       "\n"
      ],
      "text/plain": [
       "[1] 0.817235245 0.128432466 0.032426222 0.012834757 0.009071309"
      ]
     },
     "metadata": {},
     "output_type": "display_data"
    }
   ],
   "source": [
    "# normalized proportions.\n",
    "prop = glass_lda_fit$svd^2/sum(glass_lda_fit$svd^2)\n",
    "prop\n",
    "\n",
    "# Based on values displayed below, 1st LDA can explain more than 79% percent of between-group variance in this dataset."
   ]
  },
  {
   "cell_type": "markdown",
   "metadata": {},
   "source": [
    "Now let's predict the glass type in glass_test_data using the model glass_lda_fit built above."
   ]
  },
  {
   "cell_type": "code",
   "execution_count": 21,
   "metadata": {},
   "outputs": [
    {
     "data": {
      "text/html": [
       "<ol class=list-inline>\n",
       "\t<li>1</li>\n",
       "\t<li>1</li>\n",
       "\t<li>1</li>\n",
       "\t<li>1</li>\n",
       "\t<li>1</li>\n",
       "\t<li>1</li>\n",
       "\t<li>3</li>\n",
       "\t<li>2</li>\n",
       "\t<li>1</li>\n",
       "\t<li>2</li>\n",
       "\t<li>1</li>\n",
       "\t<li>1</li>\n",
       "\t<li>1</li>\n",
       "\t<li>2</li>\n",
       "\t<li>1</li>\n",
       "\t<li>1</li>\n",
       "\t<li>2</li>\n",
       "\t<li>1</li>\n",
       "\t<li>1</li>\n",
       "\t<li>1</li>\n",
       "\t<li>1</li>\n",
       "\t<li>2</li>\n",
       "\t<li>2</li>\n",
       "\t<li>2</li>\n",
       "\t<li>1</li>\n",
       "\t<li>2</li>\n",
       "\t<li>2</li>\n",
       "\t<li>1</li>\n",
       "\t<li>2</li>\n",
       "\t<li>2</li>\n",
       "\t<li>2</li>\n",
       "\t<li>2</li>\n",
       "\t<li>5</li>\n",
       "\t<li>1</li>\n",
       "\t<li>2</li>\n",
       "\t<li>2</li>\n",
       "\t<li>2</li>\n",
       "\t<li>1</li>\n",
       "\t<li>1</li>\n",
       "\t<li>2</li>\n",
       "\t<li>2</li>\n",
       "\t<li>2</li>\n",
       "\t<li>1</li>\n",
       "\t<li>2</li>\n",
       "\t<li>1</li>\n",
       "\t<li>2</li>\n",
       "\t<li>1</li>\n",
       "\t<li>2</li>\n",
       "\t<li>7</li>\n",
       "\t<li>5</li>\n",
       "\t<li>2</li>\n",
       "\t<li>6</li>\n",
       "\t<li>6</li>\n",
       "\t<li>2</li>\n",
       "\t<li>7</li>\n",
       "\t<li>7</li>\n",
       "\t<li>7</li>\n",
       "\t<li>7</li>\n",
       "\t<li>7</li>\n",
       "\t<li>7</li>\n",
       "\t<li>7</li>\n",
       "</ol>\n"
      ],
      "text/latex": [
       "\\begin{enumerate*}\n",
       "\\item 1\n",
       "\\item 1\n",
       "\\item 1\n",
       "\\item 1\n",
       "\\item 1\n",
       "\\item 1\n",
       "\\item 3\n",
       "\\item 2\n",
       "\\item 1\n",
       "\\item 2\n",
       "\\item 1\n",
       "\\item 1\n",
       "\\item 1\n",
       "\\item 2\n",
       "\\item 1\n",
       "\\item 1\n",
       "\\item 2\n",
       "\\item 1\n",
       "\\item 1\n",
       "\\item 1\n",
       "\\item 1\n",
       "\\item 2\n",
       "\\item 2\n",
       "\\item 2\n",
       "\\item 1\n",
       "\\item 2\n",
       "\\item 2\n",
       "\\item 1\n",
       "\\item 2\n",
       "\\item 2\n",
       "\\item 2\n",
       "\\item 2\n",
       "\\item 5\n",
       "\\item 1\n",
       "\\item 2\n",
       "\\item 2\n",
       "\\item 2\n",
       "\\item 1\n",
       "\\item 1\n",
       "\\item 2\n",
       "\\item 2\n",
       "\\item 2\n",
       "\\item 1\n",
       "\\item 2\n",
       "\\item 1\n",
       "\\item 2\n",
       "\\item 1\n",
       "\\item 2\n",
       "\\item 7\n",
       "\\item 5\n",
       "\\item 2\n",
       "\\item 6\n",
       "\\item 6\n",
       "\\item 2\n",
       "\\item 7\n",
       "\\item 7\n",
       "\\item 7\n",
       "\\item 7\n",
       "\\item 7\n",
       "\\item 7\n",
       "\\item 7\n",
       "\\end{enumerate*}\n"
      ],
      "text/markdown": [
       "1. 1\n",
       "2. 1\n",
       "3. 1\n",
       "4. 1\n",
       "5. 1\n",
       "6. 1\n",
       "7. 3\n",
       "8. 2\n",
       "9. 1\n",
       "10. 2\n",
       "11. 1\n",
       "12. 1\n",
       "13. 1\n",
       "14. 2\n",
       "15. 1\n",
       "16. 1\n",
       "17. 2\n",
       "18. 1\n",
       "19. 1\n",
       "20. 1\n",
       "21. 1\n",
       "22. 2\n",
       "23. 2\n",
       "24. 2\n",
       "25. 1\n",
       "26. 2\n",
       "27. 2\n",
       "28. 1\n",
       "29. 2\n",
       "30. 2\n",
       "31. 2\n",
       "32. 2\n",
       "33. 5\n",
       "34. 1\n",
       "35. 2\n",
       "36. 2\n",
       "37. 2\n",
       "38. 1\n",
       "39. 1\n",
       "40. 2\n",
       "41. 2\n",
       "42. 2\n",
       "43. 1\n",
       "44. 2\n",
       "45. 1\n",
       "46. 2\n",
       "47. 1\n",
       "48. 2\n",
       "49. 7\n",
       "50. 5\n",
       "51. 2\n",
       "52. 6\n",
       "53. 6\n",
       "54. 2\n",
       "55. 7\n",
       "56. 7\n",
       "57. 7\n",
       "58. 7\n",
       "59. 7\n",
       "60. 7\n",
       "61. 7\n",
       "\n",
       "\n"
      ],
      "text/plain": [
       " [1] 1 1 1 1 1 1 3 2 1 2 1 1 1 2 1 1 2 1 1 1 1 2 2 2 1 2 2 1 2 2 2 2 5 1 2 2 2 1\n",
       "[39] 1 2 2 2 1 2 1 2 1 2 7 5 2 6 6 2 7 7 7 7 7 7 7\n",
       "Levels: 1 2 3 5 6 7"
      ]
     },
     "metadata": {},
     "output_type": "display_data"
    }
   ],
   "source": [
    "predts=predict(glass_lda_fit, glass_test_data)\n",
    "# we'll print the classes of glass - these are represented in numbers\n",
    "predts$class"
   ]
  },
  {
   "cell_type": "markdown",
   "metadata": {},
   "source": [
    "Let's calculate the accuracy of the model using the confusion matrix. "
   ]
  },
  {
   "cell_type": "code",
   "execution_count": 22,
   "metadata": {},
   "outputs": [
    {
     "data": {
      "text/plain": [
       "    \n",
       "data  1  2  3  5  6  7\n",
       "   1 16  6  2  0  0  0\n",
       "   2  4 15  3  1  0  1\n",
       "   3  1  0  0  0  0  0\n",
       "   5  0  1  0  1  0  0\n",
       "   6  0  0  0  0  2  0\n",
       "   7  0  0  0  1  0  7"
      ]
     },
     "metadata": {},
     "output_type": "display_data"
    },
    {
     "data": {
      "text/html": [
       "0.666666666666667"
      ],
      "text/latex": [
       "0.666666666666667"
      ],
      "text/markdown": [
       "0.666666666666667"
      ],
      "text/plain": [
       "[1] 0.6666667"
      ]
     },
     "metadata": {},
     "output_type": "display_data"
    },
    {
     "name": "stdout",
     "output_type": "stream",
     "text": [
      "[1] \"accuracy =  0.672131147540984\"\n"
     ]
    }
   ],
   "source": [
    "# Building a confusion matrix using 2-way table.\n",
    "conftable <- table(data=predts$class, glass_test_data$Type)\n",
    "conftable\n",
    "(16)/(16+6+2) # some simple math for accuracy checks \n",
    "\n",
    "# Accuracy of the model. \n",
    "print (paste(\"accuracy = \",sum(diag(conftable))/length(predts$class)))"
   ]
  },
  {
   "cell_type": "markdown",
   "metadata": {},
   "source": [
    "#### Try an SVM moel \n",
    "\n",
    "LDA did not do a great job in classifying the different glass types in our data. \n",
    "\n",
    "Let's try to apply SVM on the same data to see if there would be any improvement in the classification accuracy.\n",
    "\n",
    "We'll fit a SVM model on glass_train_data using all independent variables except Id to predict Type variable. "
   ]
  },
  {
   "cell_type": "code",
   "execution_count": 35,
   "metadata": {},
   "outputs": [
    {
     "data": {
      "text/plain": [
       "\n",
       "Call:\n",
       "svm(formula = Type ~ ., data = glass_train_data, kernel = \"radial\", \n",
       "    cost = 10, scale = FALSE)\n",
       "\n",
       "\n",
       "Parameters:\n",
       "   SVM-Type:  C-classification \n",
       " SVM-Kernel:  radial \n",
       "       cost:  10 \n",
       "      gamma:  0.1 \n",
       "\n",
       "Number of Support Vectors:  123\n",
       "\n",
       " ( 39 44 10 7 6 17 )\n",
       "\n",
       "\n",
       "Number of Classes:  6 \n",
       "\n",
       "Levels: \n",
       " 1 2 3 5 6 7\n",
       "\n",
       "\n"
      ]
     },
     "metadata": {},
     "output_type": "display_data"
    },
    {
     "data": {
      "text/plain": [
       "Confusion Matrix and Statistics\n",
       "\n",
       "          Reference\n",
       "Prediction  1  2  3  5  6  7\n",
       "         1 21  0  0  0  0  0\n",
       "         2  0 22  0  1  0  0\n",
       "         3  0  0  5  0  0  0\n",
       "         5  0  0  0  2  0  0\n",
       "         6  0  0  0  0  2  0\n",
       "         7  0  0  0  0  0  8\n",
       "\n",
       "Overall Statistics\n",
       "                                         \n",
       "               Accuracy : 0.9836         \n",
       "                 95% CI : (0.912, 0.9996)\n",
       "    No Information Rate : 0.3607         \n",
       "    P-Value [Acc > NIR] : < 2.2e-16      \n",
       "                                         \n",
       "                  Kappa : 0.9772         \n",
       " Mcnemar's Test P-Value : NA             \n",
       "\n",
       "Statistics by Class:\n",
       "\n",
       "                     Class: 1 Class: 2 Class: 3 Class: 5 Class: 6 Class: 7\n",
       "Sensitivity            1.0000   1.0000  1.00000  0.66667  1.00000   1.0000\n",
       "Specificity            1.0000   0.9744  1.00000  1.00000  1.00000   1.0000\n",
       "Pos Pred Value         1.0000   0.9565  1.00000  1.00000  1.00000   1.0000\n",
       "Neg Pred Value         1.0000   1.0000  1.00000  0.98305  1.00000   1.0000\n",
       "Prevalence             0.3443   0.3607  0.08197  0.04918  0.03279   0.1311\n",
       "Detection Rate         0.3443   0.3607  0.08197  0.03279  0.03279   0.1311\n",
       "Detection Prevalence   0.3443   0.3770  0.08197  0.03279  0.03279   0.1311\n",
       "Balanced Accuracy      1.0000   0.9872  1.00000  0.83333  1.00000   1.0000"
      ]
     },
     "metadata": {},
     "output_type": "display_data"
    }
   ],
   "source": [
    "# Let's look at a radial model first.  \n",
    "library(\"e1071\")\n",
    "svm_model = svm(Type ~ ., data=glass_train_data, kernel=\"radial\", cost=10, scale=FALSE)\n",
    "summary(svm_model)\n",
    "\n",
    "# setting up the code to solve for the problem using the best model\n",
    "pred <- predict(svm_model, glass_test_data[,-11])\n",
    "\n",
    "# below I'm using the confustionmatrix function of the caret package to visualize the accuracy of the model. \n",
    "confusionMatrix(data=pred, glass_test_data$Type)\n"
   ]
  },
  {
   "cell_type": "code",
   "execution_count": 24,
   "metadata": {},
   "outputs": [
    {
     "data": {
      "text/plain": [
       "\n",
       "Parameter tuning of ‘svm’:\n",
       "\n",
       "- sampling method: 10-fold cross validation \n",
       "\n",
       "- best parameters:\n",
       " cost\n",
       "    1\n",
       "\n",
       "- best performance: 0.065 \n",
       "\n",
       "- Detailed performance results:\n",
       "   cost     error dispersion\n",
       "1 1e-03 0.6462500 0.09715176\n",
       "2 1e-02 0.3458333 0.14219672\n",
       "3 1e-01 0.1770833 0.11737960\n",
       "4 1e+00 0.0650000 0.06193261\n",
       "5 5e+00 0.0650000 0.06945000\n",
       "6 1e+01 0.0650000 0.06945000\n",
       "7 1e+02 0.0650000 0.06945000\n"
      ]
     },
     "metadata": {},
     "output_type": "display_data"
    }
   ],
   "source": [
    "library(e1071) # Here we are just exploring the best model parameters on a linear kernel.  \n",
    "# I tried a radial kernal first and the best model gave me a cost of 100 with 123 support vectors.  \n",
    "# using this method we can find parameters to best tune our model.  \n",
    "# below I built a new model called svm.model2 using these parameters. \n",
    "set.seed (1)\n",
    "tune.out=tune(svm,Type~.,data=glass_train_data, kernel =\"linear\", ranges=list(cost=c(0.001, 0.01, 0.1, 1,5,10,100)))\n",
    "summary(tune.out)"
   ]
  },
  {
   "cell_type": "markdown",
   "metadata": {},
   "source": [
    "Now we'll try a different model - a linear model.  \n",
    "\n",
    "Linear kernels are best to apply on linearly separable data. Imagine your dataset has only 2 features, and 2 classes. If you plot your dataset samples in a chart using the 2 features as X and Y, you'll be able to see how samples from different classes position in relation to each other.\n",
    "\n",
    "If it's easy to draw a line that separates the two classes, then a linear kernel is great for the job:\n",
    "\n",
    "Note a linear SVM is less prone to overfitting than non-linear. And you need to decide which kernel to choose based on your situation: if your number of features is really large compared to the training sample, just use linear kernel; if your number of features is small, but the training sample is large, you may also need linear kernel but try to add more features; if your feature number is small (10^0 - 10^3), and the sample number is intermediate (10^1 - 10^4), use Gaussian kernel will be better."
   ]
  },
  {
   "cell_type": "code",
   "execution_count": 36,
   "metadata": {},
   "outputs": [
    {
     "data": {
      "text/plain": [
       "\n",
       "Call:\n",
       "svm(formula = Type ~ ., data = glass_train_data, kernel = \"linear\", \n",
       "    cost = 1, scale = FALSE)\n",
       "\n",
       "\n",
       "Parameters:\n",
       "   SVM-Type:  C-classification \n",
       " SVM-Kernel:  linear \n",
       "       cost:  1 \n",
       "      gamma:  0.1 \n",
       "\n",
       "Number of Support Vectors:  16\n",
       "\n",
       " ( 1 3 3 3 3 3 )\n",
       "\n",
       "\n",
       "Number of Classes:  6 \n",
       "\n",
       "Levels: \n",
       " 1 2 3 5 6 7\n",
       "\n",
       "\n"
      ]
     },
     "metadata": {},
     "output_type": "display_data"
    },
    {
     "data": {
      "text/plain": [
       "Confusion Matrix and Statistics\n",
       "\n",
       "          Reference\n",
       "Prediction  1  2  3  5  6  7\n",
       "         1 21  0  0  0  0  0\n",
       "         2  0 22  0  0  0  0\n",
       "         3  0  0  5  1  0  0\n",
       "         5  0  0  0  2  0  0\n",
       "         6  0  0  0  0  2  0\n",
       "         7  0  0  0  0  0  8\n",
       "\n",
       "Overall Statistics\n",
       "                                         \n",
       "               Accuracy : 0.9836         \n",
       "                 95% CI : (0.912, 0.9996)\n",
       "    No Information Rate : 0.3607         \n",
       "    P-Value [Acc > NIR] : < 2.2e-16      \n",
       "                                         \n",
       "                  Kappa : 0.9773         \n",
       " Mcnemar's Test P-Value : NA             \n",
       "\n",
       "Statistics by Class:\n",
       "\n",
       "                     Class: 1 Class: 2 Class: 3 Class: 5 Class: 6 Class: 7\n",
       "Sensitivity            1.0000   1.0000  1.00000  0.66667  1.00000   1.0000\n",
       "Specificity            1.0000   1.0000  0.98214  1.00000  1.00000   1.0000\n",
       "Pos Pred Value         1.0000   1.0000  0.83333  1.00000  1.00000   1.0000\n",
       "Neg Pred Value         1.0000   1.0000  1.00000  0.98305  1.00000   1.0000\n",
       "Prevalence             0.3443   0.3607  0.08197  0.04918  0.03279   0.1311\n",
       "Detection Rate         0.3443   0.3607  0.08197  0.03279  0.03279   0.1311\n",
       "Detection Prevalence   0.3443   0.3607  0.09836  0.03279  0.03279   0.1311\n",
       "Balanced Accuracy      1.0000   1.0000  0.99107  0.83333  1.00000   1.0000"
      ]
     },
     "metadata": {},
     "output_type": "display_data"
    },
    {
     "data": {
      "text/plain": [
       "       class\n",
       "predict  1  2  3  5  6  7\n",
       "      1 21  0  0  0  0  0\n",
       "      2  0 22  0  0  0  0\n",
       "      3  0  0  5  1  0  0\n",
       "      5  0  0  0  2  0  0\n",
       "      6  0  0  0  0  2  0\n",
       "      7  0  0  0  0  0  8"
      ]
     },
     "metadata": {},
     "output_type": "display_data"
    }
   ],
   "source": [
    "library(\"e1071\") # creating a second model using a low cost parameter and linear kernel \n",
    "svm_model2 = svm(Type ~ ., data=glass_train_data, kernel=\"linear\", cost=1, scale=FALSE)\n",
    "summary(svm_model2)\n",
    "\n",
    "# setting up the code to solve for the problem using the best model\n",
    "pred <- predict(svm_model2, glass_test_data[,-11])\n",
    "\n",
    "# below I'm using the confustionmatrix function of the caret package to find the accuracy of the model. \n",
    "confusionMatrix(data=pred, glass_test_data$Type)\n"
   ]
  },
  {
   "cell_type": "markdown",
   "metadata": {},
   "source": [
    "#### Now let's try a polynomial kernel "
   ]
  },
  {
   "cell_type": "code",
   "execution_count": 37,
   "metadata": {},
   "outputs": [
    {
     "data": {
      "text/plain": [
       "\n",
       "Call:\n",
       "svm(formula = Type ~ ., data = glass_train_data, kernel = \"polynomial\", \n",
       "    cost = 2, scale = FALSE)\n",
       "\n",
       "\n",
       "Parameters:\n",
       "   SVM-Type:  C-classification \n",
       " SVM-Kernel:  polynomial \n",
       "       cost:  2 \n",
       "     degree:  3 \n",
       "      gamma:  0.1 \n",
       "     coef.0:  0 \n",
       "\n",
       "Number of Support Vectors:  13\n",
       "\n",
       " ( 1 2 2 3 3 2 )\n",
       "\n",
       "\n",
       "Number of Classes:  6 \n",
       "\n",
       "Levels: \n",
       " 1 2 3 5 6 7\n",
       "\n",
       "\n"
      ]
     },
     "metadata": {},
     "output_type": "display_data"
    },
    {
     "data": {
      "text/plain": [
       "Confusion Matrix and Statistics\n",
       "\n",
       "          Reference\n",
       "Prediction  1  2  3  5  6  7\n",
       "         1 21  0  0  0  0  0\n",
       "         2  0 22  0  0  0  0\n",
       "         3  0  0  5  1  0  0\n",
       "         5  0  0  0  2  0  0\n",
       "         6  0  0  0  0  2  0\n",
       "         7  0  0  0  0  0  8\n",
       "\n",
       "Overall Statistics\n",
       "                                         \n",
       "               Accuracy : 0.9836         \n",
       "                 95% CI : (0.912, 0.9996)\n",
       "    No Information Rate : 0.3607         \n",
       "    P-Value [Acc > NIR] : < 2.2e-16      \n",
       "                                         \n",
       "                  Kappa : 0.9773         \n",
       " Mcnemar's Test P-Value : NA             \n",
       "\n",
       "Statistics by Class:\n",
       "\n",
       "                     Class: 1 Class: 2 Class: 3 Class: 5 Class: 6 Class: 7\n",
       "Sensitivity            1.0000   1.0000  1.00000  0.66667  1.00000   1.0000\n",
       "Specificity            1.0000   1.0000  0.98214  1.00000  1.00000   1.0000\n",
       "Pos Pred Value         1.0000   1.0000  0.83333  1.00000  1.00000   1.0000\n",
       "Neg Pred Value         1.0000   1.0000  1.00000  0.98305  1.00000   1.0000\n",
       "Prevalence             0.3443   0.3607  0.08197  0.04918  0.03279   0.1311\n",
       "Detection Rate         0.3443   0.3607  0.08197  0.03279  0.03279   0.1311\n",
       "Detection Prevalence   0.3443   0.3607  0.09836  0.03279  0.03279   0.1311\n",
       "Balanced Accuracy      1.0000   1.0000  0.99107  0.83333  1.00000   1.0000"
      ]
     },
     "metadata": {},
     "output_type": "display_data"
    },
    {
     "data": {
      "text/plain": [
       "       class\n",
       "predict  1  2  3  5  6  7\n",
       "      1 21  0  0  0  0  0\n",
       "      2  0 22  0  0  0  0\n",
       "      3  0  0  5  1  0  0\n",
       "      5  0  0  0  2  0  0\n",
       "      6  0  0  0  0  2  0\n",
       "      7  0  0  0  0  0  8"
      ]
     },
     "metadata": {},
     "output_type": "display_data"
    }
   ],
   "source": [
    "svm_model3 = svm(Type ~ ., data=glass_train_data, kernel=\"polynomial\", cost=2, scale=FALSE)\n",
    "summary(svm_model3)\n",
    "\n",
    "# setting up the code to solve for the problem using the best model\n",
    "pred <- predict(svm_model3, glass_test_data[,-11])\n",
    "\n",
    "# below I'm using the confustionmatrix function of the caret package to find the accuracy of the model. \n",
    "confusionMatrix(data=pred, glass_test_data$Type)\n"
   ]
  },
  {
   "cell_type": "markdown",
   "metadata": {},
   "source": [
    "#### Final thoughts \n",
    "\n",
    "SVM performs much better than LDA when predicting glass types.  We tried several different parameters using the SVM model and they all seem pretty good.  Going forward we'd want to continue to test the model to see how it performs to new and unseen data....we're going to want to avoid overfitting.  "
   ]
  },
  {
   "cell_type": "code",
   "execution_count": null,
   "metadata": {
    "collapsed": true
   },
   "outputs": [],
   "source": []
  }
 ],
 "metadata": {
  "kernelspec": {
   "display_name": "R",
   "language": "R",
   "name": "ir"
  },
  "language_info": {
   "codemirror_mode": "r",
   "file_extension": ".r",
   "mimetype": "text/x-r-source",
   "name": "R",
   "pygments_lexer": "r",
   "version": "3.4.1"
  }
 },
 "nbformat": 4,
 "nbformat_minor": 1
}
