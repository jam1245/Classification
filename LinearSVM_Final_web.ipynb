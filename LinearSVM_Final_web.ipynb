{
 "cells": [
  {
   "cell_type": "markdown",
   "metadata": {},
   "source": [
    "# Predicting Medical Appointment No Shows\n",
    "\n",
    "Dataset: https://www.kaggle.com/joniarroba/noshowappointments"
   ]
  },
  {
   "cell_type": "code",
   "execution_count": 2,
   "metadata": {
    "collapsed": true
   },
   "outputs": [],
   "source": [
    "%matplotlib inline\n",
    "import matplotlib.pyplot as plt\n",
    "\n",
    "import os, sys\n",
    "import itertools\n",
    "import numpy as np\n",
    "import pandas as pd"
   ]
  },
  {
   "cell_type": "markdown",
   "metadata": {},
   "source": [
    "## Load dataset\n",
    "\n",
    "This dataset is used to predict **No-show** from various factors recorded."
   ]
  },
  {
   "cell_type": "code",
   "execution_count": 3,
   "metadata": {},
   "outputs": [
    {
     "data": {
      "text/html": [
       "<div>\n",
       "<style>\n",
       "    .dataframe thead tr:only-child th {\n",
       "        text-align: right;\n",
       "    }\n",
       "\n",
       "    .dataframe thead th {\n",
       "        text-align: left;\n",
       "    }\n",
       "\n",
       "    .dataframe tbody tr th {\n",
       "        vertical-align: top;\n",
       "    }\n",
       "</style>\n",
       "<table border=\"1\" class=\"dataframe\">\n",
       "  <thead>\n",
       "    <tr style=\"text-align: right;\">\n",
       "      <th></th>\n",
       "      <th>PatientId</th>\n",
       "      <th>AppointmentID</th>\n",
       "      <th>Age</th>\n",
       "      <th>Scholarship</th>\n",
       "      <th>Hipertension</th>\n",
       "      <th>Diabetes</th>\n",
       "      <th>Alcoholism</th>\n",
       "      <th>Handcap</th>\n",
       "      <th>SMS_received</th>\n",
       "    </tr>\n",
       "  </thead>\n",
       "  <tbody>\n",
       "    <tr>\n",
       "      <th>count</th>\n",
       "      <td>1.105270e+05</td>\n",
       "      <td>1.105270e+05</td>\n",
       "      <td>110527.000000</td>\n",
       "      <td>110527.000000</td>\n",
       "      <td>110527.000000</td>\n",
       "      <td>110527.000000</td>\n",
       "      <td>110527.000000</td>\n",
       "      <td>110527.000000</td>\n",
       "      <td>110527.000000</td>\n",
       "    </tr>\n",
       "    <tr>\n",
       "      <th>mean</th>\n",
       "      <td>1.474963e+14</td>\n",
       "      <td>5.675305e+06</td>\n",
       "      <td>37.088874</td>\n",
       "      <td>0.098266</td>\n",
       "      <td>0.197246</td>\n",
       "      <td>0.071865</td>\n",
       "      <td>0.030400</td>\n",
       "      <td>0.022248</td>\n",
       "      <td>0.321026</td>\n",
       "    </tr>\n",
       "    <tr>\n",
       "      <th>std</th>\n",
       "      <td>2.560949e+14</td>\n",
       "      <td>7.129575e+04</td>\n",
       "      <td>23.110205</td>\n",
       "      <td>0.297675</td>\n",
       "      <td>0.397921</td>\n",
       "      <td>0.258265</td>\n",
       "      <td>0.171686</td>\n",
       "      <td>0.161543</td>\n",
       "      <td>0.466873</td>\n",
       "    </tr>\n",
       "    <tr>\n",
       "      <th>min</th>\n",
       "      <td>3.921784e+04</td>\n",
       "      <td>5.030230e+06</td>\n",
       "      <td>-1.000000</td>\n",
       "      <td>0.000000</td>\n",
       "      <td>0.000000</td>\n",
       "      <td>0.000000</td>\n",
       "      <td>0.000000</td>\n",
       "      <td>0.000000</td>\n",
       "      <td>0.000000</td>\n",
       "    </tr>\n",
       "    <tr>\n",
       "      <th>25%</th>\n",
       "      <td>4.172614e+12</td>\n",
       "      <td>5.640286e+06</td>\n",
       "      <td>18.000000</td>\n",
       "      <td>0.000000</td>\n",
       "      <td>0.000000</td>\n",
       "      <td>0.000000</td>\n",
       "      <td>0.000000</td>\n",
       "      <td>0.000000</td>\n",
       "      <td>0.000000</td>\n",
       "    </tr>\n",
       "    <tr>\n",
       "      <th>50%</th>\n",
       "      <td>3.173184e+13</td>\n",
       "      <td>5.680573e+06</td>\n",
       "      <td>37.000000</td>\n",
       "      <td>0.000000</td>\n",
       "      <td>0.000000</td>\n",
       "      <td>0.000000</td>\n",
       "      <td>0.000000</td>\n",
       "      <td>0.000000</td>\n",
       "      <td>0.000000</td>\n",
       "    </tr>\n",
       "    <tr>\n",
       "      <th>75%</th>\n",
       "      <td>9.439172e+13</td>\n",
       "      <td>5.725524e+06</td>\n",
       "      <td>55.000000</td>\n",
       "      <td>0.000000</td>\n",
       "      <td>0.000000</td>\n",
       "      <td>0.000000</td>\n",
       "      <td>0.000000</td>\n",
       "      <td>0.000000</td>\n",
       "      <td>1.000000</td>\n",
       "    </tr>\n",
       "    <tr>\n",
       "      <th>max</th>\n",
       "      <td>9.999816e+14</td>\n",
       "      <td>5.790484e+06</td>\n",
       "      <td>115.000000</td>\n",
       "      <td>1.000000</td>\n",
       "      <td>1.000000</td>\n",
       "      <td>1.000000</td>\n",
       "      <td>1.000000</td>\n",
       "      <td>4.000000</td>\n",
       "      <td>1.000000</td>\n",
       "    </tr>\n",
       "  </tbody>\n",
       "</table>\n",
       "</div>"
      ],
      "text/plain": [
       "          PatientId  AppointmentID            Age    Scholarship  \\\n",
       "count  1.105270e+05   1.105270e+05  110527.000000  110527.000000   \n",
       "mean   1.474963e+14   5.675305e+06      37.088874       0.098266   \n",
       "std    2.560949e+14   7.129575e+04      23.110205       0.297675   \n",
       "min    3.921784e+04   5.030230e+06      -1.000000       0.000000   \n",
       "25%    4.172614e+12   5.640286e+06      18.000000       0.000000   \n",
       "50%    3.173184e+13   5.680573e+06      37.000000       0.000000   \n",
       "75%    9.439172e+13   5.725524e+06      55.000000       0.000000   \n",
       "max    9.999816e+14   5.790484e+06     115.000000       1.000000   \n",
       "\n",
       "        Hipertension       Diabetes     Alcoholism        Handcap  \\\n",
       "count  110527.000000  110527.000000  110527.000000  110527.000000   \n",
       "mean        0.197246       0.071865       0.030400       0.022248   \n",
       "std         0.397921       0.258265       0.171686       0.161543   \n",
       "min         0.000000       0.000000       0.000000       0.000000   \n",
       "25%         0.000000       0.000000       0.000000       0.000000   \n",
       "50%         0.000000       0.000000       0.000000       0.000000   \n",
       "75%         0.000000       0.000000       0.000000       0.000000   \n",
       "max         1.000000       1.000000       1.000000       4.000000   \n",
       "\n",
       "        SMS_received  \n",
       "count  110527.000000  \n",
       "mean        0.321026  \n",
       "std         0.466873  \n",
       "min         0.000000  \n",
       "25%         0.000000  \n",
       "50%         0.000000  \n",
       "75%         1.000000  \n",
       "max         1.000000  "
      ]
     },
     "execution_count": 3,
     "metadata": {},
     "output_type": "execute_result"
    }
   ],
   "source": [
    "# Dataset location\n",
    "DATASET = '/dsa/data/all_datasets/AppliedML_M6/appointment_noshow.csv'\n",
    "assert os.path.exists(DATASET)\n",
    "\n",
    "# Load and shuffle\n",
    "dataset = pd.read_csv(DATASET).sample(frac = 1).reset_index(drop=True)\n",
    "dataset.describe()"
   ]
  },
  {
   "cell_type": "markdown",
   "metadata": {},
   "source": [
    "## Processing"
   ]
  },
  {
   "cell_type": "markdown",
   "metadata": {},
   "source": [
    "List top 5 records to have a preview of this dataset."
   ]
  },
  {
   "cell_type": "code",
   "execution_count": 4,
   "metadata": {},
   "outputs": [
    {
     "data": {
      "text/html": [
       "<div>\n",
       "<style>\n",
       "    .dataframe thead tr:only-child th {\n",
       "        text-align: right;\n",
       "    }\n",
       "\n",
       "    .dataframe thead th {\n",
       "        text-align: left;\n",
       "    }\n",
       "\n",
       "    .dataframe tbody tr th {\n",
       "        vertical-align: top;\n",
       "    }\n",
       "</style>\n",
       "<table border=\"1\" class=\"dataframe\">\n",
       "  <thead>\n",
       "    <tr style=\"text-align: right;\">\n",
       "      <th></th>\n",
       "      <th>PatientId</th>\n",
       "      <th>AppointmentID</th>\n",
       "      <th>Gender</th>\n",
       "      <th>ScheduledDay</th>\n",
       "      <th>AppointmentDay</th>\n",
       "      <th>Age</th>\n",
       "      <th>Neighbourhood</th>\n",
       "      <th>Scholarship</th>\n",
       "      <th>Hipertension</th>\n",
       "      <th>Diabetes</th>\n",
       "      <th>Alcoholism</th>\n",
       "      <th>Handcap</th>\n",
       "      <th>SMS_received</th>\n",
       "      <th>No-show</th>\n",
       "    </tr>\n",
       "  </thead>\n",
       "  <tbody>\n",
       "    <tr>\n",
       "      <th>0</th>\n",
       "      <td>5.257126e+14</td>\n",
       "      <td>5700902</td>\n",
       "      <td>F</td>\n",
       "      <td>2016-05-16T09:53:31Z</td>\n",
       "      <td>2016-05-25T00:00:00Z</td>\n",
       "      <td>25</td>\n",
       "      <td>RESISTÊNCIA</td>\n",
       "      <td>0</td>\n",
       "      <td>0</td>\n",
       "      <td>0</td>\n",
       "      <td>0</td>\n",
       "      <td>0</td>\n",
       "      <td>1</td>\n",
       "      <td>No</td>\n",
       "    </tr>\n",
       "    <tr>\n",
       "      <th>1</th>\n",
       "      <td>3.531679e+14</td>\n",
       "      <td>5586790</td>\n",
       "      <td>F</td>\n",
       "      <td>2016-04-15T07:58:18Z</td>\n",
       "      <td>2016-05-03T00:00:00Z</td>\n",
       "      <td>56</td>\n",
       "      <td>CARATOÍRA</td>\n",
       "      <td>0</td>\n",
       "      <td>0</td>\n",
       "      <td>0</td>\n",
       "      <td>0</td>\n",
       "      <td>0</td>\n",
       "      <td>1</td>\n",
       "      <td>No</td>\n",
       "    </tr>\n",
       "    <tr>\n",
       "      <th>2</th>\n",
       "      <td>5.445588e+12</td>\n",
       "      <td>5635879</td>\n",
       "      <td>M</td>\n",
       "      <td>2016-04-28T14:14:13Z</td>\n",
       "      <td>2016-05-12T00:00:00Z</td>\n",
       "      <td>15</td>\n",
       "      <td>GURIGICA</td>\n",
       "      <td>0</td>\n",
       "      <td>0</td>\n",
       "      <td>0</td>\n",
       "      <td>0</td>\n",
       "      <td>0</td>\n",
       "      <td>0</td>\n",
       "      <td>No</td>\n",
       "    </tr>\n",
       "    <tr>\n",
       "      <th>3</th>\n",
       "      <td>8.296685e+11</td>\n",
       "      <td>5673939</td>\n",
       "      <td>F</td>\n",
       "      <td>2016-05-09T10:07:58Z</td>\n",
       "      <td>2016-05-09T00:00:00Z</td>\n",
       "      <td>1</td>\n",
       "      <td>ENSEADA DO SUÁ</td>\n",
       "      <td>0</td>\n",
       "      <td>0</td>\n",
       "      <td>0</td>\n",
       "      <td>0</td>\n",
       "      <td>0</td>\n",
       "      <td>0</td>\n",
       "      <td>No</td>\n",
       "    </tr>\n",
       "    <tr>\n",
       "      <th>4</th>\n",
       "      <td>1.119268e+14</td>\n",
       "      <td>5778600</td>\n",
       "      <td>F</td>\n",
       "      <td>2016-06-06T15:55:20Z</td>\n",
       "      <td>2016-06-06T00:00:00Z</td>\n",
       "      <td>70</td>\n",
       "      <td>JARDIM CAMBURI</td>\n",
       "      <td>0</td>\n",
       "      <td>1</td>\n",
       "      <td>1</td>\n",
       "      <td>0</td>\n",
       "      <td>0</td>\n",
       "      <td>0</td>\n",
       "      <td>No</td>\n",
       "    </tr>\n",
       "  </tbody>\n",
       "</table>\n",
       "</div>"
      ],
      "text/plain": [
       "      PatientId  AppointmentID Gender          ScheduledDay  \\\n",
       "0  5.257126e+14        5700902      F  2016-05-16T09:53:31Z   \n",
       "1  3.531679e+14        5586790      F  2016-04-15T07:58:18Z   \n",
       "2  5.445588e+12        5635879      M  2016-04-28T14:14:13Z   \n",
       "3  8.296685e+11        5673939      F  2016-05-09T10:07:58Z   \n",
       "4  1.119268e+14        5778600      F  2016-06-06T15:55:20Z   \n",
       "\n",
       "         AppointmentDay  Age   Neighbourhood  Scholarship  Hipertension  \\\n",
       "0  2016-05-25T00:00:00Z   25     RESISTÊNCIA            0             0   \n",
       "1  2016-05-03T00:00:00Z   56       CARATOÍRA            0             0   \n",
       "2  2016-05-12T00:00:00Z   15        GURIGICA            0             0   \n",
       "3  2016-05-09T00:00:00Z    1  ENSEADA DO SUÁ            0             0   \n",
       "4  2016-06-06T00:00:00Z   70  JARDIM CAMBURI            0             1   \n",
       "\n",
       "   Diabetes  Alcoholism  Handcap  SMS_received No-show  \n",
       "0         0           0        0             1      No  \n",
       "1         0           0        0             1      No  \n",
       "2         0           0        0             0      No  \n",
       "3         0           0        0             0      No  \n",
       "4         1           0        0             0      No  "
      ]
     },
     "execution_count": 4,
     "metadata": {},
     "output_type": "execute_result"
    }
   ],
   "source": [
    "dataset.head()"
   ]
  },
  {
   "cell_type": "markdown",
   "metadata": {},
   "source": [
    "Looks like we won't be using **PatientId** and **AppointmentID** columns.\n",
    "\n",
    "Delete those columns."
   ]
  },
  {
   "cell_type": "code",
   "execution_count": 5,
   "metadata": {},
   "outputs": [
    {
     "data": {
      "text/html": [
       "<div>\n",
       "<style>\n",
       "    .dataframe thead tr:only-child th {\n",
       "        text-align: right;\n",
       "    }\n",
       "\n",
       "    .dataframe thead th {\n",
       "        text-align: left;\n",
       "    }\n",
       "\n",
       "    .dataframe tbody tr th {\n",
       "        vertical-align: top;\n",
       "    }\n",
       "</style>\n",
       "<table border=\"1\" class=\"dataframe\">\n",
       "  <thead>\n",
       "    <tr style=\"text-align: right;\">\n",
       "      <th></th>\n",
       "      <th>Gender</th>\n",
       "      <th>ScheduledDay</th>\n",
       "      <th>AppointmentDay</th>\n",
       "      <th>Age</th>\n",
       "      <th>Neighbourhood</th>\n",
       "      <th>Scholarship</th>\n",
       "      <th>Hipertension</th>\n",
       "      <th>Diabetes</th>\n",
       "      <th>Alcoholism</th>\n",
       "      <th>Handcap</th>\n",
       "      <th>SMS_received</th>\n",
       "      <th>No-show</th>\n",
       "    </tr>\n",
       "  </thead>\n",
       "  <tbody>\n",
       "    <tr>\n",
       "      <th>0</th>\n",
       "      <td>F</td>\n",
       "      <td>2016-05-16T09:53:31Z</td>\n",
       "      <td>2016-05-25T00:00:00Z</td>\n",
       "      <td>25</td>\n",
       "      <td>RESISTÊNCIA</td>\n",
       "      <td>0</td>\n",
       "      <td>0</td>\n",
       "      <td>0</td>\n",
       "      <td>0</td>\n",
       "      <td>0</td>\n",
       "      <td>1</td>\n",
       "      <td>No</td>\n",
       "    </tr>\n",
       "    <tr>\n",
       "      <th>1</th>\n",
       "      <td>F</td>\n",
       "      <td>2016-04-15T07:58:18Z</td>\n",
       "      <td>2016-05-03T00:00:00Z</td>\n",
       "      <td>56</td>\n",
       "      <td>CARATOÍRA</td>\n",
       "      <td>0</td>\n",
       "      <td>0</td>\n",
       "      <td>0</td>\n",
       "      <td>0</td>\n",
       "      <td>0</td>\n",
       "      <td>1</td>\n",
       "      <td>No</td>\n",
       "    </tr>\n",
       "    <tr>\n",
       "      <th>2</th>\n",
       "      <td>M</td>\n",
       "      <td>2016-04-28T14:14:13Z</td>\n",
       "      <td>2016-05-12T00:00:00Z</td>\n",
       "      <td>15</td>\n",
       "      <td>GURIGICA</td>\n",
       "      <td>0</td>\n",
       "      <td>0</td>\n",
       "      <td>0</td>\n",
       "      <td>0</td>\n",
       "      <td>0</td>\n",
       "      <td>0</td>\n",
       "      <td>No</td>\n",
       "    </tr>\n",
       "    <tr>\n",
       "      <th>3</th>\n",
       "      <td>F</td>\n",
       "      <td>2016-05-09T10:07:58Z</td>\n",
       "      <td>2016-05-09T00:00:00Z</td>\n",
       "      <td>1</td>\n",
       "      <td>ENSEADA DO SUÁ</td>\n",
       "      <td>0</td>\n",
       "      <td>0</td>\n",
       "      <td>0</td>\n",
       "      <td>0</td>\n",
       "      <td>0</td>\n",
       "      <td>0</td>\n",
       "      <td>No</td>\n",
       "    </tr>\n",
       "    <tr>\n",
       "      <th>4</th>\n",
       "      <td>F</td>\n",
       "      <td>2016-06-06T15:55:20Z</td>\n",
       "      <td>2016-06-06T00:00:00Z</td>\n",
       "      <td>70</td>\n",
       "      <td>JARDIM CAMBURI</td>\n",
       "      <td>0</td>\n",
       "      <td>1</td>\n",
       "      <td>1</td>\n",
       "      <td>0</td>\n",
       "      <td>0</td>\n",
       "      <td>0</td>\n",
       "      <td>No</td>\n",
       "    </tr>\n",
       "  </tbody>\n",
       "</table>\n",
       "</div>"
      ],
      "text/plain": [
       "  Gender          ScheduledDay        AppointmentDay  Age   Neighbourhood  \\\n",
       "0      F  2016-05-16T09:53:31Z  2016-05-25T00:00:00Z   25     RESISTÊNCIA   \n",
       "1      F  2016-04-15T07:58:18Z  2016-05-03T00:00:00Z   56       CARATOÍRA   \n",
       "2      M  2016-04-28T14:14:13Z  2016-05-12T00:00:00Z   15        GURIGICA   \n",
       "3      F  2016-05-09T10:07:58Z  2016-05-09T00:00:00Z    1  ENSEADA DO SUÁ   \n",
       "4      F  2016-06-06T15:55:20Z  2016-06-06T00:00:00Z   70  JARDIM CAMBURI   \n",
       "\n",
       "   Scholarship  Hipertension  Diabetes  Alcoholism  Handcap  SMS_received  \\\n",
       "0            0             0         0           0        0             1   \n",
       "1            0             0         0           0        0             1   \n",
       "2            0             0         0           0        0             0   \n",
       "3            0             0         0           0        0             0   \n",
       "4            0             1         1           0        0             0   \n",
       "\n",
       "  No-show  \n",
       "0      No  \n",
       "1      No  \n",
       "2      No  \n",
       "3      No  \n",
       "4      No  "
      ]
     },
     "execution_count": 5,
     "metadata": {},
     "output_type": "execute_result"
    }
   ],
   "source": [
    "dataset.drop('PatientId', axis=1, inplace=True)\n",
    "dataset.drop('AppointmentID', axis=1, inplace=True)\n",
    "\n",
    "dataset.head()"
   ]
  },
  {
   "cell_type": "markdown",
   "metadata": {},
   "source": [
    "Convert **Gender** and **No-show** to binary (0s and 1s)."
   ]
  },
  {
   "cell_type": "code",
   "execution_count": 6,
   "metadata": {},
   "outputs": [
    {
     "data": {
      "text/html": [
       "<div>\n",
       "<style>\n",
       "    .dataframe thead tr:only-child th {\n",
       "        text-align: right;\n",
       "    }\n",
       "\n",
       "    .dataframe thead th {\n",
       "        text-align: left;\n",
       "    }\n",
       "\n",
       "    .dataframe tbody tr th {\n",
       "        vertical-align: top;\n",
       "    }\n",
       "</style>\n",
       "<table border=\"1\" class=\"dataframe\">\n",
       "  <thead>\n",
       "    <tr style=\"text-align: right;\">\n",
       "      <th></th>\n",
       "      <th>Gender</th>\n",
       "      <th>ScheduledDay</th>\n",
       "      <th>AppointmentDay</th>\n",
       "      <th>Age</th>\n",
       "      <th>Neighbourhood</th>\n",
       "      <th>Scholarship</th>\n",
       "      <th>Hipertension</th>\n",
       "      <th>Diabetes</th>\n",
       "      <th>Alcoholism</th>\n",
       "      <th>Handcap</th>\n",
       "      <th>SMS_received</th>\n",
       "      <th>No-show</th>\n",
       "    </tr>\n",
       "  </thead>\n",
       "  <tbody>\n",
       "    <tr>\n",
       "      <th>0</th>\n",
       "      <td>0</td>\n",
       "      <td>2016-05-16T09:53:31Z</td>\n",
       "      <td>2016-05-25T00:00:00Z</td>\n",
       "      <td>25</td>\n",
       "      <td>RESISTÊNCIA</td>\n",
       "      <td>0</td>\n",
       "      <td>0</td>\n",
       "      <td>0</td>\n",
       "      <td>0</td>\n",
       "      <td>0</td>\n",
       "      <td>1</td>\n",
       "      <td>0</td>\n",
       "    </tr>\n",
       "    <tr>\n",
       "      <th>1</th>\n",
       "      <td>0</td>\n",
       "      <td>2016-04-15T07:58:18Z</td>\n",
       "      <td>2016-05-03T00:00:00Z</td>\n",
       "      <td>56</td>\n",
       "      <td>CARATOÍRA</td>\n",
       "      <td>0</td>\n",
       "      <td>0</td>\n",
       "      <td>0</td>\n",
       "      <td>0</td>\n",
       "      <td>0</td>\n",
       "      <td>1</td>\n",
       "      <td>0</td>\n",
       "    </tr>\n",
       "    <tr>\n",
       "      <th>2</th>\n",
       "      <td>1</td>\n",
       "      <td>2016-04-28T14:14:13Z</td>\n",
       "      <td>2016-05-12T00:00:00Z</td>\n",
       "      <td>15</td>\n",
       "      <td>GURIGICA</td>\n",
       "      <td>0</td>\n",
       "      <td>0</td>\n",
       "      <td>0</td>\n",
       "      <td>0</td>\n",
       "      <td>0</td>\n",
       "      <td>0</td>\n",
       "      <td>0</td>\n",
       "    </tr>\n",
       "    <tr>\n",
       "      <th>3</th>\n",
       "      <td>0</td>\n",
       "      <td>2016-05-09T10:07:58Z</td>\n",
       "      <td>2016-05-09T00:00:00Z</td>\n",
       "      <td>1</td>\n",
       "      <td>ENSEADA DO SUÁ</td>\n",
       "      <td>0</td>\n",
       "      <td>0</td>\n",
       "      <td>0</td>\n",
       "      <td>0</td>\n",
       "      <td>0</td>\n",
       "      <td>0</td>\n",
       "      <td>0</td>\n",
       "    </tr>\n",
       "    <tr>\n",
       "      <th>4</th>\n",
       "      <td>0</td>\n",
       "      <td>2016-06-06T15:55:20Z</td>\n",
       "      <td>2016-06-06T00:00:00Z</td>\n",
       "      <td>70</td>\n",
       "      <td>JARDIM CAMBURI</td>\n",
       "      <td>0</td>\n",
       "      <td>1</td>\n",
       "      <td>1</td>\n",
       "      <td>0</td>\n",
       "      <td>0</td>\n",
       "      <td>0</td>\n",
       "      <td>0</td>\n",
       "    </tr>\n",
       "  </tbody>\n",
       "</table>\n",
       "</div>"
      ],
      "text/plain": [
       "   Gender          ScheduledDay        AppointmentDay  Age   Neighbourhood  \\\n",
       "0       0  2016-05-16T09:53:31Z  2016-05-25T00:00:00Z   25     RESISTÊNCIA   \n",
       "1       0  2016-04-15T07:58:18Z  2016-05-03T00:00:00Z   56       CARATOÍRA   \n",
       "2       1  2016-04-28T14:14:13Z  2016-05-12T00:00:00Z   15        GURIGICA   \n",
       "3       0  2016-05-09T10:07:58Z  2016-05-09T00:00:00Z    1  ENSEADA DO SUÁ   \n",
       "4       0  2016-06-06T15:55:20Z  2016-06-06T00:00:00Z   70  JARDIM CAMBURI   \n",
       "\n",
       "   Scholarship  Hipertension  Diabetes  Alcoholism  Handcap  SMS_received  \\\n",
       "0            0             0         0           0        0             1   \n",
       "1            0             0         0           0        0             1   \n",
       "2            0             0         0           0        0             0   \n",
       "3            0             0         0           0        0             0   \n",
       "4            0             1         1           0        0             0   \n",
       "\n",
       "   No-show  \n",
       "0        0  \n",
       "1        0  \n",
       "2        0  \n",
       "3        0  \n",
       "4        0  "
      ]
     },
     "execution_count": 6,
     "metadata": {},
     "output_type": "execute_result"
    }
   ],
   "source": [
    "dataset['Gender'] = dataset['Gender'].apply(['F', 'M'].index)\n",
    "dataset['No-show'] = dataset['No-show'].apply(['No', 'Yes'].index)\n",
    "\n",
    "dataset.head()"
   ]
  },
  {
   "cell_type": "markdown",
   "metadata": {},
   "source": [
    "Convert **ScheduledDay** and **AppointmentDay** into np.datetime data type."
   ]
  },
  {
   "cell_type": "code",
   "execution_count": 7,
   "metadata": {},
   "outputs": [
    {
     "data": {
      "text/html": [
       "<div>\n",
       "<style>\n",
       "    .dataframe thead tr:only-child th {\n",
       "        text-align: right;\n",
       "    }\n",
       "\n",
       "    .dataframe thead th {\n",
       "        text-align: left;\n",
       "    }\n",
       "\n",
       "    .dataframe tbody tr th {\n",
       "        vertical-align: top;\n",
       "    }\n",
       "</style>\n",
       "<table border=\"1\" class=\"dataframe\">\n",
       "  <thead>\n",
       "    <tr style=\"text-align: right;\">\n",
       "      <th></th>\n",
       "      <th>Gender</th>\n",
       "      <th>ScheduledDay</th>\n",
       "      <th>AppointmentDay</th>\n",
       "      <th>Age</th>\n",
       "      <th>Neighbourhood</th>\n",
       "      <th>Scholarship</th>\n",
       "      <th>Hipertension</th>\n",
       "      <th>Diabetes</th>\n",
       "      <th>Alcoholism</th>\n",
       "      <th>Handcap</th>\n",
       "      <th>SMS_received</th>\n",
       "      <th>No-show</th>\n",
       "    </tr>\n",
       "  </thead>\n",
       "  <tbody>\n",
       "    <tr>\n",
       "      <th>0</th>\n",
       "      <td>0</td>\n",
       "      <td>2016-05-16 09:53:31</td>\n",
       "      <td>2016-05-25</td>\n",
       "      <td>25</td>\n",
       "      <td>RESISTÊNCIA</td>\n",
       "      <td>0</td>\n",
       "      <td>0</td>\n",
       "      <td>0</td>\n",
       "      <td>0</td>\n",
       "      <td>0</td>\n",
       "      <td>1</td>\n",
       "      <td>0</td>\n",
       "    </tr>\n",
       "    <tr>\n",
       "      <th>1</th>\n",
       "      <td>0</td>\n",
       "      <td>2016-04-15 07:58:18</td>\n",
       "      <td>2016-05-03</td>\n",
       "      <td>56</td>\n",
       "      <td>CARATOÍRA</td>\n",
       "      <td>0</td>\n",
       "      <td>0</td>\n",
       "      <td>0</td>\n",
       "      <td>0</td>\n",
       "      <td>0</td>\n",
       "      <td>1</td>\n",
       "      <td>0</td>\n",
       "    </tr>\n",
       "    <tr>\n",
       "      <th>2</th>\n",
       "      <td>1</td>\n",
       "      <td>2016-04-28 14:14:13</td>\n",
       "      <td>2016-05-12</td>\n",
       "      <td>15</td>\n",
       "      <td>GURIGICA</td>\n",
       "      <td>0</td>\n",
       "      <td>0</td>\n",
       "      <td>0</td>\n",
       "      <td>0</td>\n",
       "      <td>0</td>\n",
       "      <td>0</td>\n",
       "      <td>0</td>\n",
       "    </tr>\n",
       "    <tr>\n",
       "      <th>3</th>\n",
       "      <td>0</td>\n",
       "      <td>2016-05-09 10:07:58</td>\n",
       "      <td>2016-05-09</td>\n",
       "      <td>1</td>\n",
       "      <td>ENSEADA DO SUÁ</td>\n",
       "      <td>0</td>\n",
       "      <td>0</td>\n",
       "      <td>0</td>\n",
       "      <td>0</td>\n",
       "      <td>0</td>\n",
       "      <td>0</td>\n",
       "      <td>0</td>\n",
       "    </tr>\n",
       "    <tr>\n",
       "      <th>4</th>\n",
       "      <td>0</td>\n",
       "      <td>2016-06-06 15:55:20</td>\n",
       "      <td>2016-06-06</td>\n",
       "      <td>70</td>\n",
       "      <td>JARDIM CAMBURI</td>\n",
       "      <td>0</td>\n",
       "      <td>1</td>\n",
       "      <td>1</td>\n",
       "      <td>0</td>\n",
       "      <td>0</td>\n",
       "      <td>0</td>\n",
       "      <td>0</td>\n",
       "    </tr>\n",
       "  </tbody>\n",
       "</table>\n",
       "</div>"
      ],
      "text/plain": [
       "   Gender        ScheduledDay AppointmentDay  Age   Neighbourhood  \\\n",
       "0       0 2016-05-16 09:53:31     2016-05-25   25     RESISTÊNCIA   \n",
       "1       0 2016-04-15 07:58:18     2016-05-03   56       CARATOÍRA   \n",
       "2       1 2016-04-28 14:14:13     2016-05-12   15        GURIGICA   \n",
       "3       0 2016-05-09 10:07:58     2016-05-09    1  ENSEADA DO SUÁ   \n",
       "4       0 2016-06-06 15:55:20     2016-06-06   70  JARDIM CAMBURI   \n",
       "\n",
       "   Scholarship  Hipertension  Diabetes  Alcoholism  Handcap  SMS_received  \\\n",
       "0            0             0         0           0        0             1   \n",
       "1            0             0         0           0        0             1   \n",
       "2            0             0         0           0        0             0   \n",
       "3            0             0         0           0        0             0   \n",
       "4            0             1         1           0        0             0   \n",
       "\n",
       "   No-show  \n",
       "0        0  \n",
       "1        0  \n",
       "2        0  \n",
       "3        0  \n",
       "4        0  "
      ]
     },
     "execution_count": 7,
     "metadata": {},
     "output_type": "execute_result"
    }
   ],
   "source": [
    "dataset['ScheduledDay'] = dataset['ScheduledDay'].apply(np.datetime64)\n",
    "dataset['AppointmentDay'] = dataset['AppointmentDay'].apply(np.datetime64)\n",
    "\n",
    "dataset.head()"
   ]
  },
  {
   "cell_type": "markdown",
   "metadata": {},
   "source": [
    "Add a column **AwaitingTime** filled with the time difference between **AppointmentDay** and **ScheduledDay**,\n",
    "in number of days."
   ]
  },
  {
   "cell_type": "code",
   "execution_count": 8,
   "metadata": {},
   "outputs": [
    {
     "data": {
      "text/html": [
       "<div>\n",
       "<style>\n",
       "    .dataframe thead tr:only-child th {\n",
       "        text-align: right;\n",
       "    }\n",
       "\n",
       "    .dataframe thead th {\n",
       "        text-align: left;\n",
       "    }\n",
       "\n",
       "    .dataframe tbody tr th {\n",
       "        vertical-align: top;\n",
       "    }\n",
       "</style>\n",
       "<table border=\"1\" class=\"dataframe\">\n",
       "  <thead>\n",
       "    <tr style=\"text-align: right;\">\n",
       "      <th></th>\n",
       "      <th>Gender</th>\n",
       "      <th>ScheduledDay</th>\n",
       "      <th>AppointmentDay</th>\n",
       "      <th>Age</th>\n",
       "      <th>Neighbourhood</th>\n",
       "      <th>Scholarship</th>\n",
       "      <th>Hipertension</th>\n",
       "      <th>Diabetes</th>\n",
       "      <th>Alcoholism</th>\n",
       "      <th>Handcap</th>\n",
       "      <th>SMS_received</th>\n",
       "      <th>No-show</th>\n",
       "      <th>AwaitingTime</th>\n",
       "    </tr>\n",
       "  </thead>\n",
       "  <tbody>\n",
       "    <tr>\n",
       "      <th>0</th>\n",
       "      <td>0</td>\n",
       "      <td>2016-05-16 09:53:31</td>\n",
       "      <td>2016-05-25</td>\n",
       "      <td>25</td>\n",
       "      <td>RESISTÊNCIA</td>\n",
       "      <td>0</td>\n",
       "      <td>0</td>\n",
       "      <td>0</td>\n",
       "      <td>0</td>\n",
       "      <td>0</td>\n",
       "      <td>1</td>\n",
       "      <td>0</td>\n",
       "      <td>8</td>\n",
       "    </tr>\n",
       "    <tr>\n",
       "      <th>1</th>\n",
       "      <td>0</td>\n",
       "      <td>2016-04-15 07:58:18</td>\n",
       "      <td>2016-05-03</td>\n",
       "      <td>56</td>\n",
       "      <td>CARATOÍRA</td>\n",
       "      <td>0</td>\n",
       "      <td>0</td>\n",
       "      <td>0</td>\n",
       "      <td>0</td>\n",
       "      <td>0</td>\n",
       "      <td>1</td>\n",
       "      <td>0</td>\n",
       "      <td>17</td>\n",
       "    </tr>\n",
       "    <tr>\n",
       "      <th>2</th>\n",
       "      <td>1</td>\n",
       "      <td>2016-04-28 14:14:13</td>\n",
       "      <td>2016-05-12</td>\n",
       "      <td>15</td>\n",
       "      <td>GURIGICA</td>\n",
       "      <td>0</td>\n",
       "      <td>0</td>\n",
       "      <td>0</td>\n",
       "      <td>0</td>\n",
       "      <td>0</td>\n",
       "      <td>0</td>\n",
       "      <td>0</td>\n",
       "      <td>13</td>\n",
       "    </tr>\n",
       "    <tr>\n",
       "      <th>3</th>\n",
       "      <td>0</td>\n",
       "      <td>2016-05-09 10:07:58</td>\n",
       "      <td>2016-05-09</td>\n",
       "      <td>1</td>\n",
       "      <td>ENSEADA DO SUÁ</td>\n",
       "      <td>0</td>\n",
       "      <td>0</td>\n",
       "      <td>0</td>\n",
       "      <td>0</td>\n",
       "      <td>0</td>\n",
       "      <td>0</td>\n",
       "      <td>0</td>\n",
       "      <td>-1</td>\n",
       "    </tr>\n",
       "    <tr>\n",
       "      <th>4</th>\n",
       "      <td>0</td>\n",
       "      <td>2016-06-06 15:55:20</td>\n",
       "      <td>2016-06-06</td>\n",
       "      <td>70</td>\n",
       "      <td>JARDIM CAMBURI</td>\n",
       "      <td>0</td>\n",
       "      <td>1</td>\n",
       "      <td>1</td>\n",
       "      <td>0</td>\n",
       "      <td>0</td>\n",
       "      <td>0</td>\n",
       "      <td>0</td>\n",
       "      <td>-1</td>\n",
       "    </tr>\n",
       "  </tbody>\n",
       "</table>\n",
       "</div>"
      ],
      "text/plain": [
       "   Gender        ScheduledDay AppointmentDay  Age   Neighbourhood  \\\n",
       "0       0 2016-05-16 09:53:31     2016-05-25   25     RESISTÊNCIA   \n",
       "1       0 2016-04-15 07:58:18     2016-05-03   56       CARATOÍRA   \n",
       "2       1 2016-04-28 14:14:13     2016-05-12   15        GURIGICA   \n",
       "3       0 2016-05-09 10:07:58     2016-05-09    1  ENSEADA DO SUÁ   \n",
       "4       0 2016-06-06 15:55:20     2016-06-06   70  JARDIM CAMBURI   \n",
       "\n",
       "   Scholarship  Hipertension  Diabetes  Alcoholism  Handcap  SMS_received  \\\n",
       "0            0             0         0           0        0             1   \n",
       "1            0             0         0           0        0             1   \n",
       "2            0             0         0           0        0             0   \n",
       "3            0             0         0           0        0             0   \n",
       "4            0             1         1           0        0             0   \n",
       "\n",
       "   No-show  AwaitingTime  \n",
       "0        0             8  \n",
       "1        0            17  \n",
       "2        0            13  \n",
       "3        0            -1  \n",
       "4        0            -1  "
      ]
     },
     "execution_count": 8,
     "metadata": {},
     "output_type": "execute_result"
    }
   ],
   "source": [
    "dataset['AwaitingTime'] = (dataset['AppointmentDay'] - dataset['ScheduledDay']).apply(lambda dt: dt.days)\n",
    "dataset.head()"
   ]
  },
  {
   "cell_type": "markdown",
   "metadata": {},
   "source": [
    "Check unique values of all columns, except **ScheduledDay** and **AppointmentDay**\n",
    "because they would have too many unique values.\n",
    "\n",
    "The goal is to understand whether there's missing values or \"bad\" values in the dataset."
   ]
  },
  {
   "cell_type": "code",
   "execution_count": 9,
   "metadata": {},
   "outputs": [
    {
     "name": "stdout",
     "output_type": "stream",
     "text": [
      "Age [-7, -2, -1, 0, 1, 2, 3, 4, 5, 6, 7, 8, 9, 10, 11, 12, 13, 14, 15, 16, 17, 18, 19, 20, 21, 22, 23, 24, 25, 26, 27, 28, 29, 30, 31, 32, 33, 34, 35, 36, 37, 38, 39, 40, 41, 42, 43, 44, 45, 46, 47, 48, 49, 50, 51, 52, 53, 54, 55, 56, 57, 58, 59, 60, 61, 62, 63, 64, 65, 66, 67, 68, 69, 70, 71, 72, 73, 74, 75, 76, 77, 78, 79, 80, 81, 82, 83, 84, 85, 86, 87, 88, 89, 90, 91, 92, 93, 94, 95, 96, 97, 100, 101, 102, 103, 104, 106, 107, 108, 109, 110, 111, 114, 116, 118, 121, 122, 124, 125, 126, 131, 132, 138, 141, 145, 150, 154, 161, 168, 175, 178]\n",
      "Neighbourhood [-7, -2, -1, 0, 1, 2, 3, 4, 5, 6, 7, 8, 9, 10, 11, 12, 13, 14, 15, 16, 17, 18, 19, 20, 21, 22, 23, 24, 25, 26, 27, 28, 29, 30, 31, 32, 33, 34, 35, 36, 37, 38, 39, 40, 41, 42, 43, 44, 45, 46, 47, 48, 49, 50, 51, 52, 53, 54, 55, 56, 57, 58, 59, 60, 61, 62, 63, 64, 65, 66, 67, 68, 69, 70, 71, 72, 73, 74, 75, 76, 77, 78, 79, 80, 81, 82, 83, 84, 85, 86, 87, 88, 89, 90, 91, 92, 93, 94, 95, 96, 97, 100, 101, 102, 103, 104, 106, 107, 108, 109, 110, 111, 114, 116, 118, 121, 122, 124, 125, 126, 131, 132, 138, 141, 145, 150, 154, 161, 168, 175, 178]\n",
      "Scholarship [-7, -2, -1, 0, 1, 2, 3, 4, 5, 6, 7, 8, 9, 10, 11, 12, 13, 14, 15, 16, 17, 18, 19, 20, 21, 22, 23, 24, 25, 26, 27, 28, 29, 30, 31, 32, 33, 34, 35, 36, 37, 38, 39, 40, 41, 42, 43, 44, 45, 46, 47, 48, 49, 50, 51, 52, 53, 54, 55, 56, 57, 58, 59, 60, 61, 62, 63, 64, 65, 66, 67, 68, 69, 70, 71, 72, 73, 74, 75, 76, 77, 78, 79, 80, 81, 82, 83, 84, 85, 86, 87, 88, 89, 90, 91, 92, 93, 94, 95, 96, 97, 100, 101, 102, 103, 104, 106, 107, 108, 109, 110, 111, 114, 116, 118, 121, 122, 124, 125, 126, 131, 132, 138, 141, 145, 150, 154, 161, 168, 175, 178]\n",
      "AwaitingTime [-7, -2, -1, 0, 1, 2, 3, 4, 5, 6, 7, 8, 9, 10, 11, 12, 13, 14, 15, 16, 17, 18, 19, 20, 21, 22, 23, 24, 25, 26, 27, 28, 29, 30, 31, 32, 33, 34, 35, 36, 37, 38, 39, 40, 41, 42, 43, 44, 45, 46, 47, 48, 49, 50, 51, 52, 53, 54, 55, 56, 57, 58, 59, 60, 61, 62, 63, 64, 65, 66, 67, 68, 69, 70, 71, 72, 73, 74, 75, 76, 77, 78, 79, 80, 81, 82, 83, 84, 85, 86, 87, 88, 89, 90, 91, 92, 93, 94, 95, 96, 97, 100, 101, 102, 103, 104, 106, 107, 108, 109, 110, 111, 114, 116, 118, 121, 122, 124, 125, 126, 131, 132, 138, 141, 145, 150, 154, 161, 168, 175, 178]\n",
      "Handcap [-7, -2, -1, 0, 1, 2, 3, 4, 5, 6, 7, 8, 9, 10, 11, 12, 13, 14, 15, 16, 17, 18, 19, 20, 21, 22, 23, 24, 25, 26, 27, 28, 29, 30, 31, 32, 33, 34, 35, 36, 37, 38, 39, 40, 41, 42, 43, 44, 45, 46, 47, 48, 49, 50, 51, 52, 53, 54, 55, 56, 57, 58, 59, 60, 61, 62, 63, 64, 65, 66, 67, 68, 69, 70, 71, 72, 73, 74, 75, 76, 77, 78, 79, 80, 81, 82, 83, 84, 85, 86, 87, 88, 89, 90, 91, 92, 93, 94, 95, 96, 97, 100, 101, 102, 103, 104, 106, 107, 108, 109, 110, 111, 114, 116, 118, 121, 122, 124, 125, 126, 131, 132, 138, 141, 145, 150, 154, 161, 168, 175, 178]\n",
      "Gender [-7, -2, -1, 0, 1, 2, 3, 4, 5, 6, 7, 8, 9, 10, 11, 12, 13, 14, 15, 16, 17, 18, 19, 20, 21, 22, 23, 24, 25, 26, 27, 28, 29, 30, 31, 32, 33, 34, 35, 36, 37, 38, 39, 40, 41, 42, 43, 44, 45, 46, 47, 48, 49, 50, 51, 52, 53, 54, 55, 56, 57, 58, 59, 60, 61, 62, 63, 64, 65, 66, 67, 68, 69, 70, 71, 72, 73, 74, 75, 76, 77, 78, 79, 80, 81, 82, 83, 84, 85, 86, 87, 88, 89, 90, 91, 92, 93, 94, 95, 96, 97, 100, 101, 102, 103, 104, 106, 107, 108, 109, 110, 111, 114, 116, 118, 121, 122, 124, 125, 126, 131, 132, 138, 141, 145, 150, 154, 161, 168, 175, 178]\n",
      "Alcoholism [-7, -2, -1, 0, 1, 2, 3, 4, 5, 6, 7, 8, 9, 10, 11, 12, 13, 14, 15, 16, 17, 18, 19, 20, 21, 22, 23, 24, 25, 26, 27, 28, 29, 30, 31, 32, 33, 34, 35, 36, 37, 38, 39, 40, 41, 42, 43, 44, 45, 46, 47, 48, 49, 50, 51, 52, 53, 54, 55, 56, 57, 58, 59, 60, 61, 62, 63, 64, 65, 66, 67, 68, 69, 70, 71, 72, 73, 74, 75, 76, 77, 78, 79, 80, 81, 82, 83, 84, 85, 86, 87, 88, 89, 90, 91, 92, 93, 94, 95, 96, 97, 100, 101, 102, 103, 104, 106, 107, 108, 109, 110, 111, 114, 116, 118, 121, 122, 124, 125, 126, 131, 132, 138, 141, 145, 150, 154, 161, 168, 175, 178]\n",
      "Diabetes [-7, -2, -1, 0, 1, 2, 3, 4, 5, 6, 7, 8, 9, 10, 11, 12, 13, 14, 15, 16, 17, 18, 19, 20, 21, 22, 23, 24, 25, 26, 27, 28, 29, 30, 31, 32, 33, 34, 35, 36, 37, 38, 39, 40, 41, 42, 43, 44, 45, 46, 47, 48, 49, 50, 51, 52, 53, 54, 55, 56, 57, 58, 59, 60, 61, 62, 63, 64, 65, 66, 67, 68, 69, 70, 71, 72, 73, 74, 75, 76, 77, 78, 79, 80, 81, 82, 83, 84, 85, 86, 87, 88, 89, 90, 91, 92, 93, 94, 95, 96, 97, 100, 101, 102, 103, 104, 106, 107, 108, 109, 110, 111, 114, 116, 118, 121, 122, 124, 125, 126, 131, 132, 138, 141, 145, 150, 154, 161, 168, 175, 178]\n",
      "No-show [-7, -2, -1, 0, 1, 2, 3, 4, 5, 6, 7, 8, 9, 10, 11, 12, 13, 14, 15, 16, 17, 18, 19, 20, 21, 22, 23, 24, 25, 26, 27, 28, 29, 30, 31, 32, 33, 34, 35, 36, 37, 38, 39, 40, 41, 42, 43, 44, 45, 46, 47, 48, 49, 50, 51, 52, 53, 54, 55, 56, 57, 58, 59, 60, 61, 62, 63, 64, 65, 66, 67, 68, 69, 70, 71, 72, 73, 74, 75, 76, 77, 78, 79, 80, 81, 82, 83, 84, 85, 86, 87, 88, 89, 90, 91, 92, 93, 94, 95, 96, 97, 100, 101, 102, 103, 104, 106, 107, 108, 109, 110, 111, 114, 116, 118, 121, 122, 124, 125, 126, 131, 132, 138, 141, 145, 150, 154, 161, 168, 175, 178]\n",
      "Hipertension [-7, -2, -1, 0, 1, 2, 3, 4, 5, 6, 7, 8, 9, 10, 11, 12, 13, 14, 15, 16, 17, 18, 19, 20, 21, 22, 23, 24, 25, 26, 27, 28, 29, 30, 31, 32, 33, 34, 35, 36, 37, 38, 39, 40, 41, 42, 43, 44, 45, 46, 47, 48, 49, 50, 51, 52, 53, 54, 55, 56, 57, 58, 59, 60, 61, 62, 63, 64, 65, 66, 67, 68, 69, 70, 71, 72, 73, 74, 75, 76, 77, 78, 79, 80, 81, 82, 83, 84, 85, 86, 87, 88, 89, 90, 91, 92, 93, 94, 95, 96, 97, 100, 101, 102, 103, 104, 106, 107, 108, 109, 110, 111, 114, 116, 118, 121, 122, 124, 125, 126, 131, 132, 138, 141, 145, 150, 154, 161, 168, 175, 178]\n",
      "SMS_received [-7, -2, -1, 0, 1, 2, 3, 4, 5, 6, 7, 8, 9, 10, 11, 12, 13, 14, 15, 16, 17, 18, 19, 20, 21, 22, 23, 24, 25, 26, 27, 28, 29, 30, 31, 32, 33, 34, 35, 36, 37, 38, 39, 40, 41, 42, 43, 44, 45, 46, 47, 48, 49, 50, 51, 52, 53, 54, 55, 56, 57, 58, 59, 60, 61, 62, 63, 64, 65, 66, 67, 68, 69, 70, 71, 72, 73, 74, 75, 76, 77, 78, 79, 80, 81, 82, 83, 84, 85, 86, 87, 88, 89, 90, 91, 92, 93, 94, 95, 96, 97, 100, 101, 102, 103, 104, 106, 107, 108, 109, 110, 111, 114, 116, 118, 121, 122, 124, 125, 126, 131, 132, 138, 141, 145, 150, 154, 161, 168, 175, 178]\n"
     ]
    }
   ],
   "source": [
    "for column_name in set(dataset.columns)-{'ScheduledDay', 'AppointmentDay'}:\n",
    "    print(column_name, sorted(np.unique(dataset['AwaitingTime'])))\n"
   ]
  },
  {
   "cell_type": "markdown",
   "metadata": {},
   "source": [
    "### Outliers\n",
    "\n",
    "Now we'll import some outlier detection utilities."
   ]
  },
  {
   "cell_type": "code",
   "execution_count": 10,
   "metadata": {
    "collapsed": true
   },
   "outputs": [],
   "source": [
    "from sklearn.svm import OneClassSVM\n",
    "from sklearn.neighbors import LocalOutlierFactor\n",
    "from sklearn.covariance import EllipticEnvelope\n",
    "from sklearn.ensemble import IsolationForest"
   ]
  },
  {
   "cell_type": "markdown",
   "metadata": {},
   "source": [
    "First thing we noticed is that age can't be less than or equal to 0 unless there's probably some discrepancy in the dataset. We remove those rows."
   ]
  },
  {
   "cell_type": "code",
   "execution_count": 11,
   "metadata": {},
   "outputs": [
    {
     "name": "stdout",
     "output_type": "stream",
     "text": [
      "Number of records 106987\n",
      "Age [  1   2   3   4   5   6   7   8   9  10  11  12  13  14  15  16  17  18\n",
      "  19  20  21  22  23  24  25  26  27  28  29  30  31  32  33  34  35  36\n",
      "  37  38  39  40  41  42  43  44  45  46  47  48  49  50  51  52  53  54\n",
      "  55  56  57  58  59  60  61  62  63  64  65  66  67  68  69  70  71  72\n",
      "  73  74  75  76  77  78  79  80  81  82  83  84  85  86  87  88  89  90\n",
      "  91  92  93  94  95  96  97  98  99 100 102 115]\n"
     ]
    }
   ],
   "source": [
    "dataset = dataset[dataset.Age >=1]\n",
    "\n",
    "dataset = dataset.reset_index(drop=True)\n",
    "\n",
    "print('Number of records', len(dataset))\n",
    "print('Age', np.unique(dataset['Age']))"
   ]
  },
  {
   "cell_type": "markdown",
   "metadata": {},
   "source": [
    "Remove outliers in **AwaitingTime** with **Elliptic Envelope**."
   ]
  },
  {
   "cell_type": "code",
   "execution_count": 12,
   "metadata": {},
   "outputs": [
    {
     "name": "stdout",
     "output_type": "stream",
     "text": [
      "{'outliers': 317, 'inliers': 106670}\n",
      "Number of records 106670\n",
      "AwaitingTime [-7 -2 -1  0  1  2  3  4  5  6  7  8  9 10 11 12 13 14 15 16 17 18 19 20 21\n",
      " 22 23 24 25 26 27 28 29 30 31 32 33 34 35 36 37 38 39 40 41 42 43 44 45 46\n",
      " 47 48 49 50 51 52 53 54 55 56 57 58 59 60 61 62 63 64 65 66 67 68 69 70 71\n",
      " 72 73 74 75 76 77 78 79 80 81 82 83 84 85]\n"
     ]
    }
   ],
   "source": [
    "awaiting_time = np.array(dataset['AwaitingTime']).reshape((-1, 1))\n",
    "\n",
    "envelope = EllipticEnvelope(contamination = 0.003)\n",
    "envelope.fit(awaiting_time)\n",
    "\n",
    "outliers = envelope.predict(awaiting_time)==-1\n",
    "dataset.drop(np.flatnonzero(outliers), inplace=True)\n",
    "dataset.reset_index(drop=True, inplace=True)\n",
    "# ----------------------------------\n",
    "\n",
    "print({'inliers': np.sum(~outliers), 'outliers': np.sum(outliers)})\n",
    "print('Number of records', len(dataset))\n",
    "print('AwaitingTime', np.unique(dataset['AwaitingTime']))"
   ]
  },
  {
   "cell_type": "code",
   "execution_count": 13,
   "metadata": {},
   "outputs": [
    {
     "name": "stdout",
     "output_type": "stream",
     "text": [
      "[ True  True  True ...,  True  True  True]\n",
      "106670\n",
      "317\n"
     ]
    },
    {
     "data": {
      "text/plain": [
       "array([-7, -2, -1,  0,  1,  2,  3,  4,  5,  6,  7,  8,  9, 10, 11, 12, 13,\n",
       "       14, 15, 16, 17, 18, 19, 20, 21, 22, 23, 24, 25, 26, 27, 28, 29, 30,\n",
       "       31, 32, 33, 34, 35, 36, 37, 38, 39, 40, 41, 42, 43, 44, 45, 46, 47,\n",
       "       48, 49, 50, 51, 52, 53, 54, 55, 56, 57, 58, 59, 60, 61, 62, 63, 64,\n",
       "       65, 66, 67, 68, 69, 70, 71, 72, 73, 74, 75, 76, 77, 78, 79, 80, 81,\n",
       "       82, 83, 84, 85])"
      ]
     },
     "execution_count": 13,
     "metadata": {},
     "output_type": "execute_result"
    }
   ],
   "source": [
    "print(~outliers)\n",
    "print(np.sum(~outliers))\n",
    "print(np.sum(outliers))\n",
    "np.unique(dataset['AwaitingTime'])"
   ]
  },
  {
   "cell_type": "code",
   "execution_count": 14,
   "metadata": {},
   "outputs": [
    {
     "name": "stdout",
     "output_type": "stream",
     "text": [
      "[False False False ..., False False False]\n"
     ]
    }
   ],
   "source": [
    "print(outliers)"
   ]
  },
  {
   "cell_type": "code",
   "execution_count": 15,
   "metadata": {},
   "outputs": [
    {
     "name": "stdout",
     "output_type": "stream",
     "text": [
      "{'outliers': 317, 'inliers': 106670}\n",
      "Number of records 106670\n",
      "AwaitingTime [-7 -2 -1  0  1  2  3  4  5  6  7  8  9 10 11 12 13 14 15 16 17 18 19 20 21\n",
      " 22 23 24 25 26 27 28 29 30 31 32 33 34 35 36 37 38 39 40 41 42 43 44 45 46\n",
      " 47 48 49 50 51 52 53 54 55 56 57 58 59 60 61 62 63 64 65 66 67 68 69 70 71\n",
      " 72 73 74 75 76 77 78 79 80 81 82 83 84 85]\n"
     ]
    }
   ],
   "source": [
    "print({'inliers': np.sum(~outliers), 'outliers': np.sum(outliers)})\n",
    "print('Number of records', len(dataset))\n",
    "print('AwaitingTime', np.unique(dataset['AwaitingTime']))"
   ]
  },
  {
   "cell_type": "markdown",
   "metadata": {},
   "source": [
    "### Encoding"
   ]
  },
  {
   "cell_type": "markdown",
   "metadata": {},
   "source": [
    "Dates and times are usually difficult to deal with for predictive models as input data.\n",
    "\n",
    "Therefore, we create take day and month out of **AppointmentDay** and **create two new columns** respectively.\n",
    "\n",
    "Also remove **ScheduledDay** because it can be derived from these two columns and **AwaitingTime**,\n",
    "so this column would become redundant.\n",
    "\n",
    "Remove column **AppointmentDay**."
   ]
  },
  {
   "cell_type": "code",
   "execution_count": 16,
   "metadata": {},
   "outputs": [
    {
     "data": {
      "text/html": [
       "<div>\n",
       "<style>\n",
       "    .dataframe thead tr:only-child th {\n",
       "        text-align: right;\n",
       "    }\n",
       "\n",
       "    .dataframe thead th {\n",
       "        text-align: left;\n",
       "    }\n",
       "\n",
       "    .dataframe tbody tr th {\n",
       "        vertical-align: top;\n",
       "    }\n",
       "</style>\n",
       "<table border=\"1\" class=\"dataframe\">\n",
       "  <thead>\n",
       "    <tr style=\"text-align: right;\">\n",
       "      <th></th>\n",
       "      <th>Gender</th>\n",
       "      <th>Age</th>\n",
       "      <th>Neighbourhood</th>\n",
       "      <th>Scholarship</th>\n",
       "      <th>Hipertension</th>\n",
       "      <th>Diabetes</th>\n",
       "      <th>Alcoholism</th>\n",
       "      <th>Handcap</th>\n",
       "      <th>SMS_received</th>\n",
       "      <th>No-show</th>\n",
       "      <th>AwaitingTime</th>\n",
       "      <th>AppointmentDate_day</th>\n",
       "      <th>AppointmentDate_month</th>\n",
       "    </tr>\n",
       "  </thead>\n",
       "  <tbody>\n",
       "    <tr>\n",
       "      <th>0</th>\n",
       "      <td>0</td>\n",
       "      <td>25</td>\n",
       "      <td>RESISTÊNCIA</td>\n",
       "      <td>0</td>\n",
       "      <td>0</td>\n",
       "      <td>0</td>\n",
       "      <td>0</td>\n",
       "      <td>0</td>\n",
       "      <td>1</td>\n",
       "      <td>0</td>\n",
       "      <td>8</td>\n",
       "      <td>25</td>\n",
       "      <td>5</td>\n",
       "    </tr>\n",
       "    <tr>\n",
       "      <th>1</th>\n",
       "      <td>0</td>\n",
       "      <td>56</td>\n",
       "      <td>CARATOÍRA</td>\n",
       "      <td>0</td>\n",
       "      <td>0</td>\n",
       "      <td>0</td>\n",
       "      <td>0</td>\n",
       "      <td>0</td>\n",
       "      <td>1</td>\n",
       "      <td>0</td>\n",
       "      <td>17</td>\n",
       "      <td>3</td>\n",
       "      <td>5</td>\n",
       "    </tr>\n",
       "    <tr>\n",
       "      <th>2</th>\n",
       "      <td>1</td>\n",
       "      <td>15</td>\n",
       "      <td>GURIGICA</td>\n",
       "      <td>0</td>\n",
       "      <td>0</td>\n",
       "      <td>0</td>\n",
       "      <td>0</td>\n",
       "      <td>0</td>\n",
       "      <td>0</td>\n",
       "      <td>0</td>\n",
       "      <td>13</td>\n",
       "      <td>12</td>\n",
       "      <td>5</td>\n",
       "    </tr>\n",
       "    <tr>\n",
       "      <th>3</th>\n",
       "      <td>0</td>\n",
       "      <td>1</td>\n",
       "      <td>ENSEADA DO SUÁ</td>\n",
       "      <td>0</td>\n",
       "      <td>0</td>\n",
       "      <td>0</td>\n",
       "      <td>0</td>\n",
       "      <td>0</td>\n",
       "      <td>0</td>\n",
       "      <td>0</td>\n",
       "      <td>-1</td>\n",
       "      <td>9</td>\n",
       "      <td>5</td>\n",
       "    </tr>\n",
       "    <tr>\n",
       "      <th>4</th>\n",
       "      <td>0</td>\n",
       "      <td>70</td>\n",
       "      <td>JARDIM CAMBURI</td>\n",
       "      <td>0</td>\n",
       "      <td>1</td>\n",
       "      <td>1</td>\n",
       "      <td>0</td>\n",
       "      <td>0</td>\n",
       "      <td>0</td>\n",
       "      <td>0</td>\n",
       "      <td>-1</td>\n",
       "      <td>6</td>\n",
       "      <td>6</td>\n",
       "    </tr>\n",
       "  </tbody>\n",
       "</table>\n",
       "</div>"
      ],
      "text/plain": [
       "   Gender  Age   Neighbourhood  Scholarship  Hipertension  Diabetes  \\\n",
       "0       0   25     RESISTÊNCIA            0             0         0   \n",
       "1       0   56       CARATOÍRA            0             0         0   \n",
       "2       1   15        GURIGICA            0             0         0   \n",
       "3       0    1  ENSEADA DO SUÁ            0             0         0   \n",
       "4       0   70  JARDIM CAMBURI            0             1         1   \n",
       "\n",
       "   Alcoholism  Handcap  SMS_received  No-show  AwaitingTime  \\\n",
       "0           0        0             1        0             8   \n",
       "1           0        0             1        0            17   \n",
       "2           0        0             0        0            13   \n",
       "3           0        0             0        0            -1   \n",
       "4           0        0             0        0            -1   \n",
       "\n",
       "   AppointmentDate_day  AppointmentDate_month  \n",
       "0                   25                      5  \n",
       "1                    3                      5  \n",
       "2                   12                      5  \n",
       "3                    9                      5  \n",
       "4                    6                      6  "
      ]
     },
     "execution_count": 16,
     "metadata": {},
     "output_type": "execute_result"
    }
   ],
   "source": [
    "dataset['AppointmentDate_day'] = dataset['AppointmentDay'].apply(lambda d: d.day)\n",
    "dataset['AppointmentDate_month'] = dataset['AppointmentDay'].apply(lambda d: d.month)\n",
    "\n",
    "dataset.drop('ScheduledDay', axis=1, inplace=True)\n",
    "dataset.drop('AppointmentDay', axis=1, inplace=True)\n",
    "\n",
    "dataset.head()"
   ]
  },
  {
   "cell_type": "markdown",
   "metadata": {},
   "source": [
    "Strings are also undesirable data types here. We use **LabelBinarizer** to create a one-hot encoding for **Neighbourhood** instead."
   ]
  },
  {
   "cell_type": "code",
   "execution_count": 17,
   "metadata": {},
   "outputs": [
    {
     "name": "stdout",
     "output_type": "stream",
     "text": [
      "<class 'pandas.core.frame.DataFrame'>\n",
      "RangeIndex: 106670 entries, 0 to 106669\n",
      "Data columns (total 93 columns):\n",
      "Gender                                         106670 non-null int64\n",
      "Age                                            106670 non-null int64\n",
      "Scholarship                                    106670 non-null int64\n",
      "Hipertension                                   106670 non-null int64\n",
      "Diabetes                                       106670 non-null int64\n",
      "Alcoholism                                     106670 non-null int64\n",
      "Handcap                                        106670 non-null int64\n",
      "SMS_received                                   106670 non-null int64\n",
      "No-show                                        106670 non-null int64\n",
      "AwaitingTime                                   106670 non-null int64\n",
      "AppointmentDate_day                            106670 non-null int64\n",
      "AppointmentDate_month                          106670 non-null int64\n",
      "Neighbourhood (AEROPORTO)                      106670 non-null int64\n",
      "Neighbourhood (ANDORINHAS)                     106670 non-null int64\n",
      "Neighbourhood (ANTÔNIO HONÓRIO)                106670 non-null int64\n",
      "Neighbourhood (ARIOVALDO FAVALESSA)            106670 non-null int64\n",
      "Neighbourhood (BARRO VERMELHO)                 106670 non-null int64\n",
      "Neighbourhood (BELA VISTA)                     106670 non-null int64\n",
      "Neighbourhood (BENTO FERREIRA)                 106670 non-null int64\n",
      "Neighbourhood (BOA VISTA)                      106670 non-null int64\n",
      "Neighbourhood (BONFIM)                         106670 non-null int64\n",
      "Neighbourhood (CARATOÍRA)                      106670 non-null int64\n",
      "Neighbourhood (CENTRO)                         106670 non-null int64\n",
      "Neighbourhood (COMDUSA)                        106670 non-null int64\n",
      "Neighbourhood (CONQUISTA)                      106670 non-null int64\n",
      "Neighbourhood (CONSOLAÇÃO)                     106670 non-null int64\n",
      "Neighbourhood (CRUZAMENTO)                     106670 non-null int64\n",
      "Neighbourhood (DA PENHA)                       106670 non-null int64\n",
      "Neighbourhood (DE LOURDES)                     106670 non-null int64\n",
      "Neighbourhood (DO CABRAL)                      106670 non-null int64\n",
      "Neighbourhood (DO MOSCOSO)                     106670 non-null int64\n",
      "Neighbourhood (DO QUADRO)                      106670 non-null int64\n",
      "Neighbourhood (ENSEADA DO SUÁ)                 106670 non-null int64\n",
      "Neighbourhood (ESTRELINHA)                     106670 non-null int64\n",
      "Neighbourhood (FONTE GRANDE)                   106670 non-null int64\n",
      "Neighbourhood (FORTE SÃO JOÃO)                 106670 non-null int64\n",
      "Neighbourhood (FRADINHOS)                      106670 non-null int64\n",
      "Neighbourhood (GOIABEIRAS)                     106670 non-null int64\n",
      "Neighbourhood (GRANDE VITÓRIA)                 106670 non-null int64\n",
      "Neighbourhood (GURIGICA)                       106670 non-null int64\n",
      "Neighbourhood (HORTO)                          106670 non-null int64\n",
      "Neighbourhood (ILHA DAS CAIEIRAS)              106670 non-null int64\n",
      "Neighbourhood (ILHA DE SANTA MARIA)            106670 non-null int64\n",
      "Neighbourhood (ILHA DO BOI)                    106670 non-null int64\n",
      "Neighbourhood (ILHA DO FRADE)                  106670 non-null int64\n",
      "Neighbourhood (ILHA DO PRÍNCIPE)               106670 non-null int64\n",
      "Neighbourhood (ILHAS OCEÂNICAS DE TRINDADE)    106670 non-null int64\n",
      "Neighbourhood (INHANGUETÁ)                     106670 non-null int64\n",
      "Neighbourhood (ITARARÉ)                        106670 non-null int64\n",
      "Neighbourhood (JABOUR)                         106670 non-null int64\n",
      "Neighbourhood (JARDIM CAMBURI)                 106670 non-null int64\n",
      "Neighbourhood (JARDIM DA PENHA)                106670 non-null int64\n",
      "Neighbourhood (JESUS DE NAZARETH)              106670 non-null int64\n",
      "Neighbourhood (JOANA D´ARC)                    106670 non-null int64\n",
      "Neighbourhood (JUCUTUQUARA)                    106670 non-null int64\n",
      "Neighbourhood (MARIA ORTIZ)                    106670 non-null int64\n",
      "Neighbourhood (MARUÍPE)                        106670 non-null int64\n",
      "Neighbourhood (MATA DA PRAIA)                  106670 non-null int64\n",
      "Neighbourhood (MONTE BELO)                     106670 non-null int64\n",
      "Neighbourhood (MORADA DE CAMBURI)              106670 non-null int64\n",
      "Neighbourhood (MÁRIO CYPRESTE)                 106670 non-null int64\n",
      "Neighbourhood (NAZARETH)                       106670 non-null int64\n",
      "Neighbourhood (NOVA PALESTINA)                 106670 non-null int64\n",
      "Neighbourhood (PARQUE INDUSTRIAL)              106670 non-null int64\n",
      "Neighbourhood (PARQUE MOSCOSO)                 106670 non-null int64\n",
      "Neighbourhood (PIEDADE)                        106670 non-null int64\n",
      "Neighbourhood (PONTAL DE CAMBURI)              106670 non-null int64\n",
      "Neighbourhood (PRAIA DO CANTO)                 106670 non-null int64\n",
      "Neighbourhood (PRAIA DO SUÁ)                   106670 non-null int64\n",
      "Neighbourhood (REDENÇÃO)                       106670 non-null int64\n",
      "Neighbourhood (REPÚBLICA)                      106670 non-null int64\n",
      "Neighbourhood (RESISTÊNCIA)                    106670 non-null int64\n",
      "Neighbourhood (ROMÃO)                          106670 non-null int64\n",
      "Neighbourhood (SANTA CECÍLIA)                  106670 non-null int64\n",
      "Neighbourhood (SANTA CLARA)                    106670 non-null int64\n",
      "Neighbourhood (SANTA HELENA)                   106670 non-null int64\n",
      "Neighbourhood (SANTA LUÍZA)                    106670 non-null int64\n",
      "Neighbourhood (SANTA LÚCIA)                    106670 non-null int64\n",
      "Neighbourhood (SANTA MARTHA)                   106670 non-null int64\n",
      "Neighbourhood (SANTA TEREZA)                   106670 non-null int64\n",
      "Neighbourhood (SANTO ANDRÉ)                    106670 non-null int64\n",
      "Neighbourhood (SANTO ANTÔNIO)                  106670 non-null int64\n",
      "Neighbourhood (SANTOS DUMONT)                  106670 non-null int64\n",
      "Neighbourhood (SANTOS REIS)                    106670 non-null int64\n",
      "Neighbourhood (SEGURANÇA DO LAR)               106670 non-null int64\n",
      "Neighbourhood (SOLON BORGES)                   106670 non-null int64\n",
      "Neighbourhood (SÃO BENEDITO)                   106670 non-null int64\n",
      "Neighbourhood (SÃO CRISTÓVÃO)                  106670 non-null int64\n",
      "Neighbourhood (SÃO JOSÉ)                       106670 non-null int64\n",
      "Neighbourhood (SÃO PEDRO)                      106670 non-null int64\n",
      "Neighbourhood (TABUAZEIRO)                     106670 non-null int64\n",
      "Neighbourhood (UNIVERSITÁRIO)                  106670 non-null int64\n",
      "Neighbourhood (VILA RUBIM)                     106670 non-null int64\n",
      "dtypes: int64(93)\n",
      "memory usage: 75.7 MB\n"
     ]
    }
   ],
   "source": [
    "from sklearn.preprocessing import LabelBinarizer\n",
    "\n",
    "encoder = LabelBinarizer()\n",
    "Neighbourhood_onehot = encoder.fit_transform(dataset['Neighbourhood'])\n",
    "# ----------------------------------\n",
    "\n",
    "for j, neighborhood in enumerate(encoder.classes_):\n",
    "    dataset['Neighbourhood ({})'.format(neighborhood)] = Neighbourhood_onehot[:, j]\n",
    "\n",
    "del dataset['Neighbourhood']\n",
    "dataset.info()"
   ]
  },
  {
   "cell_type": "markdown",
   "metadata": {},
   "source": [
    "### Statistics"
   ]
  },
  {
   "cell_type": "markdown",
   "metadata": {},
   "source": [
    "Now all columns are integer type.\n",
    "\n",
    "Check statictics for the rest of the columns."
   ]
  },
  {
   "cell_type": "code",
   "execution_count": 18,
   "metadata": {},
   "outputs": [
    {
     "data": {
      "text/html": [
       "<div>\n",
       "<style>\n",
       "    .dataframe thead tr:only-child th {\n",
       "        text-align: right;\n",
       "    }\n",
       "\n",
       "    .dataframe thead th {\n",
       "        text-align: left;\n",
       "    }\n",
       "\n",
       "    .dataframe tbody tr th {\n",
       "        vertical-align: top;\n",
       "    }\n",
       "</style>\n",
       "<table border=\"1\" class=\"dataframe\">\n",
       "  <thead>\n",
       "    <tr style=\"text-align: right;\">\n",
       "      <th></th>\n",
       "      <th>Gender</th>\n",
       "      <th>Age</th>\n",
       "      <th>Scholarship</th>\n",
       "      <th>Hipertension</th>\n",
       "      <th>Diabetes</th>\n",
       "      <th>Alcoholism</th>\n",
       "      <th>Handcap</th>\n",
       "      <th>SMS_received</th>\n",
       "      <th>No-show</th>\n",
       "      <th>AwaitingTime</th>\n",
       "      <th>AppointmentDate_day</th>\n",
       "      <th>AppointmentDate_month</th>\n",
       "    </tr>\n",
       "  </thead>\n",
       "  <tbody>\n",
       "    <tr>\n",
       "      <th>count</th>\n",
       "      <td>106670.000000</td>\n",
       "      <td>106670.000000</td>\n",
       "      <td>106670.000000</td>\n",
       "      <td>106670.000000</td>\n",
       "      <td>106670.000000</td>\n",
       "      <td>106670.000000</td>\n",
       "      <td>106670.000000</td>\n",
       "      <td>106670.000000</td>\n",
       "      <td>106670.000000</td>\n",
       "      <td>106670.000000</td>\n",
       "      <td>106670.000000</td>\n",
       "      <td>106670.000000</td>\n",
       "    </tr>\n",
       "    <tr>\n",
       "      <th>mean</th>\n",
       "      <td>0.344839</td>\n",
       "      <td>38.248317</td>\n",
       "      <td>0.101191</td>\n",
       "      <td>0.203019</td>\n",
       "      <td>0.074088</td>\n",
       "      <td>0.031452</td>\n",
       "      <td>0.022874</td>\n",
       "      <td>0.322162</td>\n",
       "      <td>0.202447</td>\n",
       "      <td>8.867067</td>\n",
       "      <td>12.469195</td>\n",
       "      <td>5.211278</td>\n",
       "    </tr>\n",
       "    <tr>\n",
       "      <th>std</th>\n",
       "      <td>0.475318</td>\n",
       "      <td>22.428750</td>\n",
       "      <td>0.301582</td>\n",
       "      <td>0.402248</td>\n",
       "      <td>0.261916</td>\n",
       "      <td>0.174537</td>\n",
       "      <td>0.163863</td>\n",
       "      <td>0.467307</td>\n",
       "      <td>0.401825</td>\n",
       "      <td>14.165951</td>\n",
       "      <td>9.046689</td>\n",
       "      <td>0.473975</td>\n",
       "    </tr>\n",
       "    <tr>\n",
       "      <th>min</th>\n",
       "      <td>0.000000</td>\n",
       "      <td>1.000000</td>\n",
       "      <td>0.000000</td>\n",
       "      <td>0.000000</td>\n",
       "      <td>0.000000</td>\n",
       "      <td>0.000000</td>\n",
       "      <td>0.000000</td>\n",
       "      <td>0.000000</td>\n",
       "      <td>0.000000</td>\n",
       "      <td>-7.000000</td>\n",
       "      <td>1.000000</td>\n",
       "      <td>4.000000</td>\n",
       "    </tr>\n",
       "    <tr>\n",
       "      <th>25%</th>\n",
       "      <td>0.000000</td>\n",
       "      <td>19.000000</td>\n",
       "      <td>0.000000</td>\n",
       "      <td>0.000000</td>\n",
       "      <td>0.000000</td>\n",
       "      <td>0.000000</td>\n",
       "      <td>0.000000</td>\n",
       "      <td>0.000000</td>\n",
       "      <td>0.000000</td>\n",
       "      <td>-1.000000</td>\n",
       "      <td>5.000000</td>\n",
       "      <td>5.000000</td>\n",
       "    </tr>\n",
       "    <tr>\n",
       "      <th>50%</th>\n",
       "      <td>0.000000</td>\n",
       "      <td>38.000000</td>\n",
       "      <td>0.000000</td>\n",
       "      <td>0.000000</td>\n",
       "      <td>0.000000</td>\n",
       "      <td>0.000000</td>\n",
       "      <td>0.000000</td>\n",
       "      <td>0.000000</td>\n",
       "      <td>0.000000</td>\n",
       "      <td>3.000000</td>\n",
       "      <td>10.000000</td>\n",
       "      <td>5.000000</td>\n",
       "    </tr>\n",
       "    <tr>\n",
       "      <th>75%</th>\n",
       "      <td>1.000000</td>\n",
       "      <td>56.000000</td>\n",
       "      <td>0.000000</td>\n",
       "      <td>0.000000</td>\n",
       "      <td>0.000000</td>\n",
       "      <td>0.000000</td>\n",
       "      <td>0.000000</td>\n",
       "      <td>1.000000</td>\n",
       "      <td>0.000000</td>\n",
       "      <td>13.000000</td>\n",
       "      <td>19.000000</td>\n",
       "      <td>5.000000</td>\n",
       "    </tr>\n",
       "    <tr>\n",
       "      <th>max</th>\n",
       "      <td>1.000000</td>\n",
       "      <td>115.000000</td>\n",
       "      <td>1.000000</td>\n",
       "      <td>1.000000</td>\n",
       "      <td>1.000000</td>\n",
       "      <td>1.000000</td>\n",
       "      <td>4.000000</td>\n",
       "      <td>1.000000</td>\n",
       "      <td>1.000000</td>\n",
       "      <td>85.000000</td>\n",
       "      <td>31.000000</td>\n",
       "      <td>6.000000</td>\n",
       "    </tr>\n",
       "  </tbody>\n",
       "</table>\n",
       "</div>"
      ],
      "text/plain": [
       "              Gender            Age    Scholarship   Hipertension  \\\n",
       "count  106670.000000  106670.000000  106670.000000  106670.000000   \n",
       "mean        0.344839      38.248317       0.101191       0.203019   \n",
       "std         0.475318      22.428750       0.301582       0.402248   \n",
       "min         0.000000       1.000000       0.000000       0.000000   \n",
       "25%         0.000000      19.000000       0.000000       0.000000   \n",
       "50%         0.000000      38.000000       0.000000       0.000000   \n",
       "75%         1.000000      56.000000       0.000000       0.000000   \n",
       "max         1.000000     115.000000       1.000000       1.000000   \n",
       "\n",
       "            Diabetes     Alcoholism        Handcap   SMS_received  \\\n",
       "count  106670.000000  106670.000000  106670.000000  106670.000000   \n",
       "mean        0.074088       0.031452       0.022874       0.322162   \n",
       "std         0.261916       0.174537       0.163863       0.467307   \n",
       "min         0.000000       0.000000       0.000000       0.000000   \n",
       "25%         0.000000       0.000000       0.000000       0.000000   \n",
       "50%         0.000000       0.000000       0.000000       0.000000   \n",
       "75%         0.000000       0.000000       0.000000       1.000000   \n",
       "max         1.000000       1.000000       4.000000       1.000000   \n",
       "\n",
       "             No-show   AwaitingTime  AppointmentDate_day  \\\n",
       "count  106670.000000  106670.000000        106670.000000   \n",
       "mean        0.202447       8.867067            12.469195   \n",
       "std         0.401825      14.165951             9.046689   \n",
       "min         0.000000      -7.000000             1.000000   \n",
       "25%         0.000000      -1.000000             5.000000   \n",
       "50%         0.000000       3.000000            10.000000   \n",
       "75%         0.000000      13.000000            19.000000   \n",
       "max         1.000000      85.000000            31.000000   \n",
       "\n",
       "       AppointmentDate_month  \n",
       "count          106670.000000  \n",
       "mean                5.211278  \n",
       "std                 0.473975  \n",
       "min                 4.000000  \n",
       "25%                 5.000000  \n",
       "50%                 5.000000  \n",
       "75%                 5.000000  \n",
       "max                 6.000000  "
      ]
     },
     "execution_count": 18,
     "metadata": {},
     "output_type": "execute_result"
    }
   ],
   "source": [
    "dataset.loc[:, [column_name for column_name in dataset.columns\n",
    "    if not column_name.startswith('Neighbourhood')]].describe()"
   ]
  },
  {
   "cell_type": "markdown",
   "metadata": {},
   "source": [
    "Check class balance.\n",
    "\n",
    "This dataset is used to potentially predict **No-show** from various factors recorded.\n",
    "Since no-shows should usually be the minority cases, it's very likely that this dataset is imbalanced.\n",
    "\n",
    "We want to understand how balanced it is between number of positive and negative samples quantitatively.  \n",
    "So we find out the ratio of no-shows among the entire dataset."
   ]
  },
  {
   "cell_type": "code",
   "execution_count": 19,
   "metadata": {},
   "outputs": [
    {
     "name": "stdout",
     "output_type": "stream",
     "text": [
      "0    0\n",
      "1    0\n",
      "2    0\n",
      "3    0\n",
      "4    0\n",
      "Name: No-show, dtype: int64\n"
     ]
    }
   ],
   "source": [
    "print(dataset['No-show'].head())\n"
   ]
  },
  {
   "cell_type": "code",
   "execution_count": 20,
   "metadata": {},
   "outputs": [
    {
     "name": "stdout",
     "output_type": "stream",
     "text": [
      "noshow ratio: 21595 / 106670 = 0.202446798538\n"
     ]
    }
   ],
   "source": [
    "num_noshow = np.sum(dataset['No-show']==1) # find out total number of no-show cases\n",
    "print('noshow ratio:', num_noshow, '/', len(dataset), '=', num_noshow / len(dataset))"
   ]
  },
  {
   "cell_type": "markdown",
   "metadata": {},
   "source": [
    "For the sake of fairness, we will resample no-show cases to rebalance the dataset.\n",
    "\n",
    "First, we calculate this upsample rate that would make positive and negative samples appear 50/50,\n",
    "when multiplied to number of no-show cases."
   ]
  },
  {
   "cell_type": "code",
   "execution_count": 21,
   "metadata": {},
   "outputs": [
    {
     "name": "stdout",
     "output_type": "stream",
     "text": [
      "upsample_rate: 3.93956934476\n"
     ]
    }
   ],
   "source": [
    "upsample_rate = (len(dataset) - num_noshow) / num_noshow\n",
    "print('upsample_rate:', upsample_rate)"
   ]
  },
  {
   "cell_type": "markdown",
   "metadata": {},
   "source": [
    "Verify this upsample rate by definition."
   ]
  },
  {
   "cell_type": "code",
   "execution_count": 22,
   "metadata": {},
   "outputs": [
    {
     "name": "stdout",
     "output_type": "stream",
     "text": [
      "85075 85075\n"
     ]
    }
   ],
   "source": [
    "print(int(num_noshow * upsample_rate), len(dataset) - num_noshow)"
   ]
  },
  {
   "cell_type": "markdown",
   "metadata": {},
   "source": [
    "Now we resample dataset. Please upsample these no-show cases then concatenate with original \"show-up\" cases and\n",
    "and create a new dataset **dataset_resampled**."
   ]
  },
  {
   "cell_type": "code",
   "execution_count": 23,
   "metadata": {
    "collapsed": true
   },
   "outputs": [],
   "source": [
    "dataset_resampled = pd.concat([\n",
    "    dataset[dataset['No-show'] == 1].sample(frac=upsample_rate, replace=True).reset_index(drop=True),\n",
    "    dataset[dataset['No-show'] == 0]])\n"
   ]
  },
  {
   "cell_type": "markdown",
   "metadata": {},
   "source": [
    "Shuffle **dataset_resampled**."
   ]
  },
  {
   "cell_type": "code",
   "execution_count": 24,
   "metadata": {
    "collapsed": true
   },
   "outputs": [],
   "source": [
    "from sklearn.utils import shuffle\n",
    "dataset_resampled = shuffle(dataset_resampled)"
   ]
  },
  {
   "cell_type": "markdown",
   "metadata": {},
   "source": [
    "Verify no-show ratio again."
   ]
  },
  {
   "cell_type": "code",
   "execution_count": 25,
   "metadata": {},
   "outputs": [
    {
     "name": "stdout",
     "output_type": "stream",
     "text": [
      "noshow ratio: 0.5\n"
     ]
    }
   ],
   "source": [
    "print('noshow ratio:', np.sum(dataset_resampled['No-show'] == 1) / len(dataset_resampled))"
   ]
  },
  {
   "cell_type": "markdown",
   "metadata": {},
   "source": [
    "To avoid mixing up **dataset** and **dataset_resampled**,\n",
    "we replace **dataset** and delete **dataset_resampled**."
   ]
  },
  {
   "cell_type": "code",
   "execution_count": 26,
   "metadata": {
    "collapsed": true
   },
   "outputs": [],
   "source": [
    "dataset = dataset_resampled\n",
    "del dataset_resampled"
   ]
  },
  {
   "cell_type": "markdown",
   "metadata": {},
   "source": [
    "Next thing, you may realize that we got a lot of columns just for neighborhood.\n",
    "Number of these columns are way higher than other features combined.\n",
    "Since we have already made an decision to encode them with one-hot encoding arbitrary,\n",
    "why not use PCA on these columns and see if we could compress them down."
   ]
  },
  {
   "cell_type": "code",
   "execution_count": 27,
   "metadata": {
    "collapsed": true
   },
   "outputs": [],
   "source": [
    "from sklearn.decomposition import PCA, FactorAnalysis\n",
    "from sklearn.preprocessing import scale, LabelEncoder, OneHotEncoder, LabelBinarizer\n",
    "from sklearn.feature_selection import SelectKBest, chi2, f_classif, mutual_info_classif"
   ]
  },
  {
   "cell_type": "markdown",
   "metadata": {},
   "source": [
    "Select all Neighbourhood columns."
   ]
  },
  {
   "cell_type": "code",
   "execution_count": 28,
   "metadata": {},
   "outputs": [
    {
     "data": {
      "text/plain": [
       "(170150, 81)"
      ]
     },
     "execution_count": 28,
     "metadata": {},
     "output_type": "execute_result"
    }
   ],
   "source": [
    "X_neighbors = np.array(dataset.loc[:, [column_name for column_name in dataset\n",
    "    if column_name.startswith('Neighbourhood')]])\n",
    "X_neighbors.shape"
   ]
  },
  {
   "cell_type": "markdown",
   "metadata": {},
   "source": [
    "Apply PCA to **X_neighbors** with 60 pincipal components to create **X_neighbors_PCA**."
   ]
  },
  {
   "cell_type": "code",
   "execution_count": 29,
   "metadata": {},
   "outputs": [
    {
     "name": "stdout",
     "output_type": "stream",
     "text": [
      "[[0 0 0 0 0 0 0 0 0 0 0 0 0 0 0 0 0 0 0 0 0 0 0 0 0 0 0 0 0 0 0 0 0 0 0 0 0\n",
      "  1 0 0 0 0 0 0 0 0 0 0 0 0 0 0 0 0 0 0 0 0 0 0 0 0 0 0 0 0 0 0 0 0 0 0 0 0\n",
      "  0 0 0 0 0 0 0]\n",
      " [0 0 0 0 0 0 0 0 0 0 0 0 0 0 0 0 0 0 0 0 0 0 0 0 0 1 0 0 0 0 0 0 0 0 0 0 0\n",
      "  0 0 0 0 0 0 0 0 0 0 0 0 0 0 0 0 0 0 0 0 0 0 0 0 0 0 0 0 0 0 0 0 0 0 0 0 0\n",
      "  0 0 0 0 0 0 0]\n",
      " [0 0 0 0 0 0 0 0 0 0 0 0 0 0 0 0 0 0 0 0 0 0 0 0 0 0 0 0 0 0 0 0 0 0 0 0 0\n",
      "  0 0 0 0 0 0 0 0 0 0 0 0 0 0 0 0 0 0 0 0 0 0 1 0 0 0 0 0 0 0 0 0 0 0 0 0 0\n",
      "  0 0 0 0 0 0 0]]\n"
     ]
    }
   ],
   "source": [
    "print(X_neighbors[0:3])"
   ]
  },
  {
   "cell_type": "code",
   "execution_count": 30,
   "metadata": {},
   "outputs": [
    {
     "name": "stdout",
     "output_type": "stream",
     "text": [
      "81\n"
     ]
    }
   ],
   "source": [
    "print(X_neighbors.shape[1])"
   ]
  },
  {
   "cell_type": "code",
   "execution_count": 31,
   "metadata": {
    "collapsed": true
   },
   "outputs": [],
   "source": [
    "from sklearn.decomposition import PCA\n",
    "\n",
    "pca = PCA(n_components = 60)\n",
    "X_PCA = pca.fit_transform(X_neighbors)\n",
    "\n",
    "for j in range(X_PCA.shape[1]):\n",
    "        dataset['PCA{}'.format(j)] = X_PCA[:, j]\n"
   ]
  },
  {
   "cell_type": "markdown",
   "metadata": {},
   "source": [
    "Check combined variance explained ratio to make sure it doesn't drop too significantly."
   ]
  },
  {
   "cell_type": "code",
   "execution_count": 32,
   "metadata": {},
   "outputs": [
    {
     "data": {
      "text/plain": [
       "0.96910368879762232"
      ]
     },
     "execution_count": 32,
     "metadata": {},
     "output_type": "execute_result"
    }
   ],
   "source": [
    "np.sum(pca.explained_variance_ratio_)"
   ]
  },
  {
   "cell_type": "code",
   "execution_count": 33,
   "metadata": {},
   "outputs": [
    {
     "data": {
      "text/html": [
       "<div>\n",
       "<style>\n",
       "    .dataframe thead tr:only-child th {\n",
       "        text-align: right;\n",
       "    }\n",
       "\n",
       "    .dataframe thead th {\n",
       "        text-align: left;\n",
       "    }\n",
       "\n",
       "    .dataframe tbody tr th {\n",
       "        vertical-align: top;\n",
       "    }\n",
       "</style>\n",
       "<table border=\"1\" class=\"dataframe\">\n",
       "  <thead>\n",
       "    <tr style=\"text-align: right;\">\n",
       "      <th></th>\n",
       "      <th>Gender</th>\n",
       "      <th>Age</th>\n",
       "      <th>Scholarship</th>\n",
       "      <th>Hipertension</th>\n",
       "      <th>Diabetes</th>\n",
       "      <th>Alcoholism</th>\n",
       "      <th>Handcap</th>\n",
       "      <th>SMS_received</th>\n",
       "      <th>No-show</th>\n",
       "      <th>AwaitingTime</th>\n",
       "      <th>...</th>\n",
       "      <th>PCA50</th>\n",
       "      <th>PCA51</th>\n",
       "      <th>PCA52</th>\n",
       "      <th>PCA53</th>\n",
       "      <th>PCA54</th>\n",
       "      <th>PCA55</th>\n",
       "      <th>PCA56</th>\n",
       "      <th>PCA57</th>\n",
       "      <th>PCA58</th>\n",
       "      <th>PCA59</th>\n",
       "    </tr>\n",
       "  </thead>\n",
       "  <tbody>\n",
       "    <tr>\n",
       "      <th>48402</th>\n",
       "      <td>0</td>\n",
       "      <td>34</td>\n",
       "      <td>0</td>\n",
       "      <td>0</td>\n",
       "      <td>0</td>\n",
       "      <td>0</td>\n",
       "      <td>0</td>\n",
       "      <td>0</td>\n",
       "      <td>0</td>\n",
       "      <td>-1</td>\n",
       "      <td>...</td>\n",
       "      <td>-0.005671</td>\n",
       "      <td>-0.002042</td>\n",
       "      <td>-0.000552</td>\n",
       "      <td>-0.005107</td>\n",
       "      <td>-0.001731</td>\n",
       "      <td>-0.002332</td>\n",
       "      <td>0.000938</td>\n",
       "      <td>-0.000337</td>\n",
       "      <td>-0.001324</td>\n",
       "      <td>-0.000254</td>\n",
       "    </tr>\n",
       "    <tr>\n",
       "      <th>60410</th>\n",
       "      <td>0</td>\n",
       "      <td>15</td>\n",
       "      <td>0</td>\n",
       "      <td>0</td>\n",
       "      <td>0</td>\n",
       "      <td>0</td>\n",
       "      <td>0</td>\n",
       "      <td>0</td>\n",
       "      <td>1</td>\n",
       "      <td>-1</td>\n",
       "      <td>...</td>\n",
       "      <td>-0.067004</td>\n",
       "      <td>-0.021514</td>\n",
       "      <td>-0.005704</td>\n",
       "      <td>-0.040514</td>\n",
       "      <td>-0.012871</td>\n",
       "      <td>-0.016636</td>\n",
       "      <td>0.006431</td>\n",
       "      <td>-0.002293</td>\n",
       "      <td>-0.008709</td>\n",
       "      <td>-0.001638</td>\n",
       "    </tr>\n",
       "    <tr>\n",
       "      <th>72975</th>\n",
       "      <td>1</td>\n",
       "      <td>2</td>\n",
       "      <td>0</td>\n",
       "      <td>0</td>\n",
       "      <td>0</td>\n",
       "      <td>0</td>\n",
       "      <td>0</td>\n",
       "      <td>0</td>\n",
       "      <td>0</td>\n",
       "      <td>-1</td>\n",
       "      <td>...</td>\n",
       "      <td>-0.002701</td>\n",
       "      <td>-0.000979</td>\n",
       "      <td>-0.000265</td>\n",
       "      <td>-0.002492</td>\n",
       "      <td>-0.000849</td>\n",
       "      <td>-0.001147</td>\n",
       "      <td>0.000463</td>\n",
       "      <td>-0.000166</td>\n",
       "      <td>-0.000656</td>\n",
       "      <td>-0.000126</td>\n",
       "    </tr>\n",
       "    <tr>\n",
       "      <th>67428</th>\n",
       "      <td>0</td>\n",
       "      <td>9</td>\n",
       "      <td>0</td>\n",
       "      <td>0</td>\n",
       "      <td>0</td>\n",
       "      <td>0</td>\n",
       "      <td>0</td>\n",
       "      <td>0</td>\n",
       "      <td>1</td>\n",
       "      <td>0</td>\n",
       "      <td>...</td>\n",
       "      <td>-0.005625</td>\n",
       "      <td>-0.002026</td>\n",
       "      <td>-0.000548</td>\n",
       "      <td>-0.005067</td>\n",
       "      <td>-0.001718</td>\n",
       "      <td>-0.002315</td>\n",
       "      <td>0.000931</td>\n",
       "      <td>-0.000334</td>\n",
       "      <td>-0.001315</td>\n",
       "      <td>-0.000252</td>\n",
       "    </tr>\n",
       "    <tr>\n",
       "      <th>48783</th>\n",
       "      <td>0</td>\n",
       "      <td>68</td>\n",
       "      <td>0</td>\n",
       "      <td>1</td>\n",
       "      <td>1</td>\n",
       "      <td>0</td>\n",
       "      <td>0</td>\n",
       "      <td>0</td>\n",
       "      <td>0</td>\n",
       "      <td>-1</td>\n",
       "      <td>...</td>\n",
       "      <td>-0.011621</td>\n",
       "      <td>-0.004135</td>\n",
       "      <td>-0.001116</td>\n",
       "      <td>-0.009990</td>\n",
       "      <td>-0.003355</td>\n",
       "      <td>-0.004494</td>\n",
       "      <td>0.001795</td>\n",
       "      <td>-0.000644</td>\n",
       "      <td>-0.002519</td>\n",
       "      <td>-0.000481</td>\n",
       "    </tr>\n",
       "  </tbody>\n",
       "</table>\n",
       "<p>5 rows × 153 columns</p>\n",
       "</div>"
      ],
      "text/plain": [
       "       Gender  Age  Scholarship  Hipertension  Diabetes  Alcoholism  Handcap  \\\n",
       "48402       0   34            0             0         0           0        0   \n",
       "60410       0   15            0             0         0           0        0   \n",
       "72975       1    2            0             0         0           0        0   \n",
       "67428       0    9            0             0         0           0        0   \n",
       "48783       0   68            0             1         1           0        0   \n",
       "\n",
       "       SMS_received  No-show  AwaitingTime    ...        PCA50     PCA51  \\\n",
       "48402             0        0            -1    ...    -0.005671 -0.002042   \n",
       "60410             0        1            -1    ...    -0.067004 -0.021514   \n",
       "72975             0        0            -1    ...    -0.002701 -0.000979   \n",
       "67428             0        1             0    ...    -0.005625 -0.002026   \n",
       "48783             0        0            -1    ...    -0.011621 -0.004135   \n",
       "\n",
       "          PCA52     PCA53     PCA54     PCA55     PCA56     PCA57     PCA58  \\\n",
       "48402 -0.000552 -0.005107 -0.001731 -0.002332  0.000938 -0.000337 -0.001324   \n",
       "60410 -0.005704 -0.040514 -0.012871 -0.016636  0.006431 -0.002293 -0.008709   \n",
       "72975 -0.000265 -0.002492 -0.000849 -0.001147  0.000463 -0.000166 -0.000656   \n",
       "67428 -0.000548 -0.005067 -0.001718 -0.002315  0.000931 -0.000334 -0.001315   \n",
       "48783 -0.001116 -0.009990 -0.003355 -0.004494  0.001795 -0.000644 -0.002519   \n",
       "\n",
       "          PCA59  \n",
       "48402 -0.000254  \n",
       "60410 -0.001638  \n",
       "72975 -0.000126  \n",
       "67428 -0.000252  \n",
       "48783 -0.000481  \n",
       "\n",
       "[5 rows x 153 columns]"
      ]
     },
     "execution_count": 33,
     "metadata": {},
     "output_type": "execute_result"
    }
   ],
   "source": [
    "dataset.head()"
   ]
  },
  {
   "cell_type": "markdown",
   "metadata": {},
   "source": [
    "Now we need to delete or remove all Neighbourhood columns because we are going to replace them all with their principal components."
   ]
  },
  {
   "cell_type": "code",
   "execution_count": 34,
   "metadata": {},
   "outputs": [
    {
     "data": {
      "text/html": [
       "<div>\n",
       "<style>\n",
       "    .dataframe thead tr:only-child th {\n",
       "        text-align: right;\n",
       "    }\n",
       "\n",
       "    .dataframe thead th {\n",
       "        text-align: left;\n",
       "    }\n",
       "\n",
       "    .dataframe tbody tr th {\n",
       "        vertical-align: top;\n",
       "    }\n",
       "</style>\n",
       "<table border=\"1\" class=\"dataframe\">\n",
       "  <thead>\n",
       "    <tr style=\"text-align: right;\">\n",
       "      <th></th>\n",
       "      <th>Gender</th>\n",
       "      <th>Age</th>\n",
       "      <th>Scholarship</th>\n",
       "      <th>Hipertension</th>\n",
       "      <th>Diabetes</th>\n",
       "      <th>Alcoholism</th>\n",
       "      <th>Handcap</th>\n",
       "      <th>SMS_received</th>\n",
       "      <th>No-show</th>\n",
       "      <th>AwaitingTime</th>\n",
       "      <th>...</th>\n",
       "      <th>PCA50</th>\n",
       "      <th>PCA51</th>\n",
       "      <th>PCA52</th>\n",
       "      <th>PCA53</th>\n",
       "      <th>PCA54</th>\n",
       "      <th>PCA55</th>\n",
       "      <th>PCA56</th>\n",
       "      <th>PCA57</th>\n",
       "      <th>PCA58</th>\n",
       "      <th>PCA59</th>\n",
       "    </tr>\n",
       "  </thead>\n",
       "  <tbody>\n",
       "    <tr>\n",
       "      <th>48402</th>\n",
       "      <td>0</td>\n",
       "      <td>34</td>\n",
       "      <td>0</td>\n",
       "      <td>0</td>\n",
       "      <td>0</td>\n",
       "      <td>0</td>\n",
       "      <td>0</td>\n",
       "      <td>0</td>\n",
       "      <td>0</td>\n",
       "      <td>-1</td>\n",
       "      <td>...</td>\n",
       "      <td>-0.005671</td>\n",
       "      <td>-0.002042</td>\n",
       "      <td>-0.000552</td>\n",
       "      <td>-0.005107</td>\n",
       "      <td>-0.001731</td>\n",
       "      <td>-0.002332</td>\n",
       "      <td>0.000938</td>\n",
       "      <td>-0.000337</td>\n",
       "      <td>-0.001324</td>\n",
       "      <td>-0.000254</td>\n",
       "    </tr>\n",
       "    <tr>\n",
       "      <th>60410</th>\n",
       "      <td>0</td>\n",
       "      <td>15</td>\n",
       "      <td>0</td>\n",
       "      <td>0</td>\n",
       "      <td>0</td>\n",
       "      <td>0</td>\n",
       "      <td>0</td>\n",
       "      <td>0</td>\n",
       "      <td>1</td>\n",
       "      <td>-1</td>\n",
       "      <td>...</td>\n",
       "      <td>-0.067004</td>\n",
       "      <td>-0.021514</td>\n",
       "      <td>-0.005704</td>\n",
       "      <td>-0.040514</td>\n",
       "      <td>-0.012871</td>\n",
       "      <td>-0.016636</td>\n",
       "      <td>0.006431</td>\n",
       "      <td>-0.002293</td>\n",
       "      <td>-0.008709</td>\n",
       "      <td>-0.001638</td>\n",
       "    </tr>\n",
       "    <tr>\n",
       "      <th>72975</th>\n",
       "      <td>1</td>\n",
       "      <td>2</td>\n",
       "      <td>0</td>\n",
       "      <td>0</td>\n",
       "      <td>0</td>\n",
       "      <td>0</td>\n",
       "      <td>0</td>\n",
       "      <td>0</td>\n",
       "      <td>0</td>\n",
       "      <td>-1</td>\n",
       "      <td>...</td>\n",
       "      <td>-0.002701</td>\n",
       "      <td>-0.000979</td>\n",
       "      <td>-0.000265</td>\n",
       "      <td>-0.002492</td>\n",
       "      <td>-0.000849</td>\n",
       "      <td>-0.001147</td>\n",
       "      <td>0.000463</td>\n",
       "      <td>-0.000166</td>\n",
       "      <td>-0.000656</td>\n",
       "      <td>-0.000126</td>\n",
       "    </tr>\n",
       "    <tr>\n",
       "      <th>67428</th>\n",
       "      <td>0</td>\n",
       "      <td>9</td>\n",
       "      <td>0</td>\n",
       "      <td>0</td>\n",
       "      <td>0</td>\n",
       "      <td>0</td>\n",
       "      <td>0</td>\n",
       "      <td>0</td>\n",
       "      <td>1</td>\n",
       "      <td>0</td>\n",
       "      <td>...</td>\n",
       "      <td>-0.005625</td>\n",
       "      <td>-0.002026</td>\n",
       "      <td>-0.000548</td>\n",
       "      <td>-0.005067</td>\n",
       "      <td>-0.001718</td>\n",
       "      <td>-0.002315</td>\n",
       "      <td>0.000931</td>\n",
       "      <td>-0.000334</td>\n",
       "      <td>-0.001315</td>\n",
       "      <td>-0.000252</td>\n",
       "    </tr>\n",
       "    <tr>\n",
       "      <th>48783</th>\n",
       "      <td>0</td>\n",
       "      <td>68</td>\n",
       "      <td>0</td>\n",
       "      <td>1</td>\n",
       "      <td>1</td>\n",
       "      <td>0</td>\n",
       "      <td>0</td>\n",
       "      <td>0</td>\n",
       "      <td>0</td>\n",
       "      <td>-1</td>\n",
       "      <td>...</td>\n",
       "      <td>-0.011621</td>\n",
       "      <td>-0.004135</td>\n",
       "      <td>-0.001116</td>\n",
       "      <td>-0.009990</td>\n",
       "      <td>-0.003355</td>\n",
       "      <td>-0.004494</td>\n",
       "      <td>0.001795</td>\n",
       "      <td>-0.000644</td>\n",
       "      <td>-0.002519</td>\n",
       "      <td>-0.000481</td>\n",
       "    </tr>\n",
       "  </tbody>\n",
       "</table>\n",
       "<p>5 rows × 72 columns</p>\n",
       "</div>"
      ],
      "text/plain": [
       "       Gender  Age  Scholarship  Hipertension  Diabetes  Alcoholism  Handcap  \\\n",
       "48402       0   34            0             0         0           0        0   \n",
       "60410       0   15            0             0         0           0        0   \n",
       "72975       1    2            0             0         0           0        0   \n",
       "67428       0    9            0             0         0           0        0   \n",
       "48783       0   68            0             1         1           0        0   \n",
       "\n",
       "       SMS_received  No-show  AwaitingTime    ...        PCA50     PCA51  \\\n",
       "48402             0        0            -1    ...    -0.005671 -0.002042   \n",
       "60410             0        1            -1    ...    -0.067004 -0.021514   \n",
       "72975             0        0            -1    ...    -0.002701 -0.000979   \n",
       "67428             0        1             0    ...    -0.005625 -0.002026   \n",
       "48783             0        0            -1    ...    -0.011621 -0.004135   \n",
       "\n",
       "          PCA52     PCA53     PCA54     PCA55     PCA56     PCA57     PCA58  \\\n",
       "48402 -0.000552 -0.005107 -0.001731 -0.002332  0.000938 -0.000337 -0.001324   \n",
       "60410 -0.005704 -0.040514 -0.012871 -0.016636  0.006431 -0.002293 -0.008709   \n",
       "72975 -0.000265 -0.002492 -0.000849 -0.001147  0.000463 -0.000166 -0.000656   \n",
       "67428 -0.000548 -0.005067 -0.001718 -0.002315  0.000931 -0.000334 -0.001315   \n",
       "48783 -0.001116 -0.009990 -0.003355 -0.004494  0.001795 -0.000644 -0.002519   \n",
       "\n",
       "          PCA59  \n",
       "48402 -0.000254  \n",
       "60410 -0.001638  \n",
       "72975 -0.000126  \n",
       "67428 -0.000252  \n",
       "48783 -0.000481  \n",
       "\n",
       "[5 rows x 72 columns]"
      ]
     },
     "execution_count": 34,
     "metadata": {},
     "output_type": "execute_result"
    }
   ],
   "source": [
    "dataset = dataset.iloc[:, np.r_[0:12, 93:153]] # select columns of interest\n",
    "dataset.head()"
   ]
  },
  {
   "cell_type": "markdown",
   "metadata": {},
   "source": [
    "Attatch principal components of the original Neighbourhood columns onto the dataset."
   ]
  },
  {
   "cell_type": "code",
   "execution_count": 35,
   "metadata": {
    "collapsed": true
   },
   "outputs": [],
   "source": [
    "for j in range(X_PCA.shape[1]):\n",
    "    dataset['N{}'.format(j)] = X_PCA[:, j]"
   ]
  },
  {
   "cell_type": "markdown",
   "metadata": {},
   "source": [
    "Take a look at the dataset again."
   ]
  },
  {
   "cell_type": "code",
   "execution_count": 36,
   "metadata": {},
   "outputs": [
    {
     "data": {
      "text/plain": [
       "<bound method DataFrame.info of        Gender  Age  Scholarship  Hipertension  Diabetes  Alcoholism  Handcap  \\\n",
       "48402       0   34            0             0         0           0        0   \n",
       "60410       0   15            0             0         0           0        0   \n",
       "72975       1    2            0             0         0           0        0   \n",
       "67428       0    9            0             0         0           0        0   \n",
       "48783       0   68            0             1         1           0        0   \n",
       "22780       1   20            0             0         0           0        0   \n",
       "25354       0    5            0             0         0           0        0   \n",
       "74064       0    5            1             0         0           0        0   \n",
       "21524       1   39            0             0         0           0        0   \n",
       "4157        0   19            0             0         0           0        0   \n",
       "36518       1   39            0             1         0           0        0   \n",
       "20791       0   40            0             0         0           0        0   \n",
       "76985       0   18            0             0         0           0        0   \n",
       "55296       0   15            0             0         0           0        0   \n",
       "75443       1   30            0             0         0           0        0   \n",
       "65933       0   76            0             0         0           0        0   \n",
       "74940       0   52            0             1         0           0        0   \n",
       "52701       0   30            0             0         0           0        0   \n",
       "13314       1   82            0             1         1           0        0   \n",
       "95048       1   47            0             0         0           0        0   \n",
       "14658       0   66            0             1         0           0        0   \n",
       "27566       0   38            0             0         0           0        0   \n",
       "88941       0   28            1             0         0           0        0   \n",
       "22089       0   64            0             0         0           0        0   \n",
       "99892       0   62            0             0         0           0        0   \n",
       "67887       0   64            0             0         0           0        0   \n",
       "39907       1    4            0             0         0           0        0   \n",
       "77842       1   56            0             0         0           0        0   \n",
       "61746       0   20            0             0         0           0        0   \n",
       "1703        1   50            0             0         0           0        0   \n",
       "...       ...  ...          ...           ...       ...         ...      ...   \n",
       "20795       1   43            0             0         0           0        0   \n",
       "31412       0   11            0             0         0           0        0   \n",
       "24394       0   13            0             0         0           0        0   \n",
       "44946       1   56            0             1         0           0        0   \n",
       "37151       0   47            0             0         0           0        0   \n",
       "20443       0   28            0             0         0           0        0   \n",
       "37244       0   49            0             0         1           0        0   \n",
       "5802        0    4            0             0         0           0        0   \n",
       "95423       1   52            0             0         0           0        0   \n",
       "53201       0   34            0             0         0           0        0   \n",
       "3826        0   57            1             1         1           0        1   \n",
       "38932       1   39            0             0         0           0        0   \n",
       "69850       1    2            0             0         0           0        0   \n",
       "71881       0   45            0             0         0           0        0   \n",
       "36751       0   12            0             0         0           0        0   \n",
       "4785        0   69            0             0         0           0        0   \n",
       "42109       0   17            0             0         0           0        0   \n",
       "96862       1   38            0             0         0           0        0   \n",
       "9606        0   35            1             0         0           0        0   \n",
       "437         0   38            1             0         0           0        0   \n",
       "65858       1   59            0             1         1           0        0   \n",
       "56019       0   28            1             0         0           0        0   \n",
       "20160       1   62            0             1         1           0        0   \n",
       "52301       1    7            0             0         0           0        0   \n",
       "27309       0   53            0             0         0           0        0   \n",
       "75302       1   47            0             0         0           0        0   \n",
       "94391       0   23            0             0         0           0        0   \n",
       "59245       0   27            0             0         0           0        1   \n",
       "81230       1    9            0             0         0           0        0   \n",
       "25389       1   12            0             0         0           0        0   \n",
       "\n",
       "       SMS_received  No-show  AwaitingTime    ...          N50       N51  \\\n",
       "48402             0        0            -1    ...    -0.005671 -0.002042   \n",
       "60410             0        1            -1    ...    -0.067004 -0.021514   \n",
       "72975             0        0            -1    ...    -0.002701 -0.000979   \n",
       "67428             0        1             0    ...    -0.005625 -0.002026   \n",
       "48783             0        0            -1    ...    -0.011621 -0.004135   \n",
       "22780             0        0            -1    ...    -0.001487 -0.000540   \n",
       "25354             1        1            22    ...    -0.003085 -0.001117   \n",
       "74064             0        1             8    ...    -0.005367 -0.001934   \n",
       "21524             1        1            14    ...    -0.007002 -0.002515   \n",
       "4157              1        1             6    ...    -0.003085 -0.001117   \n",
       "36518             1        0             3    ...    -0.007002 -0.002515   \n",
       "20791             0        1             0    ...    -0.065411 -0.021133   \n",
       "76985             1        0            15    ...    -0.004648 -0.001677   \n",
       "55296             0        0            -1    ...    -0.002701 -0.000979   \n",
       "75443             0        0            21    ...    -0.004248 -0.001534   \n",
       "65933             0        1            17    ...    -0.004248 -0.001534   \n",
       "74940             0        0            -1    ...    -0.008191 -0.002935   \n",
       "52701             0        1            44    ...    -0.004248 -0.001534   \n",
       "13314             0        1             5    ...    -0.004946 -0.001784   \n",
       "95048             1        0            36    ...    -0.011472 -0.004085   \n",
       "14658             0        0            -1    ...    -0.006800 -0.002443   \n",
       "27566             0        0             2    ...    -0.001948 -0.000707   \n",
       "88941             0        0            -1    ...    -0.005931 -0.002135   \n",
       "22089             1        0            24    ...    -0.005671 -0.002042   \n",
       "99892             1        0            30    ...    -0.013246 -0.004698   \n",
       "67887             0        0            -1    ...    -0.001948 -0.000707   \n",
       "39907             1        0            27    ...    -0.013323 -0.004724   \n",
       "77842             0        1            -1    ...    -0.008328 -0.002983   \n",
       "61746             1        1            39    ...    -0.001948 -0.000707   \n",
       "1703              0        0            -1    ...    -0.005367 -0.001934   \n",
       "...             ...      ...           ...    ...          ...       ...   \n",
       "20795             0        0            -1    ...    -0.011472 -0.004085   \n",
       "31412             0        1             9    ...    -0.037268 -0.012673   \n",
       "24394             1        1             3    ...    -0.001948 -0.000707   \n",
       "44946             0        0            -1    ...    -0.011472 -0.004085   \n",
       "37151             1        0            41    ...    -0.011629 -0.004138   \n",
       "20443             0        0             3    ...    -0.006413 -0.002306   \n",
       "37244             0        0            13    ...    -0.002701 -0.000979   \n",
       "5802              0        1            26    ...    -0.003085 -0.001117   \n",
       "95423             0        0             6    ...     0.756381 -0.613375   \n",
       "53201             0        0            -1    ...    -0.006800 -0.002443   \n",
       "3826              0        0            -1    ...    -0.005367 -0.001934   \n",
       "38932             0        1             0    ...    -0.003085 -0.001117   \n",
       "69850             0        0            -1    ...    -0.002701 -0.000979   \n",
       "71881             0        1             3    ...    -0.024231 -0.008418   \n",
       "36751             0        0             6    ...    -0.008191 -0.002935   \n",
       "4785              0        1            73    ...    -0.001487 -0.000540   \n",
       "42109             1        1            55    ...    -0.008259 -0.002959   \n",
       "96862             1        0             5    ...     0.040851  0.017673   \n",
       "9606              1        1             9    ...    -0.018280 -0.006418   \n",
       "437               1        1            13    ...    -0.014148 -0.005012   \n",
       "65858             1        0             3    ...    -0.019577 -0.006857   \n",
       "56019             0        1            12    ...    -0.044256 -0.014837   \n",
       "20160             0        0             1    ...    -0.004731 -0.001707   \n",
       "52301             0        1            13    ...     0.070462  0.029429   \n",
       "27309             0        0            -1    ...    -0.005671 -0.002042   \n",
       "75302             0        0            -1    ...     0.046270  0.017662   \n",
       "94391             0        0             0    ...    -0.037268 -0.012673   \n",
       "59245             1        1            63    ...    -0.001487 -0.000540   \n",
       "81230             0        1             7    ...    -0.004946 -0.001784   \n",
       "25389             0        0            -1    ...    -0.002701 -0.000979   \n",
       "\n",
       "            N52       N53       N54       N55       N56       N57       N58  \\\n",
       "48402 -0.000552 -0.005107 -0.001731 -0.002332  0.000938 -0.000337 -0.001324   \n",
       "60410 -0.005704 -0.040514 -0.012871 -0.016636  0.006431 -0.002293 -0.008709   \n",
       "72975 -0.000265 -0.002492 -0.000849 -0.001147  0.000463 -0.000166 -0.000656   \n",
       "67428 -0.000548 -0.005067 -0.001718 -0.002315  0.000931 -0.000334 -0.001315   \n",
       "48783 -0.001116 -0.009990 -0.003355 -0.004494  0.001795 -0.000644 -0.002519   \n",
       "22780 -0.000146 -0.001385 -0.000473 -0.000640  0.000259 -0.000093 -0.000367   \n",
       "25354 -0.000302 -0.002837 -0.000966 -0.001305  0.000527 -0.000189 -0.000746   \n",
       "74064 -0.000523 -0.004845 -0.001643 -0.002215  0.000891 -0.000320 -0.001258   \n",
       "21524 -0.000680 -0.006239 -0.002111 -0.002840  0.001140 -0.000409 -0.001608   \n",
       "4157  -0.000302 -0.002837 -0.000966 -0.001305  0.000527 -0.000189 -0.000746   \n",
       "36518 -0.000680 -0.006239 -0.002111 -0.002840  0.001140 -0.000409 -0.001608   \n",
       "20791 -0.005523 -0.039796 -0.012641 -0.016384  0.006351 -0.002265 -0.008615   \n",
       "76985 -0.000454 -0.004221 -0.001433 -0.001933  0.000779 -0.000280 -0.001100   \n",
       "55296 -0.000265 -0.002492 -0.000849 -0.001147  0.000463 -0.000166 -0.000656   \n",
       "75443 -0.000415 -0.003870 -0.001315 -0.001774  0.000715 -0.000257 -0.001011   \n",
       "65933 -0.000415 -0.003870 -0.001315 -0.001774  0.000715 -0.000257 -0.001011   \n",
       "74940 -0.000793 -0.007231 -0.002441 -0.003281  0.001316 -0.000472 -0.001852   \n",
       "52701 -0.000415 -0.003870 -0.001315 -0.001774  0.000715 -0.000257 -0.001011   \n",
       "13314 -0.000483 -0.004480 -0.001521 -0.002050  0.000825 -0.000296 -0.001166   \n",
       "95048 -0.001101 -0.009871 -0.003316 -0.004443  0.001776 -0.000637 -0.002492   \n",
       "14658 -0.000661 -0.006069 -0.002054 -0.002764  0.001110 -0.000399 -0.001565   \n",
       "27566 -0.000191 -0.001808 -0.000617 -0.000834  0.000337 -0.000121 -0.000478   \n",
       "88941 -0.000577 -0.005330 -0.001806 -0.002433  0.000978 -0.000351 -0.001381   \n",
       "22089 -0.000552 -0.005107 -0.001731 -0.002332  0.000938 -0.000337 -0.001324   \n",
       "99892 -0.001268 -0.011247 -0.003768 -0.005041  0.002010 -0.000721 -0.002816   \n",
       "67887 -0.000191 -0.001808 -0.000617 -0.000834  0.000337 -0.000121 -0.000478   \n",
       "39907 -0.001275 -0.011306 -0.003788 -0.005066  0.002020 -0.000725 -0.002829   \n",
       "77842 -0.000806 -0.007343 -0.002479 -0.003331  0.001335 -0.000479 -0.001880   \n",
       "61746 -0.000191 -0.001808 -0.000617 -0.000834  0.000337 -0.000121 -0.000478   \n",
       "1703  -0.000523 -0.004845 -0.001643 -0.002215  0.000891 -0.000320 -0.001258   \n",
       "...         ...       ...       ...       ...       ...       ...       ...   \n",
       "20795 -0.001101 -0.009871 -0.003316 -0.004443  0.001776 -0.000637 -0.002492   \n",
       "31412 -0.003341 -0.026738 -0.008696 -0.011431  0.004497 -0.001606 -0.006183   \n",
       "24394 -0.000191 -0.001808 -0.000617 -0.000834  0.000337 -0.000121 -0.000478   \n",
       "44946 -0.001101 -0.009871 -0.003316 -0.004443  0.001776 -0.000637 -0.002492   \n",
       "37151 -0.001117 -0.009997 -0.003357 -0.004498  0.001796 -0.000645 -0.002520   \n",
       "20443 -0.000624 -0.005741 -0.001944 -0.002617  0.001052 -0.000378 -0.001484   \n",
       "37244 -0.000265 -0.002492 -0.000849 -0.001147  0.000463 -0.000166 -0.000656   \n",
       "5802  -0.000302 -0.002837 -0.000966 -0.001305  0.000527 -0.000189 -0.000746   \n",
       "95423 -0.075522 -0.133170 -0.036289 -0.043009  0.015909 -0.005521 -0.020055   \n",
       "53201 -0.000661 -0.006069 -0.002054 -0.002764  0.001110 -0.000399 -0.001565   \n",
       "3826  -0.000523 -0.004845 -0.001643 -0.002215  0.000891 -0.000320 -0.001258   \n",
       "38932 -0.000302 -0.002837 -0.000966 -0.001305  0.000527 -0.000189 -0.000746   \n",
       "69850 -0.000265 -0.002492 -0.000849 -0.001147  0.000463 -0.000166 -0.000656   \n",
       "71881 -0.002256 -0.018991 -0.006270 -0.008313  0.003286 -0.001178 -0.004561   \n",
       "36751 -0.000793 -0.007231 -0.002441 -0.003281  0.001316 -0.000472 -0.001852   \n",
       "4785  -0.000146 -0.001385 -0.000473 -0.000640  0.000259 -0.000093 -0.000367   \n",
       "42109 -0.000799 -0.007286 -0.002460 -0.003306  0.001326 -0.000476 -0.001866   \n",
       "96862  0.003284  0.056294  0.022063  0.029823 -0.016524  0.005379  0.026080   \n",
       "9606  -0.001730 -0.014955 -0.004975 -0.006628  0.002629 -0.000943 -0.003667   \n",
       "437   -0.001349 -0.011928 -0.003991 -0.005334  0.002127 -0.000763 -0.002977   \n",
       "65858 -0.001846 -0.015865 -0.005269 -0.007011  0.002779 -0.000997 -0.003872   \n",
       "56019 -0.003925 -0.030428 -0.009835 -0.012865  0.005037 -0.001798 -0.006894   \n",
       "20160 -0.000462 -0.004293 -0.001458 -0.001966  0.000792 -0.000284 -0.001119   \n",
       "52301  0.008732  0.163108  0.080530  0.166855 -0.100577  0.047857  0.743475   \n",
       "27309 -0.000552 -0.005107 -0.001731 -0.002332  0.000938 -0.000337 -0.001324   \n",
       "75302  0.005890  0.072712  0.028461  0.046173 -0.018117  0.007338  0.030614   \n",
       "94391 -0.003341 -0.026738 -0.008696 -0.011431  0.004497 -0.001606 -0.006183   \n",
       "59245 -0.000146 -0.001385 -0.000473 -0.000640  0.000259 -0.000093 -0.000367   \n",
       "81230 -0.000483 -0.004480 -0.001521 -0.002050  0.000825 -0.000296 -0.001166   \n",
       "25389 -0.000265 -0.002492 -0.000849 -0.001147  0.000463 -0.000166 -0.000656   \n",
       "\n",
       "            N59  \n",
       "48402 -0.000254  \n",
       "60410 -0.001638  \n",
       "72975 -0.000126  \n",
       "67428 -0.000252  \n",
       "48783 -0.000481  \n",
       "22780 -0.000071  \n",
       "25354 -0.000143  \n",
       "74064 -0.000241  \n",
       "21524 -0.000308  \n",
       "4157  -0.000143  \n",
       "36518 -0.000308  \n",
       "20791 -0.001613  \n",
       "76985 -0.000211  \n",
       "55296 -0.000126  \n",
       "75443 -0.000194  \n",
       "65933 -0.000194  \n",
       "74940 -0.000354  \n",
       "52701 -0.000194  \n",
       "13314 -0.000224  \n",
       "95048 -0.000475  \n",
       "14658 -0.000300  \n",
       "27566 -0.000092  \n",
       "88941 -0.000264  \n",
       "22089 -0.000254  \n",
       "99892 -0.000537  \n",
       "67887 -0.000092  \n",
       "39907 -0.000539  \n",
       "77842 -0.000359  \n",
       "61746 -0.000092  \n",
       "1703  -0.000241  \n",
       "...         ...  \n",
       "20795 -0.000475  \n",
       "31412 -0.001167  \n",
       "24394 -0.000092  \n",
       "44946 -0.000475  \n",
       "37151 -0.000481  \n",
       "20443 -0.000284  \n",
       "37244 -0.000126  \n",
       "5802  -0.000143  \n",
       "95423 -0.003718  \n",
       "53201 -0.000300  \n",
       "3826  -0.000241  \n",
       "38932 -0.000143  \n",
       "69850 -0.000126  \n",
       "71881 -0.000864  \n",
       "36751 -0.000354  \n",
       "4785  -0.000071  \n",
       "42109 -0.000357  \n",
       "96862  0.006430  \n",
       "9606  -0.000696  \n",
       "437   -0.000567  \n",
       "65858 -0.000735  \n",
       "56019 -0.001301  \n",
       "20160 -0.000215  \n",
       "52301 -0.599031  \n",
       "27309 -0.000254  \n",
       "75302  0.005261  \n",
       "94391 -0.001167  \n",
       "59245 -0.000071  \n",
       "81230 -0.000224  \n",
       "25389 -0.000126  \n",
       "\n",
       "[170150 rows x 132 columns]>"
      ]
     },
     "execution_count": 36,
     "metadata": {},
     "output_type": "execute_result"
    }
   ],
   "source": [
    "dataset.info"
   ]
  },
  {
   "cell_type": "markdown",
   "metadata": {},
   "source": [
    "### Feature selection"
   ]
  },
  {
   "cell_type": "markdown",
   "metadata": {},
   "source": [
    "Now we create following arrays for easier access to column names and features.\n"
   ]
  },
  {
   "cell_type": "code",
   "execution_count": 37,
   "metadata": {},
   "outputs": [
    {
     "name": "stdout",
     "output_type": "stream",
     "text": [
      "['Gender' 'Age' 'Scholarship' 'Hipertension' 'Diabetes' 'Alcoholism'\n",
      " 'Handcap' 'SMS_received' 'No-show' 'AwaitingTime' 'AppointmentDate_day'\n",
      " 'AppointmentDate_month' 'PCA0' 'PCA1' 'PCA2' 'PCA3' 'PCA4' 'PCA5' 'PCA6'\n",
      " 'PCA7' 'PCA8' 'PCA9' 'PCA10' 'PCA11' 'PCA12' 'PCA13' 'PCA14' 'PCA15'\n",
      " 'PCA16' 'PCA17' 'PCA18' 'PCA19' 'PCA20' 'PCA21' 'PCA22' 'PCA23' 'PCA24'\n",
      " 'PCA25' 'PCA26' 'PCA27' 'PCA28' 'PCA29' 'PCA30' 'PCA31' 'PCA32' 'PCA33'\n",
      " 'PCA34' 'PCA35' 'PCA36' 'PCA37' 'PCA38' 'PCA39' 'PCA40' 'PCA41' 'PCA42'\n",
      " 'PCA43' 'PCA44' 'PCA45' 'PCA46' 'PCA47' 'PCA48' 'PCA49' 'PCA50' 'PCA51'\n",
      " 'PCA52' 'PCA53' 'PCA54' 'PCA55' 'PCA56' 'PCA57' 'PCA58' 'PCA59' 'N0' 'N1'\n",
      " 'N2' 'N3' 'N4' 'N5' 'N6' 'N7' 'N8' 'N9' 'N10' 'N11' 'N12' 'N13' 'N14'\n",
      " 'N15' 'N16' 'N17' 'N18' 'N19' 'N20' 'N21' 'N22' 'N23' 'N24' 'N25' 'N26'\n",
      " 'N27' 'N28' 'N29' 'N30' 'N31' 'N32' 'N33' 'N34' 'N35' 'N36' 'N37' 'N38'\n",
      " 'N39' 'N40' 'N41' 'N42' 'N43' 'N44' 'N45' 'N46' 'N47' 'N48' 'N49' 'N50'\n",
      " 'N51' 'N52' 'N53' 'N54' 'N55' 'N56' 'N57' 'N58' 'N59']\n",
      "[ True  True  True  True  True  True  True  True False  True  True  True\n",
      "  True  True  True  True  True  True  True  True  True  True  True  True\n",
      "  True  True  True  True  True  True  True  True  True  True  True  True\n",
      "  True  True  True  True  True  True  True  True  True  True  True  True\n",
      "  True  True  True  True  True  True  True  True  True  True  True  True\n",
      "  True  True  True  True  True  True  True  True  True  True  True  True\n",
      "  True  True  True  True  True  True  True  True  True  True  True  True\n",
      "  True  True  True  True  True  True  True  True  True  True  True  True\n",
      "  True  True  True  True  True  True  True  True  True  True  True  True\n",
      "  True  True  True  True  True  True  True  True  True  True  True  True\n",
      "  True  True  True  True  True  True  True  True  True  True  True  True]\n"
     ]
    }
   ],
   "source": [
    "column_names = np.array(dataset.columns)\n",
    "original_features = column_names!='No-show'\n",
    "print(column_names)\n",
    "print(original_features)"
   ]
  },
  {
   "cell_type": "markdown",
   "metadata": {},
   "source": [
    "Create train/test split **X_train, X_test, y_train, y_test**"
   ]
  },
  {
   "cell_type": "code",
   "execution_count": 38,
   "metadata": {},
   "outputs": [
    {
     "name": "stdout",
     "output_type": "stream",
     "text": [
      "Training shapes (X, y):  (136120, 131) (136120,)\n",
      "Testing shapes (X, y):  (34030, 131) (34030,)\n"
     ]
    }
   ],
   "source": [
    "from sklearn.model_selection import train_test_split\n",
    "\n",
    "X = scale(np.array(dataset.loc[:, column_names!='No-show']))  # use what you learned from the cell above this\n",
    "y = np.array(dataset['No-show'])\n",
    "\n",
    "\n",
    "# Create training/validation split\n",
    "X_train, X_test, y_train, y_test = train_test_split(X, y, test_size=0.2)\n",
    "print(\"Training shapes (X, y): \", X_train.shape, y_train.shape)\n",
    "print(\"Testing shapes (X, y): \", X_test.shape, y_test.shape)"
   ]
  },
  {
   "cell_type": "markdown",
   "metadata": {},
   "source": [
    "Fit a feature selector."
   ]
  },
  {
   "cell_type": "code",
   "execution_count": 39,
   "metadata": {},
   "outputs": [
    {
     "name": "stdout",
     "output_type": "stream",
     "text": [
      "['Age' 'Scholarship' 'Hipertension' 'Diabetes' 'SMS_received'\n",
      " 'AwaitingTime' 'AppointmentDate_month' 'PCA3' 'PCA4' 'PCA6' 'PCA8' 'PCA19'\n",
      " 'PCA27' 'N3' 'N4' 'N6' 'N8' 'N19' 'N27' 'N49']\n"
     ]
    }
   ],
   "source": [
    "selector = SelectKBest(f_classif, k=20)\n",
    "selector.fit(X_train, y_train)\n",
    "selected_features = column_names[original_features][selector.get_support()]\n",
    "print(selected_features)"
   ]
  },
  {
   "cell_type": "markdown",
   "metadata": {},
   "source": [
    "## Create a linear SVM classifier"
   ]
  },
  {
   "cell_type": "code",
   "execution_count": 40,
   "metadata": {
    "collapsed": true
   },
   "outputs": [],
   "source": [
    "import tensorflow as tf\n",
    "\n",
    "tf.logging.set_verbosity(tf.logging.ERROR)\n",
    "import tf_threads\n",
    "estimator_config = tf.contrib.learn.RunConfig(session_config=\n",
    "    tf_threads.limit(tf, 4)\n",
    ")"
   ]
  },
  {
   "cell_type": "markdown",
   "metadata": {},
   "source": [
    "Prepare feature columns as TensorFlow placeholders."
   ]
  },
  {
   "cell_type": "code",
   "execution_count": 41,
   "metadata": {
    "collapsed": true
   },
   "outputs": [],
   "source": [
    "feature_columns = [tf.contrib.layers.real_valued_column(i) for i in selected_features]"
   ]
  },
  {
   "cell_type": "markdown",
   "metadata": {},
   "source": [
    "Create SVM classifier"
   ]
  },
  {
   "cell_type": "code",
   "execution_count": 42,
   "metadata": {
    "collapsed": true
   },
   "outputs": [],
   "source": [
    "classifier = tf.contrib.learn.SVM('example_id', feature_columns=feature_columns, l2_regularization=1.0)\n"
   ]
  },
  {
   "cell_type": "markdown",
   "metadata": {},
   "source": [
    "Prepare input_fn() to supply training data."
   ]
  },
  {
   "cell_type": "code",
   "execution_count": 43,
   "metadata": {
    "collapsed": true
   },
   "outputs": [],
   "source": [
    "def input_fn():\n",
    "    X_selected = selector.transform(X_train)\n",
    "    columns = {\n",
    "        feature_name: tf.constant(np.expand_dims(X_train[:, i], 1))\n",
    "            for i,feature_name in enumerate(selected_features)\n",
    "    }\n",
    "    columns['example_id'] = tf.constant([str(i+1) for i in range(len(X_selected))])\n",
    "    labels = tf.constant(y_train)\n",
    "    return columns, labels"
   ]
  },
  {
   "cell_type": "markdown",
   "metadata": {},
   "source": [
    "## Train SVM\n",
    "\n",
    "This may take a few minutes."
   ]
  },
  {
   "cell_type": "code",
   "execution_count": 44,
   "metadata": {},
   "outputs": [
    {
     "name": "stdout",
     "output_type": "stream",
     "text": [
      "CPU times: user 18min 44s, sys: 30.5 s, total: 19min 15s\n",
      "Wall time: 4min 47s\n"
     ]
    },
    {
     "data": {
      "text/plain": [
       "SVM(params={'update_weights_hook': <tensorflow.contrib.learn.python.learn.estimators.linear._SdcaUpdateWeightsHook object at 0x7f16a490df28>, 'optimizer': <tensorflow.contrib.linear_optimizer.python.sdca_optimizer.SDCAOptimizer object at 0x7f16a490def0>, 'head': <tensorflow.contrib.learn.python.learn.estimators.head._BinarySvmHead object at 0x7f16a490df60>, 'feature_columns': [_RealValuedColumn(column_name='Age', dimension=1, default_value=None, dtype=tf.float32, normalizer=None), _RealValuedColumn(column_name='Scholarship', dimension=1, default_value=None, dtype=tf.float32, normalizer=None), _RealValuedColumn(column_name='Hipertension', dimension=1, default_value=None, dtype=tf.float32, normalizer=None), _RealValuedColumn(column_name='Diabetes', dimension=1, default_value=None, dtype=tf.float32, normalizer=None), _RealValuedColumn(column_name='SMS_received', dimension=1, default_value=None, dtype=tf.float32, normalizer=None), _RealValuedColumn(column_name='AwaitingTime', dimension=1, default_value=None, dtype=tf.float32, normalizer=None), _RealValuedColumn(column_name='AppointmentDate_month', dimension=1, default_value=None, dtype=tf.float32, normalizer=None), _RealValuedColumn(column_name='PCA3', dimension=1, default_value=None, dtype=tf.float32, normalizer=None), _RealValuedColumn(column_name='PCA4', dimension=1, default_value=None, dtype=tf.float32, normalizer=None), _RealValuedColumn(column_name='PCA6', dimension=1, default_value=None, dtype=tf.float32, normalizer=None), _RealValuedColumn(column_name='PCA8', dimension=1, default_value=None, dtype=tf.float32, normalizer=None), _RealValuedColumn(column_name='PCA19', dimension=1, default_value=None, dtype=tf.float32, normalizer=None), _RealValuedColumn(column_name='PCA27', dimension=1, default_value=None, dtype=tf.float32, normalizer=None), _RealValuedColumn(column_name='N3', dimension=1, default_value=None, dtype=tf.float32, normalizer=None), _RealValuedColumn(column_name='N4', dimension=1, default_value=None, dtype=tf.float32, normalizer=None), _RealValuedColumn(column_name='N6', dimension=1, default_value=None, dtype=tf.float32, normalizer=None), _RealValuedColumn(column_name='N8', dimension=1, default_value=None, dtype=tf.float32, normalizer=None), _RealValuedColumn(column_name='N19', dimension=1, default_value=None, dtype=tf.float32, normalizer=None), _RealValuedColumn(column_name='N27', dimension=1, default_value=None, dtype=tf.float32, normalizer=None), _RealValuedColumn(column_name='N49', dimension=1, default_value=None, dtype=tf.float32, normalizer=None)], 'weight_column_name': None})"
      ]
     },
     "execution_count": 44,
     "metadata": {},
     "output_type": "execute_result"
    }
   ],
   "source": [
    "%%time\n",
    "\n",
    "classifier.fit(input_fn=input_fn, steps=200)\n"
   ]
  },
  {
   "cell_type": "markdown",
   "metadata": {},
   "source": [
    "## Evaluation\n",
    "\n",
    "First create a predict_fn() to supply data from test dataset."
   ]
  },
  {
   "cell_type": "code",
   "execution_count": 45,
   "metadata": {
    "collapsed": true
   },
   "outputs": [],
   "source": [
    "def predict_fn():\n",
    "    X_selected = selector.transform(X_test)\n",
    "    columns = {\n",
    "        feature_name: tf.constant(np.expand_dims(X_selected[:, i], 1))\n",
    "            for i,feature_name in enumerate(selected_features)\n",
    "    }\n",
    "    columns['example_id'] = tf.constant([str(i+1) for i in range(len(X_selected))])\n",
    "    return columns"
   ]
  },
  {
   "cell_type": "markdown",
   "metadata": {},
   "source": [
    "Make predictions"
   ]
  },
  {
   "cell_type": "code",
   "execution_count": 46,
   "metadata": {
    "collapsed": true
   },
   "outputs": [],
   "source": [
    "y_pred = classifier.predict(input_fn=predict_fn)\n",
    "y_pred = list(map(lambda i: i['classes'], y_pred))"
   ]
  },
  {
   "cell_type": "markdown",
   "metadata": {},
   "source": [
    "Measure accuracy and create confusion matrix."
   ]
  },
  {
   "cell_type": "code",
   "execution_count": 58,
   "metadata": {},
   "outputs": [
    {
     "name": "stdout",
     "output_type": "stream",
     "text": [
      "             precision    recall  f1-score   support\n",
      "\n",
      "          0       0.53      0.76      0.63     16981\n",
      "          1       0.58      0.34      0.43     17049\n",
      "\n",
      "avg / total       0.56      0.55      0.53     34030\n",
      "\n",
      "accuracy score:  0.5476344402\n"
     ]
    },
    {
     "data": {
      "image/png": "[encoded data removed]",
      "text/plain": [
       "<matplotlib.figure.Figure at 0x7f169b82e518>"
      ]
     },
     "metadata": {},
     "output_type": "display_data"
    }
   ],
   "source": [
    "from sklearn.metrics import accuracy_score, confusion_matrix\n",
    "import seaborn as sns\n",
    "import matplotlib.pyplot as plt\n",
    "from sklearn.metrics import classification_report\n",
    "from sklearn.metrics import roc_curve, auc\n",
    "from sklearn.metrics import accuracy_score\n",
    "\n",
    "plt.figure(figsize = (5,4))\n",
    "cm = confusion_matrix(y_test, y_pred)\n",
    "sns.heatmap(cm, annot = True)\n",
    "plt.title('Confusion matrix')\n",
    "plt.ylabel('True label')\n",
    "plt.xlabel('Predicted label')\n",
    "\n",
    "print(classification_report(y_test, y_pred))\n",
    "print(\"accuracy score: \", accuracy_score(y_test, y_pred))\n"
   ]
  },
  {
   "cell_type": "code",
   "execution_count": 59,
   "metadata": {},
   "outputs": [
    {
     "name": "stdout",
     "output_type": "stream",
     "text": [
      "AUC:  0.548051190756\n"
     ]
    },
    {
     "data": {
      "image/png": "[encoded data removed]",
      "text/plain": [
       "<matplotlib.figure.Figure at 0x7f16a2a12278>"
      ]
     },
     "metadata": {},
     "output_type": "display_data"
    }
   ],
   "source": [
    "####ROC curve \n",
    "false_positive_rate, true_positive_rate, thresholds = roc_curve(y_test, y_pred)\n",
    "roc_auc = auc(false_positive_rate, true_positive_rate)\n",
    "\n",
    "print(\"AUC: \", roc_auc)\n",
    "plt.title('Receiver Operating Characteristic')\n",
    "plt.plot(false_positive_rate, true_positive_rate, 'b',\n",
    "label='AUC = %0.2f'% roc_auc)\n",
    "plt.legend(loc='lower right')\n",
    "plt.plot([0,1],[0,1],'r--')\n",
    "plt.xlim([-0.1,1.2])\n",
    "plt.ylim([-0.1,1.2])\n",
    "plt.ylabel('True Positive Rate')\n",
    "plt.xlabel('False Positive Rate')\n",
    "plt.show()"
   ]
  },
  {
   "cell_type": "markdown",
   "metadata": {
    "collapsed": true
   },
   "source": [
    "# Okay, so the model results are slightly better than a coin toss.  At least we got some practice using on our ML workflow!"
   ]
  }
 ],
 "metadata": {
  "kernelspec": {
   "display_name": "Python 3",
   "language": "python",
   "name": "python3"
  },
  "language_info": {
   "codemirror_mode": {
    "name": "ipython",
    "version": 3
   },
   "file_extension": ".py",
   "mimetype": "text/x-python",
   "name": "python",
   "nbconvert_exporter": "python",
   "pygments_lexer": "ipython3",
   "version": "3.4.5"
  }
 },
 "nbformat": 4,
 "nbformat_minor": 2
}
